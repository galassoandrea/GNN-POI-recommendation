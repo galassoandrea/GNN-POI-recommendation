{
  "nbformat": 4,
  "nbformat_minor": 0,
  "metadata": {
    "colab": {
      "provenance": [],
      "gpuType": "T4"
    },
    "kernelspec": {
      "name": "python3",
      "display_name": "Python 3"
    },
    "language_info": {
      "name": "python"
    },
    "widgets": {
      "application/vnd.jupyter.widget-state+json": {
        "4fca896b640045dab22f23aade228395": {
          "model_module": "@jupyter-widgets/controls",
          "model_name": "HBoxModel",
          "model_module_version": "1.5.0",
          "state": {
            "_dom_classes": [],
            "_model_module": "@jupyter-widgets/controls",
            "_model_module_version": "1.5.0",
            "_model_name": "HBoxModel",
            "_view_count": null,
            "_view_module": "@jupyter-widgets/controls",
            "_view_module_version": "1.5.0",
            "_view_name": "HBoxView",
            "box_style": "",
            "children": [
              "IPY_MODEL_0fed4a823ecd47bf839d2cf64e8d64d2",
              "IPY_MODEL_f388ed837b6b4213b2c8bfdfeb6b2b3d",
              "IPY_MODEL_1ea49d10b92d49c6960cd2a14ff70ece"
            ],
            "layout": "IPY_MODEL_ea365e68cc614fc7b00e709594a2cb10"
          }
        },
        "0fed4a823ecd47bf839d2cf64e8d64d2": {
          "model_module": "@jupyter-widgets/controls",
          "model_name": "HTMLModel",
          "model_module_version": "1.5.0",
          "state": {
            "_dom_classes": [],
            "_model_module": "@jupyter-widgets/controls",
            "_model_module_version": "1.5.0",
            "_model_name": "HTMLModel",
            "_view_count": null,
            "_view_module": "@jupyter-widgets/controls",
            "_view_module_version": "1.5.0",
            "_view_name": "HTMLView",
            "description": "",
            "description_tooltip": null,
            "layout": "IPY_MODEL_ecebf8fbf3074d1da58644fe8f6dbe9a",
            "placeholder": "​",
            "style": "IPY_MODEL_e322ee0b832b40d5ad7812725501dbd1",
            "value": "modules.json: 100%"
          }
        },
        "f388ed837b6b4213b2c8bfdfeb6b2b3d": {
          "model_module": "@jupyter-widgets/controls",
          "model_name": "FloatProgressModel",
          "model_module_version": "1.5.0",
          "state": {
            "_dom_classes": [],
            "_model_module": "@jupyter-widgets/controls",
            "_model_module_version": "1.5.0",
            "_model_name": "FloatProgressModel",
            "_view_count": null,
            "_view_module": "@jupyter-widgets/controls",
            "_view_module_version": "1.5.0",
            "_view_name": "ProgressView",
            "bar_style": "success",
            "description": "",
            "description_tooltip": null,
            "layout": "IPY_MODEL_f551ebe347b0425f9059661321721268",
            "max": 349,
            "min": 0,
            "orientation": "horizontal",
            "style": "IPY_MODEL_22db5397b6514c40a3e82a3a4357fb70",
            "value": 349
          }
        },
        "1ea49d10b92d49c6960cd2a14ff70ece": {
          "model_module": "@jupyter-widgets/controls",
          "model_name": "HTMLModel",
          "model_module_version": "1.5.0",
          "state": {
            "_dom_classes": [],
            "_model_module": "@jupyter-widgets/controls",
            "_model_module_version": "1.5.0",
            "_model_name": "HTMLModel",
            "_view_count": null,
            "_view_module": "@jupyter-widgets/controls",
            "_view_module_version": "1.5.0",
            "_view_name": "HTMLView",
            "description": "",
            "description_tooltip": null,
            "layout": "IPY_MODEL_b4acb0d9061f44c8ba6ace1b7c2f8cbb",
            "placeholder": "​",
            "style": "IPY_MODEL_5cfe836e435549e595d22afb4bf7c1f1",
            "value": " 349/349 [00:00&lt;00:00, 17.4kB/s]"
          }
        },
        "ea365e68cc614fc7b00e709594a2cb10": {
          "model_module": "@jupyter-widgets/base",
          "model_name": "LayoutModel",
          "model_module_version": "1.2.0",
          "state": {
            "_model_module": "@jupyter-widgets/base",
            "_model_module_version": "1.2.0",
            "_model_name": "LayoutModel",
            "_view_count": null,
            "_view_module": "@jupyter-widgets/base",
            "_view_module_version": "1.2.0",
            "_view_name": "LayoutView",
            "align_content": null,
            "align_items": null,
            "align_self": null,
            "border": null,
            "bottom": null,
            "display": null,
            "flex": null,
            "flex_flow": null,
            "grid_area": null,
            "grid_auto_columns": null,
            "grid_auto_flow": null,
            "grid_auto_rows": null,
            "grid_column": null,
            "grid_gap": null,
            "grid_row": null,
            "grid_template_areas": null,
            "grid_template_columns": null,
            "grid_template_rows": null,
            "height": null,
            "justify_content": null,
            "justify_items": null,
            "left": null,
            "margin": null,
            "max_height": null,
            "max_width": null,
            "min_height": null,
            "min_width": null,
            "object_fit": null,
            "object_position": null,
            "order": null,
            "overflow": null,
            "overflow_x": null,
            "overflow_y": null,
            "padding": null,
            "right": null,
            "top": null,
            "visibility": null,
            "width": null
          }
        },
        "ecebf8fbf3074d1da58644fe8f6dbe9a": {
          "model_module": "@jupyter-widgets/base",
          "model_name": "LayoutModel",
          "model_module_version": "1.2.0",
          "state": {
            "_model_module": "@jupyter-widgets/base",
            "_model_module_version": "1.2.0",
            "_model_name": "LayoutModel",
            "_view_count": null,
            "_view_module": "@jupyter-widgets/base",
            "_view_module_version": "1.2.0",
            "_view_name": "LayoutView",
            "align_content": null,
            "align_items": null,
            "align_self": null,
            "border": null,
            "bottom": null,
            "display": null,
            "flex": null,
            "flex_flow": null,
            "grid_area": null,
            "grid_auto_columns": null,
            "grid_auto_flow": null,
            "grid_auto_rows": null,
            "grid_column": null,
            "grid_gap": null,
            "grid_row": null,
            "grid_template_areas": null,
            "grid_template_columns": null,
            "grid_template_rows": null,
            "height": null,
            "justify_content": null,
            "justify_items": null,
            "left": null,
            "margin": null,
            "max_height": null,
            "max_width": null,
            "min_height": null,
            "min_width": null,
            "object_fit": null,
            "object_position": null,
            "order": null,
            "overflow": null,
            "overflow_x": null,
            "overflow_y": null,
            "padding": null,
            "right": null,
            "top": null,
            "visibility": null,
            "width": null
          }
        },
        "e322ee0b832b40d5ad7812725501dbd1": {
          "model_module": "@jupyter-widgets/controls",
          "model_name": "DescriptionStyleModel",
          "model_module_version": "1.5.0",
          "state": {
            "_model_module": "@jupyter-widgets/controls",
            "_model_module_version": "1.5.0",
            "_model_name": "DescriptionStyleModel",
            "_view_count": null,
            "_view_module": "@jupyter-widgets/base",
            "_view_module_version": "1.2.0",
            "_view_name": "StyleView",
            "description_width": ""
          }
        },
        "f551ebe347b0425f9059661321721268": {
          "model_module": "@jupyter-widgets/base",
          "model_name": "LayoutModel",
          "model_module_version": "1.2.0",
          "state": {
            "_model_module": "@jupyter-widgets/base",
            "_model_module_version": "1.2.0",
            "_model_name": "LayoutModel",
            "_view_count": null,
            "_view_module": "@jupyter-widgets/base",
            "_view_module_version": "1.2.0",
            "_view_name": "LayoutView",
            "align_content": null,
            "align_items": null,
            "align_self": null,
            "border": null,
            "bottom": null,
            "display": null,
            "flex": null,
            "flex_flow": null,
            "grid_area": null,
            "grid_auto_columns": null,
            "grid_auto_flow": null,
            "grid_auto_rows": null,
            "grid_column": null,
            "grid_gap": null,
            "grid_row": null,
            "grid_template_areas": null,
            "grid_template_columns": null,
            "grid_template_rows": null,
            "height": null,
            "justify_content": null,
            "justify_items": null,
            "left": null,
            "margin": null,
            "max_height": null,
            "max_width": null,
            "min_height": null,
            "min_width": null,
            "object_fit": null,
            "object_position": null,
            "order": null,
            "overflow": null,
            "overflow_x": null,
            "overflow_y": null,
            "padding": null,
            "right": null,
            "top": null,
            "visibility": null,
            "width": null
          }
        },
        "22db5397b6514c40a3e82a3a4357fb70": {
          "model_module": "@jupyter-widgets/controls",
          "model_name": "ProgressStyleModel",
          "model_module_version": "1.5.0",
          "state": {
            "_model_module": "@jupyter-widgets/controls",
            "_model_module_version": "1.5.0",
            "_model_name": "ProgressStyleModel",
            "_view_count": null,
            "_view_module": "@jupyter-widgets/base",
            "_view_module_version": "1.2.0",
            "_view_name": "StyleView",
            "bar_color": null,
            "description_width": ""
          }
        },
        "b4acb0d9061f44c8ba6ace1b7c2f8cbb": {
          "model_module": "@jupyter-widgets/base",
          "model_name": "LayoutModel",
          "model_module_version": "1.2.0",
          "state": {
            "_model_module": "@jupyter-widgets/base",
            "_model_module_version": "1.2.0",
            "_model_name": "LayoutModel",
            "_view_count": null,
            "_view_module": "@jupyter-widgets/base",
            "_view_module_version": "1.2.0",
            "_view_name": "LayoutView",
            "align_content": null,
            "align_items": null,
            "align_self": null,
            "border": null,
            "bottom": null,
            "display": null,
            "flex": null,
            "flex_flow": null,
            "grid_area": null,
            "grid_auto_columns": null,
            "grid_auto_flow": null,
            "grid_auto_rows": null,
            "grid_column": null,
            "grid_gap": null,
            "grid_row": null,
            "grid_template_areas": null,
            "grid_template_columns": null,
            "grid_template_rows": null,
            "height": null,
            "justify_content": null,
            "justify_items": null,
            "left": null,
            "margin": null,
            "max_height": null,
            "max_width": null,
            "min_height": null,
            "min_width": null,
            "object_fit": null,
            "object_position": null,
            "order": null,
            "overflow": null,
            "overflow_x": null,
            "overflow_y": null,
            "padding": null,
            "right": null,
            "top": null,
            "visibility": null,
            "width": null
          }
        },
        "5cfe836e435549e595d22afb4bf7c1f1": {
          "model_module": "@jupyter-widgets/controls",
          "model_name": "DescriptionStyleModel",
          "model_module_version": "1.5.0",
          "state": {
            "_model_module": "@jupyter-widgets/controls",
            "_model_module_version": "1.5.0",
            "_model_name": "DescriptionStyleModel",
            "_view_count": null,
            "_view_module": "@jupyter-widgets/base",
            "_view_module_version": "1.2.0",
            "_view_name": "StyleView",
            "description_width": ""
          }
        },
        "455ea520b89d461eadc086641c3595c9": {
          "model_module": "@jupyter-widgets/controls",
          "model_name": "HBoxModel",
          "model_module_version": "1.5.0",
          "state": {
            "_dom_classes": [],
            "_model_module": "@jupyter-widgets/controls",
            "_model_module_version": "1.5.0",
            "_model_name": "HBoxModel",
            "_view_count": null,
            "_view_module": "@jupyter-widgets/controls",
            "_view_module_version": "1.5.0",
            "_view_name": "HBoxView",
            "box_style": "",
            "children": [
              "IPY_MODEL_aae61274f14b4d27b35f3f1c15350351",
              "IPY_MODEL_70a1df8ff2ef4c4e824bc40699324924",
              "IPY_MODEL_97d38e73575e4913880a9c345f8c4fbb"
            ],
            "layout": "IPY_MODEL_803fa0ec7e2e47e09455ec2ea000cd4b"
          }
        },
        "aae61274f14b4d27b35f3f1c15350351": {
          "model_module": "@jupyter-widgets/controls",
          "model_name": "HTMLModel",
          "model_module_version": "1.5.0",
          "state": {
            "_dom_classes": [],
            "_model_module": "@jupyter-widgets/controls",
            "_model_module_version": "1.5.0",
            "_model_name": "HTMLModel",
            "_view_count": null,
            "_view_module": "@jupyter-widgets/controls",
            "_view_module_version": "1.5.0",
            "_view_name": "HTMLView",
            "description": "",
            "description_tooltip": null,
            "layout": "IPY_MODEL_852abf6b8e6342ca8ecb0c3a87a2f69c",
            "placeholder": "​",
            "style": "IPY_MODEL_5f3c12ab118a414dbe8caa48b13b57d1",
            "value": "config_sentence_transformers.json: 100%"
          }
        },
        "70a1df8ff2ef4c4e824bc40699324924": {
          "model_module": "@jupyter-widgets/controls",
          "model_name": "FloatProgressModel",
          "model_module_version": "1.5.0",
          "state": {
            "_dom_classes": [],
            "_model_module": "@jupyter-widgets/controls",
            "_model_module_version": "1.5.0",
            "_model_name": "FloatProgressModel",
            "_view_count": null,
            "_view_module": "@jupyter-widgets/controls",
            "_view_module_version": "1.5.0",
            "_view_name": "ProgressView",
            "bar_style": "success",
            "description": "",
            "description_tooltip": null,
            "layout": "IPY_MODEL_8a7b13b09ecd41209a345efdbe1e886f",
            "max": 116,
            "min": 0,
            "orientation": "horizontal",
            "style": "IPY_MODEL_d28109d7940d4a54a4f95ccb586c9c93",
            "value": 116
          }
        },
        "97d38e73575e4913880a9c345f8c4fbb": {
          "model_module": "@jupyter-widgets/controls",
          "model_name": "HTMLModel",
          "model_module_version": "1.5.0",
          "state": {
            "_dom_classes": [],
            "_model_module": "@jupyter-widgets/controls",
            "_model_module_version": "1.5.0",
            "_model_name": "HTMLModel",
            "_view_count": null,
            "_view_module": "@jupyter-widgets/controls",
            "_view_module_version": "1.5.0",
            "_view_name": "HTMLView",
            "description": "",
            "description_tooltip": null,
            "layout": "IPY_MODEL_8955bbcf5ca54ecaa6959a12b0c9bd2f",
            "placeholder": "​",
            "style": "IPY_MODEL_55893771cb654a21bfc94372a4c5e121",
            "value": " 116/116 [00:00&lt;00:00, 4.46kB/s]"
          }
        },
        "803fa0ec7e2e47e09455ec2ea000cd4b": {
          "model_module": "@jupyter-widgets/base",
          "model_name": "LayoutModel",
          "model_module_version": "1.2.0",
          "state": {
            "_model_module": "@jupyter-widgets/base",
            "_model_module_version": "1.2.0",
            "_model_name": "LayoutModel",
            "_view_count": null,
            "_view_module": "@jupyter-widgets/base",
            "_view_module_version": "1.2.0",
            "_view_name": "LayoutView",
            "align_content": null,
            "align_items": null,
            "align_self": null,
            "border": null,
            "bottom": null,
            "display": null,
            "flex": null,
            "flex_flow": null,
            "grid_area": null,
            "grid_auto_columns": null,
            "grid_auto_flow": null,
            "grid_auto_rows": null,
            "grid_column": null,
            "grid_gap": null,
            "grid_row": null,
            "grid_template_areas": null,
            "grid_template_columns": null,
            "grid_template_rows": null,
            "height": null,
            "justify_content": null,
            "justify_items": null,
            "left": null,
            "margin": null,
            "max_height": null,
            "max_width": null,
            "min_height": null,
            "min_width": null,
            "object_fit": null,
            "object_position": null,
            "order": null,
            "overflow": null,
            "overflow_x": null,
            "overflow_y": null,
            "padding": null,
            "right": null,
            "top": null,
            "visibility": null,
            "width": null
          }
        },
        "852abf6b8e6342ca8ecb0c3a87a2f69c": {
          "model_module": "@jupyter-widgets/base",
          "model_name": "LayoutModel",
          "model_module_version": "1.2.0",
          "state": {
            "_model_module": "@jupyter-widgets/base",
            "_model_module_version": "1.2.0",
            "_model_name": "LayoutModel",
            "_view_count": null,
            "_view_module": "@jupyter-widgets/base",
            "_view_module_version": "1.2.0",
            "_view_name": "LayoutView",
            "align_content": null,
            "align_items": null,
            "align_self": null,
            "border": null,
            "bottom": null,
            "display": null,
            "flex": null,
            "flex_flow": null,
            "grid_area": null,
            "grid_auto_columns": null,
            "grid_auto_flow": null,
            "grid_auto_rows": null,
            "grid_column": null,
            "grid_gap": null,
            "grid_row": null,
            "grid_template_areas": null,
            "grid_template_columns": null,
            "grid_template_rows": null,
            "height": null,
            "justify_content": null,
            "justify_items": null,
            "left": null,
            "margin": null,
            "max_height": null,
            "max_width": null,
            "min_height": null,
            "min_width": null,
            "object_fit": null,
            "object_position": null,
            "order": null,
            "overflow": null,
            "overflow_x": null,
            "overflow_y": null,
            "padding": null,
            "right": null,
            "top": null,
            "visibility": null,
            "width": null
          }
        },
        "5f3c12ab118a414dbe8caa48b13b57d1": {
          "model_module": "@jupyter-widgets/controls",
          "model_name": "DescriptionStyleModel",
          "model_module_version": "1.5.0",
          "state": {
            "_model_module": "@jupyter-widgets/controls",
            "_model_module_version": "1.5.0",
            "_model_name": "DescriptionStyleModel",
            "_view_count": null,
            "_view_module": "@jupyter-widgets/base",
            "_view_module_version": "1.2.0",
            "_view_name": "StyleView",
            "description_width": ""
          }
        },
        "8a7b13b09ecd41209a345efdbe1e886f": {
          "model_module": "@jupyter-widgets/base",
          "model_name": "LayoutModel",
          "model_module_version": "1.2.0",
          "state": {
            "_model_module": "@jupyter-widgets/base",
            "_model_module_version": "1.2.0",
            "_model_name": "LayoutModel",
            "_view_count": null,
            "_view_module": "@jupyter-widgets/base",
            "_view_module_version": "1.2.0",
            "_view_name": "LayoutView",
            "align_content": null,
            "align_items": null,
            "align_self": null,
            "border": null,
            "bottom": null,
            "display": null,
            "flex": null,
            "flex_flow": null,
            "grid_area": null,
            "grid_auto_columns": null,
            "grid_auto_flow": null,
            "grid_auto_rows": null,
            "grid_column": null,
            "grid_gap": null,
            "grid_row": null,
            "grid_template_areas": null,
            "grid_template_columns": null,
            "grid_template_rows": null,
            "height": null,
            "justify_content": null,
            "justify_items": null,
            "left": null,
            "margin": null,
            "max_height": null,
            "max_width": null,
            "min_height": null,
            "min_width": null,
            "object_fit": null,
            "object_position": null,
            "order": null,
            "overflow": null,
            "overflow_x": null,
            "overflow_y": null,
            "padding": null,
            "right": null,
            "top": null,
            "visibility": null,
            "width": null
          }
        },
        "d28109d7940d4a54a4f95ccb586c9c93": {
          "model_module": "@jupyter-widgets/controls",
          "model_name": "ProgressStyleModel",
          "model_module_version": "1.5.0",
          "state": {
            "_model_module": "@jupyter-widgets/controls",
            "_model_module_version": "1.5.0",
            "_model_name": "ProgressStyleModel",
            "_view_count": null,
            "_view_module": "@jupyter-widgets/base",
            "_view_module_version": "1.2.0",
            "_view_name": "StyleView",
            "bar_color": null,
            "description_width": ""
          }
        },
        "8955bbcf5ca54ecaa6959a12b0c9bd2f": {
          "model_module": "@jupyter-widgets/base",
          "model_name": "LayoutModel",
          "model_module_version": "1.2.0",
          "state": {
            "_model_module": "@jupyter-widgets/base",
            "_model_module_version": "1.2.0",
            "_model_name": "LayoutModel",
            "_view_count": null,
            "_view_module": "@jupyter-widgets/base",
            "_view_module_version": "1.2.0",
            "_view_name": "LayoutView",
            "align_content": null,
            "align_items": null,
            "align_self": null,
            "border": null,
            "bottom": null,
            "display": null,
            "flex": null,
            "flex_flow": null,
            "grid_area": null,
            "grid_auto_columns": null,
            "grid_auto_flow": null,
            "grid_auto_rows": null,
            "grid_column": null,
            "grid_gap": null,
            "grid_row": null,
            "grid_template_areas": null,
            "grid_template_columns": null,
            "grid_template_rows": null,
            "height": null,
            "justify_content": null,
            "justify_items": null,
            "left": null,
            "margin": null,
            "max_height": null,
            "max_width": null,
            "min_height": null,
            "min_width": null,
            "object_fit": null,
            "object_position": null,
            "order": null,
            "overflow": null,
            "overflow_x": null,
            "overflow_y": null,
            "padding": null,
            "right": null,
            "top": null,
            "visibility": null,
            "width": null
          }
        },
        "55893771cb654a21bfc94372a4c5e121": {
          "model_module": "@jupyter-widgets/controls",
          "model_name": "DescriptionStyleModel",
          "model_module_version": "1.5.0",
          "state": {
            "_model_module": "@jupyter-widgets/controls",
            "_model_module_version": "1.5.0",
            "_model_name": "DescriptionStyleModel",
            "_view_count": null,
            "_view_module": "@jupyter-widgets/base",
            "_view_module_version": "1.2.0",
            "_view_name": "StyleView",
            "description_width": ""
          }
        },
        "7d6de11c25b04e52bf753be08c952029": {
          "model_module": "@jupyter-widgets/controls",
          "model_name": "HBoxModel",
          "model_module_version": "1.5.0",
          "state": {
            "_dom_classes": [],
            "_model_module": "@jupyter-widgets/controls",
            "_model_module_version": "1.5.0",
            "_model_name": "HBoxModel",
            "_view_count": null,
            "_view_module": "@jupyter-widgets/controls",
            "_view_module_version": "1.5.0",
            "_view_name": "HBoxView",
            "box_style": "",
            "children": [
              "IPY_MODEL_93f8e6cfff444fe98e105ebe44fc70f2",
              "IPY_MODEL_5fb44a6c76954ef8bf69f6dbd36742a8",
              "IPY_MODEL_e3c8571de2e84a9c90188c63dee9979d"
            ],
            "layout": "IPY_MODEL_478a645c0dda4101b34fe9614f085c54"
          }
        },
        "93f8e6cfff444fe98e105ebe44fc70f2": {
          "model_module": "@jupyter-widgets/controls",
          "model_name": "HTMLModel",
          "model_module_version": "1.5.0",
          "state": {
            "_dom_classes": [],
            "_model_module": "@jupyter-widgets/controls",
            "_model_module_version": "1.5.0",
            "_model_name": "HTMLModel",
            "_view_count": null,
            "_view_module": "@jupyter-widgets/controls",
            "_view_module_version": "1.5.0",
            "_view_name": "HTMLView",
            "description": "",
            "description_tooltip": null,
            "layout": "IPY_MODEL_f374d66b8f9c4af3bff165bdd92b40b4",
            "placeholder": "​",
            "style": "IPY_MODEL_6374848d02054e4ab02f97a950de3f58",
            "value": "README.md: 100%"
          }
        },
        "5fb44a6c76954ef8bf69f6dbd36742a8": {
          "model_module": "@jupyter-widgets/controls",
          "model_name": "FloatProgressModel",
          "model_module_version": "1.5.0",
          "state": {
            "_dom_classes": [],
            "_model_module": "@jupyter-widgets/controls",
            "_model_module_version": "1.5.0",
            "_model_name": "FloatProgressModel",
            "_view_count": null,
            "_view_module": "@jupyter-widgets/controls",
            "_view_module_version": "1.5.0",
            "_view_name": "ProgressView",
            "bar_style": "success",
            "description": "",
            "description_tooltip": null,
            "layout": "IPY_MODEL_eef0b38dd5a34575a999125b4702099b",
            "max": 10659,
            "min": 0,
            "orientation": "horizontal",
            "style": "IPY_MODEL_62e1d8a84c3f43ecab5ec962c26e1264",
            "value": 10659
          }
        },
        "e3c8571de2e84a9c90188c63dee9979d": {
          "model_module": "@jupyter-widgets/controls",
          "model_name": "HTMLModel",
          "model_module_version": "1.5.0",
          "state": {
            "_dom_classes": [],
            "_model_module": "@jupyter-widgets/controls",
            "_model_module_version": "1.5.0",
            "_model_name": "HTMLModel",
            "_view_count": null,
            "_view_module": "@jupyter-widgets/controls",
            "_view_module_version": "1.5.0",
            "_view_name": "HTMLView",
            "description": "",
            "description_tooltip": null,
            "layout": "IPY_MODEL_2323659fedef4844b4354eccc938054f",
            "placeholder": "​",
            "style": "IPY_MODEL_0aa23f7a561f4c6f970ba0260a6f626f",
            "value": " 10.7k/10.7k [00:00&lt;00:00, 733kB/s]"
          }
        },
        "478a645c0dda4101b34fe9614f085c54": {
          "model_module": "@jupyter-widgets/base",
          "model_name": "LayoutModel",
          "model_module_version": "1.2.0",
          "state": {
            "_model_module": "@jupyter-widgets/base",
            "_model_module_version": "1.2.0",
            "_model_name": "LayoutModel",
            "_view_count": null,
            "_view_module": "@jupyter-widgets/base",
            "_view_module_version": "1.2.0",
            "_view_name": "LayoutView",
            "align_content": null,
            "align_items": null,
            "align_self": null,
            "border": null,
            "bottom": null,
            "display": null,
            "flex": null,
            "flex_flow": null,
            "grid_area": null,
            "grid_auto_columns": null,
            "grid_auto_flow": null,
            "grid_auto_rows": null,
            "grid_column": null,
            "grid_gap": null,
            "grid_row": null,
            "grid_template_areas": null,
            "grid_template_columns": null,
            "grid_template_rows": null,
            "height": null,
            "justify_content": null,
            "justify_items": null,
            "left": null,
            "margin": null,
            "max_height": null,
            "max_width": null,
            "min_height": null,
            "min_width": null,
            "object_fit": null,
            "object_position": null,
            "order": null,
            "overflow": null,
            "overflow_x": null,
            "overflow_y": null,
            "padding": null,
            "right": null,
            "top": null,
            "visibility": null,
            "width": null
          }
        },
        "f374d66b8f9c4af3bff165bdd92b40b4": {
          "model_module": "@jupyter-widgets/base",
          "model_name": "LayoutModel",
          "model_module_version": "1.2.0",
          "state": {
            "_model_module": "@jupyter-widgets/base",
            "_model_module_version": "1.2.0",
            "_model_name": "LayoutModel",
            "_view_count": null,
            "_view_module": "@jupyter-widgets/base",
            "_view_module_version": "1.2.0",
            "_view_name": "LayoutView",
            "align_content": null,
            "align_items": null,
            "align_self": null,
            "border": null,
            "bottom": null,
            "display": null,
            "flex": null,
            "flex_flow": null,
            "grid_area": null,
            "grid_auto_columns": null,
            "grid_auto_flow": null,
            "grid_auto_rows": null,
            "grid_column": null,
            "grid_gap": null,
            "grid_row": null,
            "grid_template_areas": null,
            "grid_template_columns": null,
            "grid_template_rows": null,
            "height": null,
            "justify_content": null,
            "justify_items": null,
            "left": null,
            "margin": null,
            "max_height": null,
            "max_width": null,
            "min_height": null,
            "min_width": null,
            "object_fit": null,
            "object_position": null,
            "order": null,
            "overflow": null,
            "overflow_x": null,
            "overflow_y": null,
            "padding": null,
            "right": null,
            "top": null,
            "visibility": null,
            "width": null
          }
        },
        "6374848d02054e4ab02f97a950de3f58": {
          "model_module": "@jupyter-widgets/controls",
          "model_name": "DescriptionStyleModel",
          "model_module_version": "1.5.0",
          "state": {
            "_model_module": "@jupyter-widgets/controls",
            "_model_module_version": "1.5.0",
            "_model_name": "DescriptionStyleModel",
            "_view_count": null,
            "_view_module": "@jupyter-widgets/base",
            "_view_module_version": "1.2.0",
            "_view_name": "StyleView",
            "description_width": ""
          }
        },
        "eef0b38dd5a34575a999125b4702099b": {
          "model_module": "@jupyter-widgets/base",
          "model_name": "LayoutModel",
          "model_module_version": "1.2.0",
          "state": {
            "_model_module": "@jupyter-widgets/base",
            "_model_module_version": "1.2.0",
            "_model_name": "LayoutModel",
            "_view_count": null,
            "_view_module": "@jupyter-widgets/base",
            "_view_module_version": "1.2.0",
            "_view_name": "LayoutView",
            "align_content": null,
            "align_items": null,
            "align_self": null,
            "border": null,
            "bottom": null,
            "display": null,
            "flex": null,
            "flex_flow": null,
            "grid_area": null,
            "grid_auto_columns": null,
            "grid_auto_flow": null,
            "grid_auto_rows": null,
            "grid_column": null,
            "grid_gap": null,
            "grid_row": null,
            "grid_template_areas": null,
            "grid_template_columns": null,
            "grid_template_rows": null,
            "height": null,
            "justify_content": null,
            "justify_items": null,
            "left": null,
            "margin": null,
            "max_height": null,
            "max_width": null,
            "min_height": null,
            "min_width": null,
            "object_fit": null,
            "object_position": null,
            "order": null,
            "overflow": null,
            "overflow_x": null,
            "overflow_y": null,
            "padding": null,
            "right": null,
            "top": null,
            "visibility": null,
            "width": null
          }
        },
        "62e1d8a84c3f43ecab5ec962c26e1264": {
          "model_module": "@jupyter-widgets/controls",
          "model_name": "ProgressStyleModel",
          "model_module_version": "1.5.0",
          "state": {
            "_model_module": "@jupyter-widgets/controls",
            "_model_module_version": "1.5.0",
            "_model_name": "ProgressStyleModel",
            "_view_count": null,
            "_view_module": "@jupyter-widgets/base",
            "_view_module_version": "1.2.0",
            "_view_name": "StyleView",
            "bar_color": null,
            "description_width": ""
          }
        },
        "2323659fedef4844b4354eccc938054f": {
          "model_module": "@jupyter-widgets/base",
          "model_name": "LayoutModel",
          "model_module_version": "1.2.0",
          "state": {
            "_model_module": "@jupyter-widgets/base",
            "_model_module_version": "1.2.0",
            "_model_name": "LayoutModel",
            "_view_count": null,
            "_view_module": "@jupyter-widgets/base",
            "_view_module_version": "1.2.0",
            "_view_name": "LayoutView",
            "align_content": null,
            "align_items": null,
            "align_self": null,
            "border": null,
            "bottom": null,
            "display": null,
            "flex": null,
            "flex_flow": null,
            "grid_area": null,
            "grid_auto_columns": null,
            "grid_auto_flow": null,
            "grid_auto_rows": null,
            "grid_column": null,
            "grid_gap": null,
            "grid_row": null,
            "grid_template_areas": null,
            "grid_template_columns": null,
            "grid_template_rows": null,
            "height": null,
            "justify_content": null,
            "justify_items": null,
            "left": null,
            "margin": null,
            "max_height": null,
            "max_width": null,
            "min_height": null,
            "min_width": null,
            "object_fit": null,
            "object_position": null,
            "order": null,
            "overflow": null,
            "overflow_x": null,
            "overflow_y": null,
            "padding": null,
            "right": null,
            "top": null,
            "visibility": null,
            "width": null
          }
        },
        "0aa23f7a561f4c6f970ba0260a6f626f": {
          "model_module": "@jupyter-widgets/controls",
          "model_name": "DescriptionStyleModel",
          "model_module_version": "1.5.0",
          "state": {
            "_model_module": "@jupyter-widgets/controls",
            "_model_module_version": "1.5.0",
            "_model_name": "DescriptionStyleModel",
            "_view_count": null,
            "_view_module": "@jupyter-widgets/base",
            "_view_module_version": "1.2.0",
            "_view_name": "StyleView",
            "description_width": ""
          }
        },
        "15425703213e4d458dcf75215606f5bd": {
          "model_module": "@jupyter-widgets/controls",
          "model_name": "HBoxModel",
          "model_module_version": "1.5.0",
          "state": {
            "_dom_classes": [],
            "_model_module": "@jupyter-widgets/controls",
            "_model_module_version": "1.5.0",
            "_model_name": "HBoxModel",
            "_view_count": null,
            "_view_module": "@jupyter-widgets/controls",
            "_view_module_version": "1.5.0",
            "_view_name": "HBoxView",
            "box_style": "",
            "children": [
              "IPY_MODEL_eb8e69098cfa4481b6db5bff973aa1ba",
              "IPY_MODEL_dffd1f2b4306461e8012aef1a104b91b",
              "IPY_MODEL_568733aac39d4092abfed374e552ddaf"
            ],
            "layout": "IPY_MODEL_2632c2a4571e4460a14973ec8cc7dc27"
          }
        },
        "eb8e69098cfa4481b6db5bff973aa1ba": {
          "model_module": "@jupyter-widgets/controls",
          "model_name": "HTMLModel",
          "model_module_version": "1.5.0",
          "state": {
            "_dom_classes": [],
            "_model_module": "@jupyter-widgets/controls",
            "_model_module_version": "1.5.0",
            "_model_name": "HTMLModel",
            "_view_count": null,
            "_view_module": "@jupyter-widgets/controls",
            "_view_module_version": "1.5.0",
            "_view_name": "HTMLView",
            "description": "",
            "description_tooltip": null,
            "layout": "IPY_MODEL_cc3d01b96fe743c38ef26eb7d0ba13c7",
            "placeholder": "​",
            "style": "IPY_MODEL_301793984f2349a7bfcebebc581e0de8",
            "value": "sentence_bert_config.json: 100%"
          }
        },
        "dffd1f2b4306461e8012aef1a104b91b": {
          "model_module": "@jupyter-widgets/controls",
          "model_name": "FloatProgressModel",
          "model_module_version": "1.5.0",
          "state": {
            "_dom_classes": [],
            "_model_module": "@jupyter-widgets/controls",
            "_model_module_version": "1.5.0",
            "_model_name": "FloatProgressModel",
            "_view_count": null,
            "_view_module": "@jupyter-widgets/controls",
            "_view_module_version": "1.5.0",
            "_view_name": "ProgressView",
            "bar_style": "success",
            "description": "",
            "description_tooltip": null,
            "layout": "IPY_MODEL_be761638db764a67bbd3d06073606c68",
            "max": 53,
            "min": 0,
            "orientation": "horizontal",
            "style": "IPY_MODEL_3ee563fee1734162bfab7c32ea072ca2",
            "value": 53
          }
        },
        "568733aac39d4092abfed374e552ddaf": {
          "model_module": "@jupyter-widgets/controls",
          "model_name": "HTMLModel",
          "model_module_version": "1.5.0",
          "state": {
            "_dom_classes": [],
            "_model_module": "@jupyter-widgets/controls",
            "_model_module_version": "1.5.0",
            "_model_name": "HTMLModel",
            "_view_count": null,
            "_view_module": "@jupyter-widgets/controls",
            "_view_module_version": "1.5.0",
            "_view_name": "HTMLView",
            "description": "",
            "description_tooltip": null,
            "layout": "IPY_MODEL_54d0710b374744729b6459ac0e95c066",
            "placeholder": "​",
            "style": "IPY_MODEL_a58ddacc9d744315a96e1286be1865f7",
            "value": " 53.0/53.0 [00:00&lt;00:00, 2.95kB/s]"
          }
        },
        "2632c2a4571e4460a14973ec8cc7dc27": {
          "model_module": "@jupyter-widgets/base",
          "model_name": "LayoutModel",
          "model_module_version": "1.2.0",
          "state": {
            "_model_module": "@jupyter-widgets/base",
            "_model_module_version": "1.2.0",
            "_model_name": "LayoutModel",
            "_view_count": null,
            "_view_module": "@jupyter-widgets/base",
            "_view_module_version": "1.2.0",
            "_view_name": "LayoutView",
            "align_content": null,
            "align_items": null,
            "align_self": null,
            "border": null,
            "bottom": null,
            "display": null,
            "flex": null,
            "flex_flow": null,
            "grid_area": null,
            "grid_auto_columns": null,
            "grid_auto_flow": null,
            "grid_auto_rows": null,
            "grid_column": null,
            "grid_gap": null,
            "grid_row": null,
            "grid_template_areas": null,
            "grid_template_columns": null,
            "grid_template_rows": null,
            "height": null,
            "justify_content": null,
            "justify_items": null,
            "left": null,
            "margin": null,
            "max_height": null,
            "max_width": null,
            "min_height": null,
            "min_width": null,
            "object_fit": null,
            "object_position": null,
            "order": null,
            "overflow": null,
            "overflow_x": null,
            "overflow_y": null,
            "padding": null,
            "right": null,
            "top": null,
            "visibility": null,
            "width": null
          }
        },
        "cc3d01b96fe743c38ef26eb7d0ba13c7": {
          "model_module": "@jupyter-widgets/base",
          "model_name": "LayoutModel",
          "model_module_version": "1.2.0",
          "state": {
            "_model_module": "@jupyter-widgets/base",
            "_model_module_version": "1.2.0",
            "_model_name": "LayoutModel",
            "_view_count": null,
            "_view_module": "@jupyter-widgets/base",
            "_view_module_version": "1.2.0",
            "_view_name": "LayoutView",
            "align_content": null,
            "align_items": null,
            "align_self": null,
            "border": null,
            "bottom": null,
            "display": null,
            "flex": null,
            "flex_flow": null,
            "grid_area": null,
            "grid_auto_columns": null,
            "grid_auto_flow": null,
            "grid_auto_rows": null,
            "grid_column": null,
            "grid_gap": null,
            "grid_row": null,
            "grid_template_areas": null,
            "grid_template_columns": null,
            "grid_template_rows": null,
            "height": null,
            "justify_content": null,
            "justify_items": null,
            "left": null,
            "margin": null,
            "max_height": null,
            "max_width": null,
            "min_height": null,
            "min_width": null,
            "object_fit": null,
            "object_position": null,
            "order": null,
            "overflow": null,
            "overflow_x": null,
            "overflow_y": null,
            "padding": null,
            "right": null,
            "top": null,
            "visibility": null,
            "width": null
          }
        },
        "301793984f2349a7bfcebebc581e0de8": {
          "model_module": "@jupyter-widgets/controls",
          "model_name": "DescriptionStyleModel",
          "model_module_version": "1.5.0",
          "state": {
            "_model_module": "@jupyter-widgets/controls",
            "_model_module_version": "1.5.0",
            "_model_name": "DescriptionStyleModel",
            "_view_count": null,
            "_view_module": "@jupyter-widgets/base",
            "_view_module_version": "1.2.0",
            "_view_name": "StyleView",
            "description_width": ""
          }
        },
        "be761638db764a67bbd3d06073606c68": {
          "model_module": "@jupyter-widgets/base",
          "model_name": "LayoutModel",
          "model_module_version": "1.2.0",
          "state": {
            "_model_module": "@jupyter-widgets/base",
            "_model_module_version": "1.2.0",
            "_model_name": "LayoutModel",
            "_view_count": null,
            "_view_module": "@jupyter-widgets/base",
            "_view_module_version": "1.2.0",
            "_view_name": "LayoutView",
            "align_content": null,
            "align_items": null,
            "align_self": null,
            "border": null,
            "bottom": null,
            "display": null,
            "flex": null,
            "flex_flow": null,
            "grid_area": null,
            "grid_auto_columns": null,
            "grid_auto_flow": null,
            "grid_auto_rows": null,
            "grid_column": null,
            "grid_gap": null,
            "grid_row": null,
            "grid_template_areas": null,
            "grid_template_columns": null,
            "grid_template_rows": null,
            "height": null,
            "justify_content": null,
            "justify_items": null,
            "left": null,
            "margin": null,
            "max_height": null,
            "max_width": null,
            "min_height": null,
            "min_width": null,
            "object_fit": null,
            "object_position": null,
            "order": null,
            "overflow": null,
            "overflow_x": null,
            "overflow_y": null,
            "padding": null,
            "right": null,
            "top": null,
            "visibility": null,
            "width": null
          }
        },
        "3ee563fee1734162bfab7c32ea072ca2": {
          "model_module": "@jupyter-widgets/controls",
          "model_name": "ProgressStyleModel",
          "model_module_version": "1.5.0",
          "state": {
            "_model_module": "@jupyter-widgets/controls",
            "_model_module_version": "1.5.0",
            "_model_name": "ProgressStyleModel",
            "_view_count": null,
            "_view_module": "@jupyter-widgets/base",
            "_view_module_version": "1.2.0",
            "_view_name": "StyleView",
            "bar_color": null,
            "description_width": ""
          }
        },
        "54d0710b374744729b6459ac0e95c066": {
          "model_module": "@jupyter-widgets/base",
          "model_name": "LayoutModel",
          "model_module_version": "1.2.0",
          "state": {
            "_model_module": "@jupyter-widgets/base",
            "_model_module_version": "1.2.0",
            "_model_name": "LayoutModel",
            "_view_count": null,
            "_view_module": "@jupyter-widgets/base",
            "_view_module_version": "1.2.0",
            "_view_name": "LayoutView",
            "align_content": null,
            "align_items": null,
            "align_self": null,
            "border": null,
            "bottom": null,
            "display": null,
            "flex": null,
            "flex_flow": null,
            "grid_area": null,
            "grid_auto_columns": null,
            "grid_auto_flow": null,
            "grid_auto_rows": null,
            "grid_column": null,
            "grid_gap": null,
            "grid_row": null,
            "grid_template_areas": null,
            "grid_template_columns": null,
            "grid_template_rows": null,
            "height": null,
            "justify_content": null,
            "justify_items": null,
            "left": null,
            "margin": null,
            "max_height": null,
            "max_width": null,
            "min_height": null,
            "min_width": null,
            "object_fit": null,
            "object_position": null,
            "order": null,
            "overflow": null,
            "overflow_x": null,
            "overflow_y": null,
            "padding": null,
            "right": null,
            "top": null,
            "visibility": null,
            "width": null
          }
        },
        "a58ddacc9d744315a96e1286be1865f7": {
          "model_module": "@jupyter-widgets/controls",
          "model_name": "DescriptionStyleModel",
          "model_module_version": "1.5.0",
          "state": {
            "_model_module": "@jupyter-widgets/controls",
            "_model_module_version": "1.5.0",
            "_model_name": "DescriptionStyleModel",
            "_view_count": null,
            "_view_module": "@jupyter-widgets/base",
            "_view_module_version": "1.2.0",
            "_view_name": "StyleView",
            "description_width": ""
          }
        },
        "9485f50fdf9b44f186f9f12854ebc11c": {
          "model_module": "@jupyter-widgets/controls",
          "model_name": "HBoxModel",
          "model_module_version": "1.5.0",
          "state": {
            "_dom_classes": [],
            "_model_module": "@jupyter-widgets/controls",
            "_model_module_version": "1.5.0",
            "_model_name": "HBoxModel",
            "_view_count": null,
            "_view_module": "@jupyter-widgets/controls",
            "_view_module_version": "1.5.0",
            "_view_name": "HBoxView",
            "box_style": "",
            "children": [
              "IPY_MODEL_eea21ccf94bb461a860f8e4045ede009",
              "IPY_MODEL_4f9a4e67f1414d8592e35744ff880c0c",
              "IPY_MODEL_e9a060d488374ea58c13e89a91847162"
            ],
            "layout": "IPY_MODEL_8ed77eda2d3c404f8af10906757cfa46"
          }
        },
        "eea21ccf94bb461a860f8e4045ede009": {
          "model_module": "@jupyter-widgets/controls",
          "model_name": "HTMLModel",
          "model_module_version": "1.5.0",
          "state": {
            "_dom_classes": [],
            "_model_module": "@jupyter-widgets/controls",
            "_model_module_version": "1.5.0",
            "_model_name": "HTMLModel",
            "_view_count": null,
            "_view_module": "@jupyter-widgets/controls",
            "_view_module_version": "1.5.0",
            "_view_name": "HTMLView",
            "description": "",
            "description_tooltip": null,
            "layout": "IPY_MODEL_90a447edf6b140119302786be5451804",
            "placeholder": "​",
            "style": "IPY_MODEL_2ed89209fb054b7e9aa1fe34499419c0",
            "value": "config.json: 100%"
          }
        },
        "4f9a4e67f1414d8592e35744ff880c0c": {
          "model_module": "@jupyter-widgets/controls",
          "model_name": "FloatProgressModel",
          "model_module_version": "1.5.0",
          "state": {
            "_dom_classes": [],
            "_model_module": "@jupyter-widgets/controls",
            "_model_module_version": "1.5.0",
            "_model_name": "FloatProgressModel",
            "_view_count": null,
            "_view_module": "@jupyter-widgets/controls",
            "_view_module_version": "1.5.0",
            "_view_name": "ProgressView",
            "bar_style": "success",
            "description": "",
            "description_tooltip": null,
            "layout": "IPY_MODEL_2810a2b69e684847826c05095e16a650",
            "max": 612,
            "min": 0,
            "orientation": "horizontal",
            "style": "IPY_MODEL_ac6419bc2a37418792b2ebd6334a34ac",
            "value": 612
          }
        },
        "e9a060d488374ea58c13e89a91847162": {
          "model_module": "@jupyter-widgets/controls",
          "model_name": "HTMLModel",
          "model_module_version": "1.5.0",
          "state": {
            "_dom_classes": [],
            "_model_module": "@jupyter-widgets/controls",
            "_model_module_version": "1.5.0",
            "_model_name": "HTMLModel",
            "_view_count": null,
            "_view_module": "@jupyter-widgets/controls",
            "_view_module_version": "1.5.0",
            "_view_name": "HTMLView",
            "description": "",
            "description_tooltip": null,
            "layout": "IPY_MODEL_35ec2ab3a13e44a3b62ae239adc7ce4d",
            "placeholder": "​",
            "style": "IPY_MODEL_cd9fe0c12bbb4d96b9fb360504d57a2e",
            "value": " 612/612 [00:00&lt;00:00, 35.4kB/s]"
          }
        },
        "8ed77eda2d3c404f8af10906757cfa46": {
          "model_module": "@jupyter-widgets/base",
          "model_name": "LayoutModel",
          "model_module_version": "1.2.0",
          "state": {
            "_model_module": "@jupyter-widgets/base",
            "_model_module_version": "1.2.0",
            "_model_name": "LayoutModel",
            "_view_count": null,
            "_view_module": "@jupyter-widgets/base",
            "_view_module_version": "1.2.0",
            "_view_name": "LayoutView",
            "align_content": null,
            "align_items": null,
            "align_self": null,
            "border": null,
            "bottom": null,
            "display": null,
            "flex": null,
            "flex_flow": null,
            "grid_area": null,
            "grid_auto_columns": null,
            "grid_auto_flow": null,
            "grid_auto_rows": null,
            "grid_column": null,
            "grid_gap": null,
            "grid_row": null,
            "grid_template_areas": null,
            "grid_template_columns": null,
            "grid_template_rows": null,
            "height": null,
            "justify_content": null,
            "justify_items": null,
            "left": null,
            "margin": null,
            "max_height": null,
            "max_width": null,
            "min_height": null,
            "min_width": null,
            "object_fit": null,
            "object_position": null,
            "order": null,
            "overflow": null,
            "overflow_x": null,
            "overflow_y": null,
            "padding": null,
            "right": null,
            "top": null,
            "visibility": null,
            "width": null
          }
        },
        "90a447edf6b140119302786be5451804": {
          "model_module": "@jupyter-widgets/base",
          "model_name": "LayoutModel",
          "model_module_version": "1.2.0",
          "state": {
            "_model_module": "@jupyter-widgets/base",
            "_model_module_version": "1.2.0",
            "_model_name": "LayoutModel",
            "_view_count": null,
            "_view_module": "@jupyter-widgets/base",
            "_view_module_version": "1.2.0",
            "_view_name": "LayoutView",
            "align_content": null,
            "align_items": null,
            "align_self": null,
            "border": null,
            "bottom": null,
            "display": null,
            "flex": null,
            "flex_flow": null,
            "grid_area": null,
            "grid_auto_columns": null,
            "grid_auto_flow": null,
            "grid_auto_rows": null,
            "grid_column": null,
            "grid_gap": null,
            "grid_row": null,
            "grid_template_areas": null,
            "grid_template_columns": null,
            "grid_template_rows": null,
            "height": null,
            "justify_content": null,
            "justify_items": null,
            "left": null,
            "margin": null,
            "max_height": null,
            "max_width": null,
            "min_height": null,
            "min_width": null,
            "object_fit": null,
            "object_position": null,
            "order": null,
            "overflow": null,
            "overflow_x": null,
            "overflow_y": null,
            "padding": null,
            "right": null,
            "top": null,
            "visibility": null,
            "width": null
          }
        },
        "2ed89209fb054b7e9aa1fe34499419c0": {
          "model_module": "@jupyter-widgets/controls",
          "model_name": "DescriptionStyleModel",
          "model_module_version": "1.5.0",
          "state": {
            "_model_module": "@jupyter-widgets/controls",
            "_model_module_version": "1.5.0",
            "_model_name": "DescriptionStyleModel",
            "_view_count": null,
            "_view_module": "@jupyter-widgets/base",
            "_view_module_version": "1.2.0",
            "_view_name": "StyleView",
            "description_width": ""
          }
        },
        "2810a2b69e684847826c05095e16a650": {
          "model_module": "@jupyter-widgets/base",
          "model_name": "LayoutModel",
          "model_module_version": "1.2.0",
          "state": {
            "_model_module": "@jupyter-widgets/base",
            "_model_module_version": "1.2.0",
            "_model_name": "LayoutModel",
            "_view_count": null,
            "_view_module": "@jupyter-widgets/base",
            "_view_module_version": "1.2.0",
            "_view_name": "LayoutView",
            "align_content": null,
            "align_items": null,
            "align_self": null,
            "border": null,
            "bottom": null,
            "display": null,
            "flex": null,
            "flex_flow": null,
            "grid_area": null,
            "grid_auto_columns": null,
            "grid_auto_flow": null,
            "grid_auto_rows": null,
            "grid_column": null,
            "grid_gap": null,
            "grid_row": null,
            "grid_template_areas": null,
            "grid_template_columns": null,
            "grid_template_rows": null,
            "height": null,
            "justify_content": null,
            "justify_items": null,
            "left": null,
            "margin": null,
            "max_height": null,
            "max_width": null,
            "min_height": null,
            "min_width": null,
            "object_fit": null,
            "object_position": null,
            "order": null,
            "overflow": null,
            "overflow_x": null,
            "overflow_y": null,
            "padding": null,
            "right": null,
            "top": null,
            "visibility": null,
            "width": null
          }
        },
        "ac6419bc2a37418792b2ebd6334a34ac": {
          "model_module": "@jupyter-widgets/controls",
          "model_name": "ProgressStyleModel",
          "model_module_version": "1.5.0",
          "state": {
            "_model_module": "@jupyter-widgets/controls",
            "_model_module_version": "1.5.0",
            "_model_name": "ProgressStyleModel",
            "_view_count": null,
            "_view_module": "@jupyter-widgets/base",
            "_view_module_version": "1.2.0",
            "_view_name": "StyleView",
            "bar_color": null,
            "description_width": ""
          }
        },
        "35ec2ab3a13e44a3b62ae239adc7ce4d": {
          "model_module": "@jupyter-widgets/base",
          "model_name": "LayoutModel",
          "model_module_version": "1.2.0",
          "state": {
            "_model_module": "@jupyter-widgets/base",
            "_model_module_version": "1.2.0",
            "_model_name": "LayoutModel",
            "_view_count": null,
            "_view_module": "@jupyter-widgets/base",
            "_view_module_version": "1.2.0",
            "_view_name": "LayoutView",
            "align_content": null,
            "align_items": null,
            "align_self": null,
            "border": null,
            "bottom": null,
            "display": null,
            "flex": null,
            "flex_flow": null,
            "grid_area": null,
            "grid_auto_columns": null,
            "grid_auto_flow": null,
            "grid_auto_rows": null,
            "grid_column": null,
            "grid_gap": null,
            "grid_row": null,
            "grid_template_areas": null,
            "grid_template_columns": null,
            "grid_template_rows": null,
            "height": null,
            "justify_content": null,
            "justify_items": null,
            "left": null,
            "margin": null,
            "max_height": null,
            "max_width": null,
            "min_height": null,
            "min_width": null,
            "object_fit": null,
            "object_position": null,
            "order": null,
            "overflow": null,
            "overflow_x": null,
            "overflow_y": null,
            "padding": null,
            "right": null,
            "top": null,
            "visibility": null,
            "width": null
          }
        },
        "cd9fe0c12bbb4d96b9fb360504d57a2e": {
          "model_module": "@jupyter-widgets/controls",
          "model_name": "DescriptionStyleModel",
          "model_module_version": "1.5.0",
          "state": {
            "_model_module": "@jupyter-widgets/controls",
            "_model_module_version": "1.5.0",
            "_model_name": "DescriptionStyleModel",
            "_view_count": null,
            "_view_module": "@jupyter-widgets/base",
            "_view_module_version": "1.2.0",
            "_view_name": "StyleView",
            "description_width": ""
          }
        },
        "d4e340d761104c0eaed498df9b93b3bb": {
          "model_module": "@jupyter-widgets/controls",
          "model_name": "HBoxModel",
          "model_module_version": "1.5.0",
          "state": {
            "_dom_classes": [],
            "_model_module": "@jupyter-widgets/controls",
            "_model_module_version": "1.5.0",
            "_model_name": "HBoxModel",
            "_view_count": null,
            "_view_module": "@jupyter-widgets/controls",
            "_view_module_version": "1.5.0",
            "_view_name": "HBoxView",
            "box_style": "",
            "children": [
              "IPY_MODEL_79a82922d2094756a8cf058ab3e8c9b7",
              "IPY_MODEL_27c735f31f04431e90bc53e4b605e7a4",
              "IPY_MODEL_de6f428f2c2246cab88c5f82fbb7bc6f"
            ],
            "layout": "IPY_MODEL_cad9f127987d47b5ac8096366d3d1a04"
          }
        },
        "79a82922d2094756a8cf058ab3e8c9b7": {
          "model_module": "@jupyter-widgets/controls",
          "model_name": "HTMLModel",
          "model_module_version": "1.5.0",
          "state": {
            "_dom_classes": [],
            "_model_module": "@jupyter-widgets/controls",
            "_model_module_version": "1.5.0",
            "_model_name": "HTMLModel",
            "_view_count": null,
            "_view_module": "@jupyter-widgets/controls",
            "_view_module_version": "1.5.0",
            "_view_name": "HTMLView",
            "description": "",
            "description_tooltip": null,
            "layout": "IPY_MODEL_3abfa3a60bbf4f74a7b2fae4879807da",
            "placeholder": "​",
            "style": "IPY_MODEL_f89ee75ed8144eea94ae245ea00c4c98",
            "value": "model.safetensors: 100%"
          }
        },
        "27c735f31f04431e90bc53e4b605e7a4": {
          "model_module": "@jupyter-widgets/controls",
          "model_name": "FloatProgressModel",
          "model_module_version": "1.5.0",
          "state": {
            "_dom_classes": [],
            "_model_module": "@jupyter-widgets/controls",
            "_model_module_version": "1.5.0",
            "_model_name": "FloatProgressModel",
            "_view_count": null,
            "_view_module": "@jupyter-widgets/controls",
            "_view_module_version": "1.5.0",
            "_view_name": "ProgressView",
            "bar_style": "success",
            "description": "",
            "description_tooltip": null,
            "layout": "IPY_MODEL_5a5b0092bfc04e15b38d4522ea474d17",
            "max": 90868376,
            "min": 0,
            "orientation": "horizontal",
            "style": "IPY_MODEL_e05b23fe32f64c3282217f5bf960eab4",
            "value": 90868376
          }
        },
        "de6f428f2c2246cab88c5f82fbb7bc6f": {
          "model_module": "@jupyter-widgets/controls",
          "model_name": "HTMLModel",
          "model_module_version": "1.5.0",
          "state": {
            "_dom_classes": [],
            "_model_module": "@jupyter-widgets/controls",
            "_model_module_version": "1.5.0",
            "_model_name": "HTMLModel",
            "_view_count": null,
            "_view_module": "@jupyter-widgets/controls",
            "_view_module_version": "1.5.0",
            "_view_name": "HTMLView",
            "description": "",
            "description_tooltip": null,
            "layout": "IPY_MODEL_de53cd88175b416fbf7d5d2a0426e6a1",
            "placeholder": "​",
            "style": "IPY_MODEL_c84d26829a984671b5ab71b435184d72",
            "value": " 90.9M/90.9M [00:00&lt;00:00, 225MB/s]"
          }
        },
        "cad9f127987d47b5ac8096366d3d1a04": {
          "model_module": "@jupyter-widgets/base",
          "model_name": "LayoutModel",
          "model_module_version": "1.2.0",
          "state": {
            "_model_module": "@jupyter-widgets/base",
            "_model_module_version": "1.2.0",
            "_model_name": "LayoutModel",
            "_view_count": null,
            "_view_module": "@jupyter-widgets/base",
            "_view_module_version": "1.2.0",
            "_view_name": "LayoutView",
            "align_content": null,
            "align_items": null,
            "align_self": null,
            "border": null,
            "bottom": null,
            "display": null,
            "flex": null,
            "flex_flow": null,
            "grid_area": null,
            "grid_auto_columns": null,
            "grid_auto_flow": null,
            "grid_auto_rows": null,
            "grid_column": null,
            "grid_gap": null,
            "grid_row": null,
            "grid_template_areas": null,
            "grid_template_columns": null,
            "grid_template_rows": null,
            "height": null,
            "justify_content": null,
            "justify_items": null,
            "left": null,
            "margin": null,
            "max_height": null,
            "max_width": null,
            "min_height": null,
            "min_width": null,
            "object_fit": null,
            "object_position": null,
            "order": null,
            "overflow": null,
            "overflow_x": null,
            "overflow_y": null,
            "padding": null,
            "right": null,
            "top": null,
            "visibility": null,
            "width": null
          }
        },
        "3abfa3a60bbf4f74a7b2fae4879807da": {
          "model_module": "@jupyter-widgets/base",
          "model_name": "LayoutModel",
          "model_module_version": "1.2.0",
          "state": {
            "_model_module": "@jupyter-widgets/base",
            "_model_module_version": "1.2.0",
            "_model_name": "LayoutModel",
            "_view_count": null,
            "_view_module": "@jupyter-widgets/base",
            "_view_module_version": "1.2.0",
            "_view_name": "LayoutView",
            "align_content": null,
            "align_items": null,
            "align_self": null,
            "border": null,
            "bottom": null,
            "display": null,
            "flex": null,
            "flex_flow": null,
            "grid_area": null,
            "grid_auto_columns": null,
            "grid_auto_flow": null,
            "grid_auto_rows": null,
            "grid_column": null,
            "grid_gap": null,
            "grid_row": null,
            "grid_template_areas": null,
            "grid_template_columns": null,
            "grid_template_rows": null,
            "height": null,
            "justify_content": null,
            "justify_items": null,
            "left": null,
            "margin": null,
            "max_height": null,
            "max_width": null,
            "min_height": null,
            "min_width": null,
            "object_fit": null,
            "object_position": null,
            "order": null,
            "overflow": null,
            "overflow_x": null,
            "overflow_y": null,
            "padding": null,
            "right": null,
            "top": null,
            "visibility": null,
            "width": null
          }
        },
        "f89ee75ed8144eea94ae245ea00c4c98": {
          "model_module": "@jupyter-widgets/controls",
          "model_name": "DescriptionStyleModel",
          "model_module_version": "1.5.0",
          "state": {
            "_model_module": "@jupyter-widgets/controls",
            "_model_module_version": "1.5.0",
            "_model_name": "DescriptionStyleModel",
            "_view_count": null,
            "_view_module": "@jupyter-widgets/base",
            "_view_module_version": "1.2.0",
            "_view_name": "StyleView",
            "description_width": ""
          }
        },
        "5a5b0092bfc04e15b38d4522ea474d17": {
          "model_module": "@jupyter-widgets/base",
          "model_name": "LayoutModel",
          "model_module_version": "1.2.0",
          "state": {
            "_model_module": "@jupyter-widgets/base",
            "_model_module_version": "1.2.0",
            "_model_name": "LayoutModel",
            "_view_count": null,
            "_view_module": "@jupyter-widgets/base",
            "_view_module_version": "1.2.0",
            "_view_name": "LayoutView",
            "align_content": null,
            "align_items": null,
            "align_self": null,
            "border": null,
            "bottom": null,
            "display": null,
            "flex": null,
            "flex_flow": null,
            "grid_area": null,
            "grid_auto_columns": null,
            "grid_auto_flow": null,
            "grid_auto_rows": null,
            "grid_column": null,
            "grid_gap": null,
            "grid_row": null,
            "grid_template_areas": null,
            "grid_template_columns": null,
            "grid_template_rows": null,
            "height": null,
            "justify_content": null,
            "justify_items": null,
            "left": null,
            "margin": null,
            "max_height": null,
            "max_width": null,
            "min_height": null,
            "min_width": null,
            "object_fit": null,
            "object_position": null,
            "order": null,
            "overflow": null,
            "overflow_x": null,
            "overflow_y": null,
            "padding": null,
            "right": null,
            "top": null,
            "visibility": null,
            "width": null
          }
        },
        "e05b23fe32f64c3282217f5bf960eab4": {
          "model_module": "@jupyter-widgets/controls",
          "model_name": "ProgressStyleModel",
          "model_module_version": "1.5.0",
          "state": {
            "_model_module": "@jupyter-widgets/controls",
            "_model_module_version": "1.5.0",
            "_model_name": "ProgressStyleModel",
            "_view_count": null,
            "_view_module": "@jupyter-widgets/base",
            "_view_module_version": "1.2.0",
            "_view_name": "StyleView",
            "bar_color": null,
            "description_width": ""
          }
        },
        "de53cd88175b416fbf7d5d2a0426e6a1": {
          "model_module": "@jupyter-widgets/base",
          "model_name": "LayoutModel",
          "model_module_version": "1.2.0",
          "state": {
            "_model_module": "@jupyter-widgets/base",
            "_model_module_version": "1.2.0",
            "_model_name": "LayoutModel",
            "_view_count": null,
            "_view_module": "@jupyter-widgets/base",
            "_view_module_version": "1.2.0",
            "_view_name": "LayoutView",
            "align_content": null,
            "align_items": null,
            "align_self": null,
            "border": null,
            "bottom": null,
            "display": null,
            "flex": null,
            "flex_flow": null,
            "grid_area": null,
            "grid_auto_columns": null,
            "grid_auto_flow": null,
            "grid_auto_rows": null,
            "grid_column": null,
            "grid_gap": null,
            "grid_row": null,
            "grid_template_areas": null,
            "grid_template_columns": null,
            "grid_template_rows": null,
            "height": null,
            "justify_content": null,
            "justify_items": null,
            "left": null,
            "margin": null,
            "max_height": null,
            "max_width": null,
            "min_height": null,
            "min_width": null,
            "object_fit": null,
            "object_position": null,
            "order": null,
            "overflow": null,
            "overflow_x": null,
            "overflow_y": null,
            "padding": null,
            "right": null,
            "top": null,
            "visibility": null,
            "width": null
          }
        },
        "c84d26829a984671b5ab71b435184d72": {
          "model_module": "@jupyter-widgets/controls",
          "model_name": "DescriptionStyleModel",
          "model_module_version": "1.5.0",
          "state": {
            "_model_module": "@jupyter-widgets/controls",
            "_model_module_version": "1.5.0",
            "_model_name": "DescriptionStyleModel",
            "_view_count": null,
            "_view_module": "@jupyter-widgets/base",
            "_view_module_version": "1.2.0",
            "_view_name": "StyleView",
            "description_width": ""
          }
        },
        "2f5e4e383cd8461db38577cd5f057b46": {
          "model_module": "@jupyter-widgets/controls",
          "model_name": "HBoxModel",
          "model_module_version": "1.5.0",
          "state": {
            "_dom_classes": [],
            "_model_module": "@jupyter-widgets/controls",
            "_model_module_version": "1.5.0",
            "_model_name": "HBoxModel",
            "_view_count": null,
            "_view_module": "@jupyter-widgets/controls",
            "_view_module_version": "1.5.0",
            "_view_name": "HBoxView",
            "box_style": "",
            "children": [
              "IPY_MODEL_212d6887c44f4193b9e24a1ab34bd17b",
              "IPY_MODEL_206b9e0090fe4002a3e61cd7019df6db",
              "IPY_MODEL_4bece8706fe54f08af78424236f30492"
            ],
            "layout": "IPY_MODEL_4ca2f78c17d64e57af3e625cf847173e"
          }
        },
        "212d6887c44f4193b9e24a1ab34bd17b": {
          "model_module": "@jupyter-widgets/controls",
          "model_name": "HTMLModel",
          "model_module_version": "1.5.0",
          "state": {
            "_dom_classes": [],
            "_model_module": "@jupyter-widgets/controls",
            "_model_module_version": "1.5.0",
            "_model_name": "HTMLModel",
            "_view_count": null,
            "_view_module": "@jupyter-widgets/controls",
            "_view_module_version": "1.5.0",
            "_view_name": "HTMLView",
            "description": "",
            "description_tooltip": null,
            "layout": "IPY_MODEL_077d894e4cc74fe692a53b5b499247e9",
            "placeholder": "​",
            "style": "IPY_MODEL_40a24942b7094433b85a7fe9278f4a54",
            "value": "tokenizer_config.json: 100%"
          }
        },
        "206b9e0090fe4002a3e61cd7019df6db": {
          "model_module": "@jupyter-widgets/controls",
          "model_name": "FloatProgressModel",
          "model_module_version": "1.5.0",
          "state": {
            "_dom_classes": [],
            "_model_module": "@jupyter-widgets/controls",
            "_model_module_version": "1.5.0",
            "_model_name": "FloatProgressModel",
            "_view_count": null,
            "_view_module": "@jupyter-widgets/controls",
            "_view_module_version": "1.5.0",
            "_view_name": "ProgressView",
            "bar_style": "success",
            "description": "",
            "description_tooltip": null,
            "layout": "IPY_MODEL_6d08fe9cb09e4c73a9b93c7d4959b471",
            "max": 350,
            "min": 0,
            "orientation": "horizontal",
            "style": "IPY_MODEL_6be72cec114243a19de1c303d6ad7ade",
            "value": 350
          }
        },
        "4bece8706fe54f08af78424236f30492": {
          "model_module": "@jupyter-widgets/controls",
          "model_name": "HTMLModel",
          "model_module_version": "1.5.0",
          "state": {
            "_dom_classes": [],
            "_model_module": "@jupyter-widgets/controls",
            "_model_module_version": "1.5.0",
            "_model_name": "HTMLModel",
            "_view_count": null,
            "_view_module": "@jupyter-widgets/controls",
            "_view_module_version": "1.5.0",
            "_view_name": "HTMLView",
            "description": "",
            "description_tooltip": null,
            "layout": "IPY_MODEL_a2e97f4a8d5743efbda690c45d58c4c0",
            "placeholder": "​",
            "style": "IPY_MODEL_fc6a92fa8f9a4d64a75d32295e0dccd2",
            "value": " 350/350 [00:00&lt;00:00, 26.6kB/s]"
          }
        },
        "4ca2f78c17d64e57af3e625cf847173e": {
          "model_module": "@jupyter-widgets/base",
          "model_name": "LayoutModel",
          "model_module_version": "1.2.0",
          "state": {
            "_model_module": "@jupyter-widgets/base",
            "_model_module_version": "1.2.0",
            "_model_name": "LayoutModel",
            "_view_count": null,
            "_view_module": "@jupyter-widgets/base",
            "_view_module_version": "1.2.0",
            "_view_name": "LayoutView",
            "align_content": null,
            "align_items": null,
            "align_self": null,
            "border": null,
            "bottom": null,
            "display": null,
            "flex": null,
            "flex_flow": null,
            "grid_area": null,
            "grid_auto_columns": null,
            "grid_auto_flow": null,
            "grid_auto_rows": null,
            "grid_column": null,
            "grid_gap": null,
            "grid_row": null,
            "grid_template_areas": null,
            "grid_template_columns": null,
            "grid_template_rows": null,
            "height": null,
            "justify_content": null,
            "justify_items": null,
            "left": null,
            "margin": null,
            "max_height": null,
            "max_width": null,
            "min_height": null,
            "min_width": null,
            "object_fit": null,
            "object_position": null,
            "order": null,
            "overflow": null,
            "overflow_x": null,
            "overflow_y": null,
            "padding": null,
            "right": null,
            "top": null,
            "visibility": null,
            "width": null
          }
        },
        "077d894e4cc74fe692a53b5b499247e9": {
          "model_module": "@jupyter-widgets/base",
          "model_name": "LayoutModel",
          "model_module_version": "1.2.0",
          "state": {
            "_model_module": "@jupyter-widgets/base",
            "_model_module_version": "1.2.0",
            "_model_name": "LayoutModel",
            "_view_count": null,
            "_view_module": "@jupyter-widgets/base",
            "_view_module_version": "1.2.0",
            "_view_name": "LayoutView",
            "align_content": null,
            "align_items": null,
            "align_self": null,
            "border": null,
            "bottom": null,
            "display": null,
            "flex": null,
            "flex_flow": null,
            "grid_area": null,
            "grid_auto_columns": null,
            "grid_auto_flow": null,
            "grid_auto_rows": null,
            "grid_column": null,
            "grid_gap": null,
            "grid_row": null,
            "grid_template_areas": null,
            "grid_template_columns": null,
            "grid_template_rows": null,
            "height": null,
            "justify_content": null,
            "justify_items": null,
            "left": null,
            "margin": null,
            "max_height": null,
            "max_width": null,
            "min_height": null,
            "min_width": null,
            "object_fit": null,
            "object_position": null,
            "order": null,
            "overflow": null,
            "overflow_x": null,
            "overflow_y": null,
            "padding": null,
            "right": null,
            "top": null,
            "visibility": null,
            "width": null
          }
        },
        "40a24942b7094433b85a7fe9278f4a54": {
          "model_module": "@jupyter-widgets/controls",
          "model_name": "DescriptionStyleModel",
          "model_module_version": "1.5.0",
          "state": {
            "_model_module": "@jupyter-widgets/controls",
            "_model_module_version": "1.5.0",
            "_model_name": "DescriptionStyleModel",
            "_view_count": null,
            "_view_module": "@jupyter-widgets/base",
            "_view_module_version": "1.2.0",
            "_view_name": "StyleView",
            "description_width": ""
          }
        },
        "6d08fe9cb09e4c73a9b93c7d4959b471": {
          "model_module": "@jupyter-widgets/base",
          "model_name": "LayoutModel",
          "model_module_version": "1.2.0",
          "state": {
            "_model_module": "@jupyter-widgets/base",
            "_model_module_version": "1.2.0",
            "_model_name": "LayoutModel",
            "_view_count": null,
            "_view_module": "@jupyter-widgets/base",
            "_view_module_version": "1.2.0",
            "_view_name": "LayoutView",
            "align_content": null,
            "align_items": null,
            "align_self": null,
            "border": null,
            "bottom": null,
            "display": null,
            "flex": null,
            "flex_flow": null,
            "grid_area": null,
            "grid_auto_columns": null,
            "grid_auto_flow": null,
            "grid_auto_rows": null,
            "grid_column": null,
            "grid_gap": null,
            "grid_row": null,
            "grid_template_areas": null,
            "grid_template_columns": null,
            "grid_template_rows": null,
            "height": null,
            "justify_content": null,
            "justify_items": null,
            "left": null,
            "margin": null,
            "max_height": null,
            "max_width": null,
            "min_height": null,
            "min_width": null,
            "object_fit": null,
            "object_position": null,
            "order": null,
            "overflow": null,
            "overflow_x": null,
            "overflow_y": null,
            "padding": null,
            "right": null,
            "top": null,
            "visibility": null,
            "width": null
          }
        },
        "6be72cec114243a19de1c303d6ad7ade": {
          "model_module": "@jupyter-widgets/controls",
          "model_name": "ProgressStyleModel",
          "model_module_version": "1.5.0",
          "state": {
            "_model_module": "@jupyter-widgets/controls",
            "_model_module_version": "1.5.0",
            "_model_name": "ProgressStyleModel",
            "_view_count": null,
            "_view_module": "@jupyter-widgets/base",
            "_view_module_version": "1.2.0",
            "_view_name": "StyleView",
            "bar_color": null,
            "description_width": ""
          }
        },
        "a2e97f4a8d5743efbda690c45d58c4c0": {
          "model_module": "@jupyter-widgets/base",
          "model_name": "LayoutModel",
          "model_module_version": "1.2.0",
          "state": {
            "_model_module": "@jupyter-widgets/base",
            "_model_module_version": "1.2.0",
            "_model_name": "LayoutModel",
            "_view_count": null,
            "_view_module": "@jupyter-widgets/base",
            "_view_module_version": "1.2.0",
            "_view_name": "LayoutView",
            "align_content": null,
            "align_items": null,
            "align_self": null,
            "border": null,
            "bottom": null,
            "display": null,
            "flex": null,
            "flex_flow": null,
            "grid_area": null,
            "grid_auto_columns": null,
            "grid_auto_flow": null,
            "grid_auto_rows": null,
            "grid_column": null,
            "grid_gap": null,
            "grid_row": null,
            "grid_template_areas": null,
            "grid_template_columns": null,
            "grid_template_rows": null,
            "height": null,
            "justify_content": null,
            "justify_items": null,
            "left": null,
            "margin": null,
            "max_height": null,
            "max_width": null,
            "min_height": null,
            "min_width": null,
            "object_fit": null,
            "object_position": null,
            "order": null,
            "overflow": null,
            "overflow_x": null,
            "overflow_y": null,
            "padding": null,
            "right": null,
            "top": null,
            "visibility": null,
            "width": null
          }
        },
        "fc6a92fa8f9a4d64a75d32295e0dccd2": {
          "model_module": "@jupyter-widgets/controls",
          "model_name": "DescriptionStyleModel",
          "model_module_version": "1.5.0",
          "state": {
            "_model_module": "@jupyter-widgets/controls",
            "_model_module_version": "1.5.0",
            "_model_name": "DescriptionStyleModel",
            "_view_count": null,
            "_view_module": "@jupyter-widgets/base",
            "_view_module_version": "1.2.0",
            "_view_name": "StyleView",
            "description_width": ""
          }
        },
        "f8c01a9ff28f458faad18f7727f886e2": {
          "model_module": "@jupyter-widgets/controls",
          "model_name": "HBoxModel",
          "model_module_version": "1.5.0",
          "state": {
            "_dom_classes": [],
            "_model_module": "@jupyter-widgets/controls",
            "_model_module_version": "1.5.0",
            "_model_name": "HBoxModel",
            "_view_count": null,
            "_view_module": "@jupyter-widgets/controls",
            "_view_module_version": "1.5.0",
            "_view_name": "HBoxView",
            "box_style": "",
            "children": [
              "IPY_MODEL_1dd892b534574c59af65aa7ba67b72fc",
              "IPY_MODEL_4a674d1bb6da4aaf94e25be4f0a42fad",
              "IPY_MODEL_e90c7aeb613545c1b57cd1bc5caaa8d8"
            ],
            "layout": "IPY_MODEL_f063953d9f2648b090b378bec14cb86a"
          }
        },
        "1dd892b534574c59af65aa7ba67b72fc": {
          "model_module": "@jupyter-widgets/controls",
          "model_name": "HTMLModel",
          "model_module_version": "1.5.0",
          "state": {
            "_dom_classes": [],
            "_model_module": "@jupyter-widgets/controls",
            "_model_module_version": "1.5.0",
            "_model_name": "HTMLModel",
            "_view_count": null,
            "_view_module": "@jupyter-widgets/controls",
            "_view_module_version": "1.5.0",
            "_view_name": "HTMLView",
            "description": "",
            "description_tooltip": null,
            "layout": "IPY_MODEL_df4ddd47577f4cf4be48398f58b30f1d",
            "placeholder": "​",
            "style": "IPY_MODEL_79949caae7a1488ba3ba1854d17da689",
            "value": "vocab.txt: 100%"
          }
        },
        "4a674d1bb6da4aaf94e25be4f0a42fad": {
          "model_module": "@jupyter-widgets/controls",
          "model_name": "FloatProgressModel",
          "model_module_version": "1.5.0",
          "state": {
            "_dom_classes": [],
            "_model_module": "@jupyter-widgets/controls",
            "_model_module_version": "1.5.0",
            "_model_name": "FloatProgressModel",
            "_view_count": null,
            "_view_module": "@jupyter-widgets/controls",
            "_view_module_version": "1.5.0",
            "_view_name": "ProgressView",
            "bar_style": "success",
            "description": "",
            "description_tooltip": null,
            "layout": "IPY_MODEL_ff8c35b179b04507b7490bf340880fce",
            "max": 231508,
            "min": 0,
            "orientation": "horizontal",
            "style": "IPY_MODEL_3d6f657df0234042ae6509df228dbdb6",
            "value": 231508
          }
        },
        "e90c7aeb613545c1b57cd1bc5caaa8d8": {
          "model_module": "@jupyter-widgets/controls",
          "model_name": "HTMLModel",
          "model_module_version": "1.5.0",
          "state": {
            "_dom_classes": [],
            "_model_module": "@jupyter-widgets/controls",
            "_model_module_version": "1.5.0",
            "_model_name": "HTMLModel",
            "_view_count": null,
            "_view_module": "@jupyter-widgets/controls",
            "_view_module_version": "1.5.0",
            "_view_name": "HTMLView",
            "description": "",
            "description_tooltip": null,
            "layout": "IPY_MODEL_af6bb1efbb5e47bda457637f6b62422d",
            "placeholder": "​",
            "style": "IPY_MODEL_9bde14b7534e47048059dfcea16f27b7",
            "value": " 232k/232k [00:00&lt;00:00, 674kB/s]"
          }
        },
        "f063953d9f2648b090b378bec14cb86a": {
          "model_module": "@jupyter-widgets/base",
          "model_name": "LayoutModel",
          "model_module_version": "1.2.0",
          "state": {
            "_model_module": "@jupyter-widgets/base",
            "_model_module_version": "1.2.0",
            "_model_name": "LayoutModel",
            "_view_count": null,
            "_view_module": "@jupyter-widgets/base",
            "_view_module_version": "1.2.0",
            "_view_name": "LayoutView",
            "align_content": null,
            "align_items": null,
            "align_self": null,
            "border": null,
            "bottom": null,
            "display": null,
            "flex": null,
            "flex_flow": null,
            "grid_area": null,
            "grid_auto_columns": null,
            "grid_auto_flow": null,
            "grid_auto_rows": null,
            "grid_column": null,
            "grid_gap": null,
            "grid_row": null,
            "grid_template_areas": null,
            "grid_template_columns": null,
            "grid_template_rows": null,
            "height": null,
            "justify_content": null,
            "justify_items": null,
            "left": null,
            "margin": null,
            "max_height": null,
            "max_width": null,
            "min_height": null,
            "min_width": null,
            "object_fit": null,
            "object_position": null,
            "order": null,
            "overflow": null,
            "overflow_x": null,
            "overflow_y": null,
            "padding": null,
            "right": null,
            "top": null,
            "visibility": null,
            "width": null
          }
        },
        "df4ddd47577f4cf4be48398f58b30f1d": {
          "model_module": "@jupyter-widgets/base",
          "model_name": "LayoutModel",
          "model_module_version": "1.2.0",
          "state": {
            "_model_module": "@jupyter-widgets/base",
            "_model_module_version": "1.2.0",
            "_model_name": "LayoutModel",
            "_view_count": null,
            "_view_module": "@jupyter-widgets/base",
            "_view_module_version": "1.2.0",
            "_view_name": "LayoutView",
            "align_content": null,
            "align_items": null,
            "align_self": null,
            "border": null,
            "bottom": null,
            "display": null,
            "flex": null,
            "flex_flow": null,
            "grid_area": null,
            "grid_auto_columns": null,
            "grid_auto_flow": null,
            "grid_auto_rows": null,
            "grid_column": null,
            "grid_gap": null,
            "grid_row": null,
            "grid_template_areas": null,
            "grid_template_columns": null,
            "grid_template_rows": null,
            "height": null,
            "justify_content": null,
            "justify_items": null,
            "left": null,
            "margin": null,
            "max_height": null,
            "max_width": null,
            "min_height": null,
            "min_width": null,
            "object_fit": null,
            "object_position": null,
            "order": null,
            "overflow": null,
            "overflow_x": null,
            "overflow_y": null,
            "padding": null,
            "right": null,
            "top": null,
            "visibility": null,
            "width": null
          }
        },
        "79949caae7a1488ba3ba1854d17da689": {
          "model_module": "@jupyter-widgets/controls",
          "model_name": "DescriptionStyleModel",
          "model_module_version": "1.5.0",
          "state": {
            "_model_module": "@jupyter-widgets/controls",
            "_model_module_version": "1.5.0",
            "_model_name": "DescriptionStyleModel",
            "_view_count": null,
            "_view_module": "@jupyter-widgets/base",
            "_view_module_version": "1.2.0",
            "_view_name": "StyleView",
            "description_width": ""
          }
        },
        "ff8c35b179b04507b7490bf340880fce": {
          "model_module": "@jupyter-widgets/base",
          "model_name": "LayoutModel",
          "model_module_version": "1.2.0",
          "state": {
            "_model_module": "@jupyter-widgets/base",
            "_model_module_version": "1.2.0",
            "_model_name": "LayoutModel",
            "_view_count": null,
            "_view_module": "@jupyter-widgets/base",
            "_view_module_version": "1.2.0",
            "_view_name": "LayoutView",
            "align_content": null,
            "align_items": null,
            "align_self": null,
            "border": null,
            "bottom": null,
            "display": null,
            "flex": null,
            "flex_flow": null,
            "grid_area": null,
            "grid_auto_columns": null,
            "grid_auto_flow": null,
            "grid_auto_rows": null,
            "grid_column": null,
            "grid_gap": null,
            "grid_row": null,
            "grid_template_areas": null,
            "grid_template_columns": null,
            "grid_template_rows": null,
            "height": null,
            "justify_content": null,
            "justify_items": null,
            "left": null,
            "margin": null,
            "max_height": null,
            "max_width": null,
            "min_height": null,
            "min_width": null,
            "object_fit": null,
            "object_position": null,
            "order": null,
            "overflow": null,
            "overflow_x": null,
            "overflow_y": null,
            "padding": null,
            "right": null,
            "top": null,
            "visibility": null,
            "width": null
          }
        },
        "3d6f657df0234042ae6509df228dbdb6": {
          "model_module": "@jupyter-widgets/controls",
          "model_name": "ProgressStyleModel",
          "model_module_version": "1.5.0",
          "state": {
            "_model_module": "@jupyter-widgets/controls",
            "_model_module_version": "1.5.0",
            "_model_name": "ProgressStyleModel",
            "_view_count": null,
            "_view_module": "@jupyter-widgets/base",
            "_view_module_version": "1.2.0",
            "_view_name": "StyleView",
            "bar_color": null,
            "description_width": ""
          }
        },
        "af6bb1efbb5e47bda457637f6b62422d": {
          "model_module": "@jupyter-widgets/base",
          "model_name": "LayoutModel",
          "model_module_version": "1.2.0",
          "state": {
            "_model_module": "@jupyter-widgets/base",
            "_model_module_version": "1.2.0",
            "_model_name": "LayoutModel",
            "_view_count": null,
            "_view_module": "@jupyter-widgets/base",
            "_view_module_version": "1.2.0",
            "_view_name": "LayoutView",
            "align_content": null,
            "align_items": null,
            "align_self": null,
            "border": null,
            "bottom": null,
            "display": null,
            "flex": null,
            "flex_flow": null,
            "grid_area": null,
            "grid_auto_columns": null,
            "grid_auto_flow": null,
            "grid_auto_rows": null,
            "grid_column": null,
            "grid_gap": null,
            "grid_row": null,
            "grid_template_areas": null,
            "grid_template_columns": null,
            "grid_template_rows": null,
            "height": null,
            "justify_content": null,
            "justify_items": null,
            "left": null,
            "margin": null,
            "max_height": null,
            "max_width": null,
            "min_height": null,
            "min_width": null,
            "object_fit": null,
            "object_position": null,
            "order": null,
            "overflow": null,
            "overflow_x": null,
            "overflow_y": null,
            "padding": null,
            "right": null,
            "top": null,
            "visibility": null,
            "width": null
          }
        },
        "9bde14b7534e47048059dfcea16f27b7": {
          "model_module": "@jupyter-widgets/controls",
          "model_name": "DescriptionStyleModel",
          "model_module_version": "1.5.0",
          "state": {
            "_model_module": "@jupyter-widgets/controls",
            "_model_module_version": "1.5.0",
            "_model_name": "DescriptionStyleModel",
            "_view_count": null,
            "_view_module": "@jupyter-widgets/base",
            "_view_module_version": "1.2.0",
            "_view_name": "StyleView",
            "description_width": ""
          }
        },
        "0780618b081249aba88b1ea50937e81a": {
          "model_module": "@jupyter-widgets/controls",
          "model_name": "HBoxModel",
          "model_module_version": "1.5.0",
          "state": {
            "_dom_classes": [],
            "_model_module": "@jupyter-widgets/controls",
            "_model_module_version": "1.5.0",
            "_model_name": "HBoxModel",
            "_view_count": null,
            "_view_module": "@jupyter-widgets/controls",
            "_view_module_version": "1.5.0",
            "_view_name": "HBoxView",
            "box_style": "",
            "children": [
              "IPY_MODEL_3bbb6d524d2c4037a7f052ed98e5454f",
              "IPY_MODEL_f2d2f42b4c264116ab168130181f7236",
              "IPY_MODEL_0cf4ec998b7a4af8890eb34f743c484e"
            ],
            "layout": "IPY_MODEL_66c647c2b4334747b6f75c9c3c667e5e"
          }
        },
        "3bbb6d524d2c4037a7f052ed98e5454f": {
          "model_module": "@jupyter-widgets/controls",
          "model_name": "HTMLModel",
          "model_module_version": "1.5.0",
          "state": {
            "_dom_classes": [],
            "_model_module": "@jupyter-widgets/controls",
            "_model_module_version": "1.5.0",
            "_model_name": "HTMLModel",
            "_view_count": null,
            "_view_module": "@jupyter-widgets/controls",
            "_view_module_version": "1.5.0",
            "_view_name": "HTMLView",
            "description": "",
            "description_tooltip": null,
            "layout": "IPY_MODEL_343649e9a23e40c0a76e901410c975f6",
            "placeholder": "​",
            "style": "IPY_MODEL_11821ccd16df426bafe09fe5b60e2ae9",
            "value": "tokenizer.json: 100%"
          }
        },
        "f2d2f42b4c264116ab168130181f7236": {
          "model_module": "@jupyter-widgets/controls",
          "model_name": "FloatProgressModel",
          "model_module_version": "1.5.0",
          "state": {
            "_dom_classes": [],
            "_model_module": "@jupyter-widgets/controls",
            "_model_module_version": "1.5.0",
            "_model_name": "FloatProgressModel",
            "_view_count": null,
            "_view_module": "@jupyter-widgets/controls",
            "_view_module_version": "1.5.0",
            "_view_name": "ProgressView",
            "bar_style": "success",
            "description": "",
            "description_tooltip": null,
            "layout": "IPY_MODEL_eb1bcd463b584faa90774a971343b5d6",
            "max": 466247,
            "min": 0,
            "orientation": "horizontal",
            "style": "IPY_MODEL_29630faff94c4a959ba00a1223a21fb3",
            "value": 466247
          }
        },
        "0cf4ec998b7a4af8890eb34f743c484e": {
          "model_module": "@jupyter-widgets/controls",
          "model_name": "HTMLModel",
          "model_module_version": "1.5.0",
          "state": {
            "_dom_classes": [],
            "_model_module": "@jupyter-widgets/controls",
            "_model_module_version": "1.5.0",
            "_model_name": "HTMLModel",
            "_view_count": null,
            "_view_module": "@jupyter-widgets/controls",
            "_view_module_version": "1.5.0",
            "_view_name": "HTMLView",
            "description": "",
            "description_tooltip": null,
            "layout": "IPY_MODEL_378ff24c7ef148deb41a73c8db75a732",
            "placeholder": "​",
            "style": "IPY_MODEL_99b19e25c5914a969240a529fd4677f5",
            "value": " 466k/466k [00:00&lt;00:00, 907kB/s]"
          }
        },
        "66c647c2b4334747b6f75c9c3c667e5e": {
          "model_module": "@jupyter-widgets/base",
          "model_name": "LayoutModel",
          "model_module_version": "1.2.0",
          "state": {
            "_model_module": "@jupyter-widgets/base",
            "_model_module_version": "1.2.0",
            "_model_name": "LayoutModel",
            "_view_count": null,
            "_view_module": "@jupyter-widgets/base",
            "_view_module_version": "1.2.0",
            "_view_name": "LayoutView",
            "align_content": null,
            "align_items": null,
            "align_self": null,
            "border": null,
            "bottom": null,
            "display": null,
            "flex": null,
            "flex_flow": null,
            "grid_area": null,
            "grid_auto_columns": null,
            "grid_auto_flow": null,
            "grid_auto_rows": null,
            "grid_column": null,
            "grid_gap": null,
            "grid_row": null,
            "grid_template_areas": null,
            "grid_template_columns": null,
            "grid_template_rows": null,
            "height": null,
            "justify_content": null,
            "justify_items": null,
            "left": null,
            "margin": null,
            "max_height": null,
            "max_width": null,
            "min_height": null,
            "min_width": null,
            "object_fit": null,
            "object_position": null,
            "order": null,
            "overflow": null,
            "overflow_x": null,
            "overflow_y": null,
            "padding": null,
            "right": null,
            "top": null,
            "visibility": null,
            "width": null
          }
        },
        "343649e9a23e40c0a76e901410c975f6": {
          "model_module": "@jupyter-widgets/base",
          "model_name": "LayoutModel",
          "model_module_version": "1.2.0",
          "state": {
            "_model_module": "@jupyter-widgets/base",
            "_model_module_version": "1.2.0",
            "_model_name": "LayoutModel",
            "_view_count": null,
            "_view_module": "@jupyter-widgets/base",
            "_view_module_version": "1.2.0",
            "_view_name": "LayoutView",
            "align_content": null,
            "align_items": null,
            "align_self": null,
            "border": null,
            "bottom": null,
            "display": null,
            "flex": null,
            "flex_flow": null,
            "grid_area": null,
            "grid_auto_columns": null,
            "grid_auto_flow": null,
            "grid_auto_rows": null,
            "grid_column": null,
            "grid_gap": null,
            "grid_row": null,
            "grid_template_areas": null,
            "grid_template_columns": null,
            "grid_template_rows": null,
            "height": null,
            "justify_content": null,
            "justify_items": null,
            "left": null,
            "margin": null,
            "max_height": null,
            "max_width": null,
            "min_height": null,
            "min_width": null,
            "object_fit": null,
            "object_position": null,
            "order": null,
            "overflow": null,
            "overflow_x": null,
            "overflow_y": null,
            "padding": null,
            "right": null,
            "top": null,
            "visibility": null,
            "width": null
          }
        },
        "11821ccd16df426bafe09fe5b60e2ae9": {
          "model_module": "@jupyter-widgets/controls",
          "model_name": "DescriptionStyleModel",
          "model_module_version": "1.5.0",
          "state": {
            "_model_module": "@jupyter-widgets/controls",
            "_model_module_version": "1.5.0",
            "_model_name": "DescriptionStyleModel",
            "_view_count": null,
            "_view_module": "@jupyter-widgets/base",
            "_view_module_version": "1.2.0",
            "_view_name": "StyleView",
            "description_width": ""
          }
        },
        "eb1bcd463b584faa90774a971343b5d6": {
          "model_module": "@jupyter-widgets/base",
          "model_name": "LayoutModel",
          "model_module_version": "1.2.0",
          "state": {
            "_model_module": "@jupyter-widgets/base",
            "_model_module_version": "1.2.0",
            "_model_name": "LayoutModel",
            "_view_count": null,
            "_view_module": "@jupyter-widgets/base",
            "_view_module_version": "1.2.0",
            "_view_name": "LayoutView",
            "align_content": null,
            "align_items": null,
            "align_self": null,
            "border": null,
            "bottom": null,
            "display": null,
            "flex": null,
            "flex_flow": null,
            "grid_area": null,
            "grid_auto_columns": null,
            "grid_auto_flow": null,
            "grid_auto_rows": null,
            "grid_column": null,
            "grid_gap": null,
            "grid_row": null,
            "grid_template_areas": null,
            "grid_template_columns": null,
            "grid_template_rows": null,
            "height": null,
            "justify_content": null,
            "justify_items": null,
            "left": null,
            "margin": null,
            "max_height": null,
            "max_width": null,
            "min_height": null,
            "min_width": null,
            "object_fit": null,
            "object_position": null,
            "order": null,
            "overflow": null,
            "overflow_x": null,
            "overflow_y": null,
            "padding": null,
            "right": null,
            "top": null,
            "visibility": null,
            "width": null
          }
        },
        "29630faff94c4a959ba00a1223a21fb3": {
          "model_module": "@jupyter-widgets/controls",
          "model_name": "ProgressStyleModel",
          "model_module_version": "1.5.0",
          "state": {
            "_model_module": "@jupyter-widgets/controls",
            "_model_module_version": "1.5.0",
            "_model_name": "ProgressStyleModel",
            "_view_count": null,
            "_view_module": "@jupyter-widgets/base",
            "_view_module_version": "1.2.0",
            "_view_name": "StyleView",
            "bar_color": null,
            "description_width": ""
          }
        },
        "378ff24c7ef148deb41a73c8db75a732": {
          "model_module": "@jupyter-widgets/base",
          "model_name": "LayoutModel",
          "model_module_version": "1.2.0",
          "state": {
            "_model_module": "@jupyter-widgets/base",
            "_model_module_version": "1.2.0",
            "_model_name": "LayoutModel",
            "_view_count": null,
            "_view_module": "@jupyter-widgets/base",
            "_view_module_version": "1.2.0",
            "_view_name": "LayoutView",
            "align_content": null,
            "align_items": null,
            "align_self": null,
            "border": null,
            "bottom": null,
            "display": null,
            "flex": null,
            "flex_flow": null,
            "grid_area": null,
            "grid_auto_columns": null,
            "grid_auto_flow": null,
            "grid_auto_rows": null,
            "grid_column": null,
            "grid_gap": null,
            "grid_row": null,
            "grid_template_areas": null,
            "grid_template_columns": null,
            "grid_template_rows": null,
            "height": null,
            "justify_content": null,
            "justify_items": null,
            "left": null,
            "margin": null,
            "max_height": null,
            "max_width": null,
            "min_height": null,
            "min_width": null,
            "object_fit": null,
            "object_position": null,
            "order": null,
            "overflow": null,
            "overflow_x": null,
            "overflow_y": null,
            "padding": null,
            "right": null,
            "top": null,
            "visibility": null,
            "width": null
          }
        },
        "99b19e25c5914a969240a529fd4677f5": {
          "model_module": "@jupyter-widgets/controls",
          "model_name": "DescriptionStyleModel",
          "model_module_version": "1.5.0",
          "state": {
            "_model_module": "@jupyter-widgets/controls",
            "_model_module_version": "1.5.0",
            "_model_name": "DescriptionStyleModel",
            "_view_count": null,
            "_view_module": "@jupyter-widgets/base",
            "_view_module_version": "1.2.0",
            "_view_name": "StyleView",
            "description_width": ""
          }
        },
        "ed84eadd765e438d905bfae21704a14f": {
          "model_module": "@jupyter-widgets/controls",
          "model_name": "HBoxModel",
          "model_module_version": "1.5.0",
          "state": {
            "_dom_classes": [],
            "_model_module": "@jupyter-widgets/controls",
            "_model_module_version": "1.5.0",
            "_model_name": "HBoxModel",
            "_view_count": null,
            "_view_module": "@jupyter-widgets/controls",
            "_view_module_version": "1.5.0",
            "_view_name": "HBoxView",
            "box_style": "",
            "children": [
              "IPY_MODEL_6d659f9956c84570bf3caa8589ba5f94",
              "IPY_MODEL_018ba75508e84e619b482d2edc3de37f",
              "IPY_MODEL_2ceb501e818f480aa4cbc1bd7211a98e"
            ],
            "layout": "IPY_MODEL_4f4f71ed79914bd78a22c15897e6a786"
          }
        },
        "6d659f9956c84570bf3caa8589ba5f94": {
          "model_module": "@jupyter-widgets/controls",
          "model_name": "HTMLModel",
          "model_module_version": "1.5.0",
          "state": {
            "_dom_classes": [],
            "_model_module": "@jupyter-widgets/controls",
            "_model_module_version": "1.5.0",
            "_model_name": "HTMLModel",
            "_view_count": null,
            "_view_module": "@jupyter-widgets/controls",
            "_view_module_version": "1.5.0",
            "_view_name": "HTMLView",
            "description": "",
            "description_tooltip": null,
            "layout": "IPY_MODEL_35ed7518dd38473bb54889091569e3d4",
            "placeholder": "​",
            "style": "IPY_MODEL_52396e4e7f93471ebba86a45158c9fc8",
            "value": "special_tokens_map.json: 100%"
          }
        },
        "018ba75508e84e619b482d2edc3de37f": {
          "model_module": "@jupyter-widgets/controls",
          "model_name": "FloatProgressModel",
          "model_module_version": "1.5.0",
          "state": {
            "_dom_classes": [],
            "_model_module": "@jupyter-widgets/controls",
            "_model_module_version": "1.5.0",
            "_model_name": "FloatProgressModel",
            "_view_count": null,
            "_view_module": "@jupyter-widgets/controls",
            "_view_module_version": "1.5.0",
            "_view_name": "ProgressView",
            "bar_style": "success",
            "description": "",
            "description_tooltip": null,
            "layout": "IPY_MODEL_73b7df2c64cc4e62a26190c3820b67f6",
            "max": 112,
            "min": 0,
            "orientation": "horizontal",
            "style": "IPY_MODEL_0de4cd75db344d9cb12f0eac68ce3003",
            "value": 112
          }
        },
        "2ceb501e818f480aa4cbc1bd7211a98e": {
          "model_module": "@jupyter-widgets/controls",
          "model_name": "HTMLModel",
          "model_module_version": "1.5.0",
          "state": {
            "_dom_classes": [],
            "_model_module": "@jupyter-widgets/controls",
            "_model_module_version": "1.5.0",
            "_model_name": "HTMLModel",
            "_view_count": null,
            "_view_module": "@jupyter-widgets/controls",
            "_view_module_version": "1.5.0",
            "_view_name": "HTMLView",
            "description": "",
            "description_tooltip": null,
            "layout": "IPY_MODEL_c7ee1be2bc184dd4ba3fcc1fc5af6963",
            "placeholder": "​",
            "style": "IPY_MODEL_e37e54422afe4b898de941127703611e",
            "value": " 112/112 [00:00&lt;00:00, 8.24kB/s]"
          }
        },
        "4f4f71ed79914bd78a22c15897e6a786": {
          "model_module": "@jupyter-widgets/base",
          "model_name": "LayoutModel",
          "model_module_version": "1.2.0",
          "state": {
            "_model_module": "@jupyter-widgets/base",
            "_model_module_version": "1.2.0",
            "_model_name": "LayoutModel",
            "_view_count": null,
            "_view_module": "@jupyter-widgets/base",
            "_view_module_version": "1.2.0",
            "_view_name": "LayoutView",
            "align_content": null,
            "align_items": null,
            "align_self": null,
            "border": null,
            "bottom": null,
            "display": null,
            "flex": null,
            "flex_flow": null,
            "grid_area": null,
            "grid_auto_columns": null,
            "grid_auto_flow": null,
            "grid_auto_rows": null,
            "grid_column": null,
            "grid_gap": null,
            "grid_row": null,
            "grid_template_areas": null,
            "grid_template_columns": null,
            "grid_template_rows": null,
            "height": null,
            "justify_content": null,
            "justify_items": null,
            "left": null,
            "margin": null,
            "max_height": null,
            "max_width": null,
            "min_height": null,
            "min_width": null,
            "object_fit": null,
            "object_position": null,
            "order": null,
            "overflow": null,
            "overflow_x": null,
            "overflow_y": null,
            "padding": null,
            "right": null,
            "top": null,
            "visibility": null,
            "width": null
          }
        },
        "35ed7518dd38473bb54889091569e3d4": {
          "model_module": "@jupyter-widgets/base",
          "model_name": "LayoutModel",
          "model_module_version": "1.2.0",
          "state": {
            "_model_module": "@jupyter-widgets/base",
            "_model_module_version": "1.2.0",
            "_model_name": "LayoutModel",
            "_view_count": null,
            "_view_module": "@jupyter-widgets/base",
            "_view_module_version": "1.2.0",
            "_view_name": "LayoutView",
            "align_content": null,
            "align_items": null,
            "align_self": null,
            "border": null,
            "bottom": null,
            "display": null,
            "flex": null,
            "flex_flow": null,
            "grid_area": null,
            "grid_auto_columns": null,
            "grid_auto_flow": null,
            "grid_auto_rows": null,
            "grid_column": null,
            "grid_gap": null,
            "grid_row": null,
            "grid_template_areas": null,
            "grid_template_columns": null,
            "grid_template_rows": null,
            "height": null,
            "justify_content": null,
            "justify_items": null,
            "left": null,
            "margin": null,
            "max_height": null,
            "max_width": null,
            "min_height": null,
            "min_width": null,
            "object_fit": null,
            "object_position": null,
            "order": null,
            "overflow": null,
            "overflow_x": null,
            "overflow_y": null,
            "padding": null,
            "right": null,
            "top": null,
            "visibility": null,
            "width": null
          }
        },
        "52396e4e7f93471ebba86a45158c9fc8": {
          "model_module": "@jupyter-widgets/controls",
          "model_name": "DescriptionStyleModel",
          "model_module_version": "1.5.0",
          "state": {
            "_model_module": "@jupyter-widgets/controls",
            "_model_module_version": "1.5.0",
            "_model_name": "DescriptionStyleModel",
            "_view_count": null,
            "_view_module": "@jupyter-widgets/base",
            "_view_module_version": "1.2.0",
            "_view_name": "StyleView",
            "description_width": ""
          }
        },
        "73b7df2c64cc4e62a26190c3820b67f6": {
          "model_module": "@jupyter-widgets/base",
          "model_name": "LayoutModel",
          "model_module_version": "1.2.0",
          "state": {
            "_model_module": "@jupyter-widgets/base",
            "_model_module_version": "1.2.0",
            "_model_name": "LayoutModel",
            "_view_count": null,
            "_view_module": "@jupyter-widgets/base",
            "_view_module_version": "1.2.0",
            "_view_name": "LayoutView",
            "align_content": null,
            "align_items": null,
            "align_self": null,
            "border": null,
            "bottom": null,
            "display": null,
            "flex": null,
            "flex_flow": null,
            "grid_area": null,
            "grid_auto_columns": null,
            "grid_auto_flow": null,
            "grid_auto_rows": null,
            "grid_column": null,
            "grid_gap": null,
            "grid_row": null,
            "grid_template_areas": null,
            "grid_template_columns": null,
            "grid_template_rows": null,
            "height": null,
            "justify_content": null,
            "justify_items": null,
            "left": null,
            "margin": null,
            "max_height": null,
            "max_width": null,
            "min_height": null,
            "min_width": null,
            "object_fit": null,
            "object_position": null,
            "order": null,
            "overflow": null,
            "overflow_x": null,
            "overflow_y": null,
            "padding": null,
            "right": null,
            "top": null,
            "visibility": null,
            "width": null
          }
        },
        "0de4cd75db344d9cb12f0eac68ce3003": {
          "model_module": "@jupyter-widgets/controls",
          "model_name": "ProgressStyleModel",
          "model_module_version": "1.5.0",
          "state": {
            "_model_module": "@jupyter-widgets/controls",
            "_model_module_version": "1.5.0",
            "_model_name": "ProgressStyleModel",
            "_view_count": null,
            "_view_module": "@jupyter-widgets/base",
            "_view_module_version": "1.2.0",
            "_view_name": "StyleView",
            "bar_color": null,
            "description_width": ""
          }
        },
        "c7ee1be2bc184dd4ba3fcc1fc5af6963": {
          "model_module": "@jupyter-widgets/base",
          "model_name": "LayoutModel",
          "model_module_version": "1.2.0",
          "state": {
            "_model_module": "@jupyter-widgets/base",
            "_model_module_version": "1.2.0",
            "_model_name": "LayoutModel",
            "_view_count": null,
            "_view_module": "@jupyter-widgets/base",
            "_view_module_version": "1.2.0",
            "_view_name": "LayoutView",
            "align_content": null,
            "align_items": null,
            "align_self": null,
            "border": null,
            "bottom": null,
            "display": null,
            "flex": null,
            "flex_flow": null,
            "grid_area": null,
            "grid_auto_columns": null,
            "grid_auto_flow": null,
            "grid_auto_rows": null,
            "grid_column": null,
            "grid_gap": null,
            "grid_row": null,
            "grid_template_areas": null,
            "grid_template_columns": null,
            "grid_template_rows": null,
            "height": null,
            "justify_content": null,
            "justify_items": null,
            "left": null,
            "margin": null,
            "max_height": null,
            "max_width": null,
            "min_height": null,
            "min_width": null,
            "object_fit": null,
            "object_position": null,
            "order": null,
            "overflow": null,
            "overflow_x": null,
            "overflow_y": null,
            "padding": null,
            "right": null,
            "top": null,
            "visibility": null,
            "width": null
          }
        },
        "e37e54422afe4b898de941127703611e": {
          "model_module": "@jupyter-widgets/controls",
          "model_name": "DescriptionStyleModel",
          "model_module_version": "1.5.0",
          "state": {
            "_model_module": "@jupyter-widgets/controls",
            "_model_module_version": "1.5.0",
            "_model_name": "DescriptionStyleModel",
            "_view_count": null,
            "_view_module": "@jupyter-widgets/base",
            "_view_module_version": "1.2.0",
            "_view_name": "StyleView",
            "description_width": ""
          }
        },
        "7dba2f20885142a8b3d64cc9c7ba166a": {
          "model_module": "@jupyter-widgets/controls",
          "model_name": "HBoxModel",
          "model_module_version": "1.5.0",
          "state": {
            "_dom_classes": [],
            "_model_module": "@jupyter-widgets/controls",
            "_model_module_version": "1.5.0",
            "_model_name": "HBoxModel",
            "_view_count": null,
            "_view_module": "@jupyter-widgets/controls",
            "_view_module_version": "1.5.0",
            "_view_name": "HBoxView",
            "box_style": "",
            "children": [
              "IPY_MODEL_d4d37c1ad4254508a5c4649366f1fcb8",
              "IPY_MODEL_abeb9006097848619023e17900109429",
              "IPY_MODEL_4057c81e92874a4a9d09c8257befe205"
            ],
            "layout": "IPY_MODEL_9c7ddf6d22d54e7cb72e5e1286568705"
          }
        },
        "d4d37c1ad4254508a5c4649366f1fcb8": {
          "model_module": "@jupyter-widgets/controls",
          "model_name": "HTMLModel",
          "model_module_version": "1.5.0",
          "state": {
            "_dom_classes": [],
            "_model_module": "@jupyter-widgets/controls",
            "_model_module_version": "1.5.0",
            "_model_name": "HTMLModel",
            "_view_count": null,
            "_view_module": "@jupyter-widgets/controls",
            "_view_module_version": "1.5.0",
            "_view_name": "HTMLView",
            "description": "",
            "description_tooltip": null,
            "layout": "IPY_MODEL_64d1e4a3a4d14ef290d52dd5e73ad776",
            "placeholder": "​",
            "style": "IPY_MODEL_5eefd73ab87643f788bb141e614cec70",
            "value": "1_Pooling/config.json: 100%"
          }
        },
        "abeb9006097848619023e17900109429": {
          "model_module": "@jupyter-widgets/controls",
          "model_name": "FloatProgressModel",
          "model_module_version": "1.5.0",
          "state": {
            "_dom_classes": [],
            "_model_module": "@jupyter-widgets/controls",
            "_model_module_version": "1.5.0",
            "_model_name": "FloatProgressModel",
            "_view_count": null,
            "_view_module": "@jupyter-widgets/controls",
            "_view_module_version": "1.5.0",
            "_view_name": "ProgressView",
            "bar_style": "success",
            "description": "",
            "description_tooltip": null,
            "layout": "IPY_MODEL_fea286d8d07a42a7997d1fd04b94b060",
            "max": 190,
            "min": 0,
            "orientation": "horizontal",
            "style": "IPY_MODEL_a0992b1b731c4bd9a8c336f3517a122b",
            "value": 190
          }
        },
        "4057c81e92874a4a9d09c8257befe205": {
          "model_module": "@jupyter-widgets/controls",
          "model_name": "HTMLModel",
          "model_module_version": "1.5.0",
          "state": {
            "_dom_classes": [],
            "_model_module": "@jupyter-widgets/controls",
            "_model_module_version": "1.5.0",
            "_model_name": "HTMLModel",
            "_view_count": null,
            "_view_module": "@jupyter-widgets/controls",
            "_view_module_version": "1.5.0",
            "_view_name": "HTMLView",
            "description": "",
            "description_tooltip": null,
            "layout": "IPY_MODEL_ee97cd7cc5704e5fb74306677a97e2ec",
            "placeholder": "​",
            "style": "IPY_MODEL_f5750767500a471088a951cf6bc78242",
            "value": " 190/190 [00:00&lt;00:00, 11.8kB/s]"
          }
        },
        "9c7ddf6d22d54e7cb72e5e1286568705": {
          "model_module": "@jupyter-widgets/base",
          "model_name": "LayoutModel",
          "model_module_version": "1.2.0",
          "state": {
            "_model_module": "@jupyter-widgets/base",
            "_model_module_version": "1.2.0",
            "_model_name": "LayoutModel",
            "_view_count": null,
            "_view_module": "@jupyter-widgets/base",
            "_view_module_version": "1.2.0",
            "_view_name": "LayoutView",
            "align_content": null,
            "align_items": null,
            "align_self": null,
            "border": null,
            "bottom": null,
            "display": null,
            "flex": null,
            "flex_flow": null,
            "grid_area": null,
            "grid_auto_columns": null,
            "grid_auto_flow": null,
            "grid_auto_rows": null,
            "grid_column": null,
            "grid_gap": null,
            "grid_row": null,
            "grid_template_areas": null,
            "grid_template_columns": null,
            "grid_template_rows": null,
            "height": null,
            "justify_content": null,
            "justify_items": null,
            "left": null,
            "margin": null,
            "max_height": null,
            "max_width": null,
            "min_height": null,
            "min_width": null,
            "object_fit": null,
            "object_position": null,
            "order": null,
            "overflow": null,
            "overflow_x": null,
            "overflow_y": null,
            "padding": null,
            "right": null,
            "top": null,
            "visibility": null,
            "width": null
          }
        },
        "64d1e4a3a4d14ef290d52dd5e73ad776": {
          "model_module": "@jupyter-widgets/base",
          "model_name": "LayoutModel",
          "model_module_version": "1.2.0",
          "state": {
            "_model_module": "@jupyter-widgets/base",
            "_model_module_version": "1.2.0",
            "_model_name": "LayoutModel",
            "_view_count": null,
            "_view_module": "@jupyter-widgets/base",
            "_view_module_version": "1.2.0",
            "_view_name": "LayoutView",
            "align_content": null,
            "align_items": null,
            "align_self": null,
            "border": null,
            "bottom": null,
            "display": null,
            "flex": null,
            "flex_flow": null,
            "grid_area": null,
            "grid_auto_columns": null,
            "grid_auto_flow": null,
            "grid_auto_rows": null,
            "grid_column": null,
            "grid_gap": null,
            "grid_row": null,
            "grid_template_areas": null,
            "grid_template_columns": null,
            "grid_template_rows": null,
            "height": null,
            "justify_content": null,
            "justify_items": null,
            "left": null,
            "margin": null,
            "max_height": null,
            "max_width": null,
            "min_height": null,
            "min_width": null,
            "object_fit": null,
            "object_position": null,
            "order": null,
            "overflow": null,
            "overflow_x": null,
            "overflow_y": null,
            "padding": null,
            "right": null,
            "top": null,
            "visibility": null,
            "width": null
          }
        },
        "5eefd73ab87643f788bb141e614cec70": {
          "model_module": "@jupyter-widgets/controls",
          "model_name": "DescriptionStyleModel",
          "model_module_version": "1.5.0",
          "state": {
            "_model_module": "@jupyter-widgets/controls",
            "_model_module_version": "1.5.0",
            "_model_name": "DescriptionStyleModel",
            "_view_count": null,
            "_view_module": "@jupyter-widgets/base",
            "_view_module_version": "1.2.0",
            "_view_name": "StyleView",
            "description_width": ""
          }
        },
        "fea286d8d07a42a7997d1fd04b94b060": {
          "model_module": "@jupyter-widgets/base",
          "model_name": "LayoutModel",
          "model_module_version": "1.2.0",
          "state": {
            "_model_module": "@jupyter-widgets/base",
            "_model_module_version": "1.2.0",
            "_model_name": "LayoutModel",
            "_view_count": null,
            "_view_module": "@jupyter-widgets/base",
            "_view_module_version": "1.2.0",
            "_view_name": "LayoutView",
            "align_content": null,
            "align_items": null,
            "align_self": null,
            "border": null,
            "bottom": null,
            "display": null,
            "flex": null,
            "flex_flow": null,
            "grid_area": null,
            "grid_auto_columns": null,
            "grid_auto_flow": null,
            "grid_auto_rows": null,
            "grid_column": null,
            "grid_gap": null,
            "grid_row": null,
            "grid_template_areas": null,
            "grid_template_columns": null,
            "grid_template_rows": null,
            "height": null,
            "justify_content": null,
            "justify_items": null,
            "left": null,
            "margin": null,
            "max_height": null,
            "max_width": null,
            "min_height": null,
            "min_width": null,
            "object_fit": null,
            "object_position": null,
            "order": null,
            "overflow": null,
            "overflow_x": null,
            "overflow_y": null,
            "padding": null,
            "right": null,
            "top": null,
            "visibility": null,
            "width": null
          }
        },
        "a0992b1b731c4bd9a8c336f3517a122b": {
          "model_module": "@jupyter-widgets/controls",
          "model_name": "ProgressStyleModel",
          "model_module_version": "1.5.0",
          "state": {
            "_model_module": "@jupyter-widgets/controls",
            "_model_module_version": "1.5.0",
            "_model_name": "ProgressStyleModel",
            "_view_count": null,
            "_view_module": "@jupyter-widgets/base",
            "_view_module_version": "1.2.0",
            "_view_name": "StyleView",
            "bar_color": null,
            "description_width": ""
          }
        },
        "ee97cd7cc5704e5fb74306677a97e2ec": {
          "model_module": "@jupyter-widgets/base",
          "model_name": "LayoutModel",
          "model_module_version": "1.2.0",
          "state": {
            "_model_module": "@jupyter-widgets/base",
            "_model_module_version": "1.2.0",
            "_model_name": "LayoutModel",
            "_view_count": null,
            "_view_module": "@jupyter-widgets/base",
            "_view_module_version": "1.2.0",
            "_view_name": "LayoutView",
            "align_content": null,
            "align_items": null,
            "align_self": null,
            "border": null,
            "bottom": null,
            "display": null,
            "flex": null,
            "flex_flow": null,
            "grid_area": null,
            "grid_auto_columns": null,
            "grid_auto_flow": null,
            "grid_auto_rows": null,
            "grid_column": null,
            "grid_gap": null,
            "grid_row": null,
            "grid_template_areas": null,
            "grid_template_columns": null,
            "grid_template_rows": null,
            "height": null,
            "justify_content": null,
            "justify_items": null,
            "left": null,
            "margin": null,
            "max_height": null,
            "max_width": null,
            "min_height": null,
            "min_width": null,
            "object_fit": null,
            "object_position": null,
            "order": null,
            "overflow": null,
            "overflow_x": null,
            "overflow_y": null,
            "padding": null,
            "right": null,
            "top": null,
            "visibility": null,
            "width": null
          }
        },
        "f5750767500a471088a951cf6bc78242": {
          "model_module": "@jupyter-widgets/controls",
          "model_name": "DescriptionStyleModel",
          "model_module_version": "1.5.0",
          "state": {
            "_model_module": "@jupyter-widgets/controls",
            "_model_module_version": "1.5.0",
            "_model_name": "DescriptionStyleModel",
            "_view_count": null,
            "_view_module": "@jupyter-widgets/base",
            "_view_module_version": "1.2.0",
            "_view_name": "StyleView",
            "description_width": ""
          }
        },
        "85bf9d82ccc7459896303e55cd1193bf": {
          "model_module": "@jupyter-widgets/controls",
          "model_name": "HBoxModel",
          "model_module_version": "1.5.0",
          "state": {
            "_dom_classes": [],
            "_model_module": "@jupyter-widgets/controls",
            "_model_module_version": "1.5.0",
            "_model_name": "HBoxModel",
            "_view_count": null,
            "_view_module": "@jupyter-widgets/controls",
            "_view_module_version": "1.5.0",
            "_view_name": "HBoxView",
            "box_style": "",
            "children": [
              "IPY_MODEL_419a5c08efdd4859a54a675157d31ec8",
              "IPY_MODEL_bb09b11cd2eb4f0abcda3eeea872e7e8",
              "IPY_MODEL_24bb6de7e29f42f097d5505d9cd054bb"
            ],
            "layout": "IPY_MODEL_f62088891bc74038a22b565dc626c813"
          }
        },
        "419a5c08efdd4859a54a675157d31ec8": {
          "model_module": "@jupyter-widgets/controls",
          "model_name": "HTMLModel",
          "model_module_version": "1.5.0",
          "state": {
            "_dom_classes": [],
            "_model_module": "@jupyter-widgets/controls",
            "_model_module_version": "1.5.0",
            "_model_name": "HTMLModel",
            "_view_count": null,
            "_view_module": "@jupyter-widgets/controls",
            "_view_module_version": "1.5.0",
            "_view_name": "HTMLView",
            "description": "",
            "description_tooltip": null,
            "layout": "IPY_MODEL_e0822890007046ed8e8056c7bb66515a",
            "placeholder": "​",
            "style": "IPY_MODEL_ec6722f29a6b470da1fa34f9cf4649c6",
            "value": "Batches: 100%"
          }
        },
        "bb09b11cd2eb4f0abcda3eeea872e7e8": {
          "model_module": "@jupyter-widgets/controls",
          "model_name": "FloatProgressModel",
          "model_module_version": "1.5.0",
          "state": {
            "_dom_classes": [],
            "_model_module": "@jupyter-widgets/controls",
            "_model_module_version": "1.5.0",
            "_model_name": "FloatProgressModel",
            "_view_count": null,
            "_view_module": "@jupyter-widgets/controls",
            "_view_module_version": "1.5.0",
            "_view_name": "ProgressView",
            "bar_style": "success",
            "description": "",
            "description_tooltip": null,
            "layout": "IPY_MODEL_3ec4a9fa40e34323912e4a3b5d91be4d",
            "max": 338,
            "min": 0,
            "orientation": "horizontal",
            "style": "IPY_MODEL_38542504fb574c6189a40043cdc89301",
            "value": 338
          }
        },
        "24bb6de7e29f42f097d5505d9cd054bb": {
          "model_module": "@jupyter-widgets/controls",
          "model_name": "HTMLModel",
          "model_module_version": "1.5.0",
          "state": {
            "_dom_classes": [],
            "_model_module": "@jupyter-widgets/controls",
            "_model_module_version": "1.5.0",
            "_model_name": "HTMLModel",
            "_view_count": null,
            "_view_module": "@jupyter-widgets/controls",
            "_view_module_version": "1.5.0",
            "_view_name": "HTMLView",
            "description": "",
            "description_tooltip": null,
            "layout": "IPY_MODEL_fcc52859b9e2458ba3a925e37a2d7c43",
            "placeholder": "​",
            "style": "IPY_MODEL_2d0606ff69224ef08f079238b8ecdbd5",
            "value": " 338/338 [00:03&lt;00:00, 144.73it/s]"
          }
        },
        "f62088891bc74038a22b565dc626c813": {
          "model_module": "@jupyter-widgets/base",
          "model_name": "LayoutModel",
          "model_module_version": "1.2.0",
          "state": {
            "_model_module": "@jupyter-widgets/base",
            "_model_module_version": "1.2.0",
            "_model_name": "LayoutModel",
            "_view_count": null,
            "_view_module": "@jupyter-widgets/base",
            "_view_module_version": "1.2.0",
            "_view_name": "LayoutView",
            "align_content": null,
            "align_items": null,
            "align_self": null,
            "border": null,
            "bottom": null,
            "display": null,
            "flex": null,
            "flex_flow": null,
            "grid_area": null,
            "grid_auto_columns": null,
            "grid_auto_flow": null,
            "grid_auto_rows": null,
            "grid_column": null,
            "grid_gap": null,
            "grid_row": null,
            "grid_template_areas": null,
            "grid_template_columns": null,
            "grid_template_rows": null,
            "height": null,
            "justify_content": null,
            "justify_items": null,
            "left": null,
            "margin": null,
            "max_height": null,
            "max_width": null,
            "min_height": null,
            "min_width": null,
            "object_fit": null,
            "object_position": null,
            "order": null,
            "overflow": null,
            "overflow_x": null,
            "overflow_y": null,
            "padding": null,
            "right": null,
            "top": null,
            "visibility": null,
            "width": null
          }
        },
        "e0822890007046ed8e8056c7bb66515a": {
          "model_module": "@jupyter-widgets/base",
          "model_name": "LayoutModel",
          "model_module_version": "1.2.0",
          "state": {
            "_model_module": "@jupyter-widgets/base",
            "_model_module_version": "1.2.0",
            "_model_name": "LayoutModel",
            "_view_count": null,
            "_view_module": "@jupyter-widgets/base",
            "_view_module_version": "1.2.0",
            "_view_name": "LayoutView",
            "align_content": null,
            "align_items": null,
            "align_self": null,
            "border": null,
            "bottom": null,
            "display": null,
            "flex": null,
            "flex_flow": null,
            "grid_area": null,
            "grid_auto_columns": null,
            "grid_auto_flow": null,
            "grid_auto_rows": null,
            "grid_column": null,
            "grid_gap": null,
            "grid_row": null,
            "grid_template_areas": null,
            "grid_template_columns": null,
            "grid_template_rows": null,
            "height": null,
            "justify_content": null,
            "justify_items": null,
            "left": null,
            "margin": null,
            "max_height": null,
            "max_width": null,
            "min_height": null,
            "min_width": null,
            "object_fit": null,
            "object_position": null,
            "order": null,
            "overflow": null,
            "overflow_x": null,
            "overflow_y": null,
            "padding": null,
            "right": null,
            "top": null,
            "visibility": null,
            "width": null
          }
        },
        "ec6722f29a6b470da1fa34f9cf4649c6": {
          "model_module": "@jupyter-widgets/controls",
          "model_name": "DescriptionStyleModel",
          "model_module_version": "1.5.0",
          "state": {
            "_model_module": "@jupyter-widgets/controls",
            "_model_module_version": "1.5.0",
            "_model_name": "DescriptionStyleModel",
            "_view_count": null,
            "_view_module": "@jupyter-widgets/base",
            "_view_module_version": "1.2.0",
            "_view_name": "StyleView",
            "description_width": ""
          }
        },
        "3ec4a9fa40e34323912e4a3b5d91be4d": {
          "model_module": "@jupyter-widgets/base",
          "model_name": "LayoutModel",
          "model_module_version": "1.2.0",
          "state": {
            "_model_module": "@jupyter-widgets/base",
            "_model_module_version": "1.2.0",
            "_model_name": "LayoutModel",
            "_view_count": null,
            "_view_module": "@jupyter-widgets/base",
            "_view_module_version": "1.2.0",
            "_view_name": "LayoutView",
            "align_content": null,
            "align_items": null,
            "align_self": null,
            "border": null,
            "bottom": null,
            "display": null,
            "flex": null,
            "flex_flow": null,
            "grid_area": null,
            "grid_auto_columns": null,
            "grid_auto_flow": null,
            "grid_auto_rows": null,
            "grid_column": null,
            "grid_gap": null,
            "grid_row": null,
            "grid_template_areas": null,
            "grid_template_columns": null,
            "grid_template_rows": null,
            "height": null,
            "justify_content": null,
            "justify_items": null,
            "left": null,
            "margin": null,
            "max_height": null,
            "max_width": null,
            "min_height": null,
            "min_width": null,
            "object_fit": null,
            "object_position": null,
            "order": null,
            "overflow": null,
            "overflow_x": null,
            "overflow_y": null,
            "padding": null,
            "right": null,
            "top": null,
            "visibility": null,
            "width": null
          }
        },
        "38542504fb574c6189a40043cdc89301": {
          "model_module": "@jupyter-widgets/controls",
          "model_name": "ProgressStyleModel",
          "model_module_version": "1.5.0",
          "state": {
            "_model_module": "@jupyter-widgets/controls",
            "_model_module_version": "1.5.0",
            "_model_name": "ProgressStyleModel",
            "_view_count": null,
            "_view_module": "@jupyter-widgets/base",
            "_view_module_version": "1.2.0",
            "_view_name": "StyleView",
            "bar_color": null,
            "description_width": ""
          }
        },
        "fcc52859b9e2458ba3a925e37a2d7c43": {
          "model_module": "@jupyter-widgets/base",
          "model_name": "LayoutModel",
          "model_module_version": "1.2.0",
          "state": {
            "_model_module": "@jupyter-widgets/base",
            "_model_module_version": "1.2.0",
            "_model_name": "LayoutModel",
            "_view_count": null,
            "_view_module": "@jupyter-widgets/base",
            "_view_module_version": "1.2.0",
            "_view_name": "LayoutView",
            "align_content": null,
            "align_items": null,
            "align_self": null,
            "border": null,
            "bottom": null,
            "display": null,
            "flex": null,
            "flex_flow": null,
            "grid_area": null,
            "grid_auto_columns": null,
            "grid_auto_flow": null,
            "grid_auto_rows": null,
            "grid_column": null,
            "grid_gap": null,
            "grid_row": null,
            "grid_template_areas": null,
            "grid_template_columns": null,
            "grid_template_rows": null,
            "height": null,
            "justify_content": null,
            "justify_items": null,
            "left": null,
            "margin": null,
            "max_height": null,
            "max_width": null,
            "min_height": null,
            "min_width": null,
            "object_fit": null,
            "object_position": null,
            "order": null,
            "overflow": null,
            "overflow_x": null,
            "overflow_y": null,
            "padding": null,
            "right": null,
            "top": null,
            "visibility": null,
            "width": null
          }
        },
        "2d0606ff69224ef08f079238b8ecdbd5": {
          "model_module": "@jupyter-widgets/controls",
          "model_name": "DescriptionStyleModel",
          "model_module_version": "1.5.0",
          "state": {
            "_model_module": "@jupyter-widgets/controls",
            "_model_module_version": "1.5.0",
            "_model_name": "DescriptionStyleModel",
            "_view_count": null,
            "_view_module": "@jupyter-widgets/base",
            "_view_module_version": "1.2.0",
            "_view_name": "StyleView",
            "description_width": ""
          }
        },
        "971fe34a6740416f8cb2a7e02b20eebc": {
          "model_module": "@jupyter-widgets/controls",
          "model_name": "HBoxModel",
          "model_module_version": "1.5.0",
          "state": {
            "_dom_classes": [],
            "_model_module": "@jupyter-widgets/controls",
            "_model_module_version": "1.5.0",
            "_model_name": "HBoxModel",
            "_view_count": null,
            "_view_module": "@jupyter-widgets/controls",
            "_view_module_version": "1.5.0",
            "_view_name": "HBoxView",
            "box_style": "",
            "children": [
              "IPY_MODEL_03ae85348baa4a30aa89fd703bb38874",
              "IPY_MODEL_8ae062a806e543f28fd8db751d5b77c1",
              "IPY_MODEL_579fbdb9451645678e42c380f8445ffe"
            ],
            "layout": "IPY_MODEL_e82663f28d2f4cbdb4328187b8a2ba4d"
          }
        },
        "03ae85348baa4a30aa89fd703bb38874": {
          "model_module": "@jupyter-widgets/controls",
          "model_name": "HTMLModel",
          "model_module_version": "1.5.0",
          "state": {
            "_dom_classes": [],
            "_model_module": "@jupyter-widgets/controls",
            "_model_module_version": "1.5.0",
            "_model_name": "HTMLModel",
            "_view_count": null,
            "_view_module": "@jupyter-widgets/controls",
            "_view_module_version": "1.5.0",
            "_view_name": "HTMLView",
            "description": "",
            "description_tooltip": null,
            "layout": "IPY_MODEL_865713c3af774d599a9d7bb33ee2365f",
            "placeholder": "​",
            "style": "IPY_MODEL_8036519299d840ab82fbc00f07f4a186",
            "value": "Batches: 100%"
          }
        },
        "8ae062a806e543f28fd8db751d5b77c1": {
          "model_module": "@jupyter-widgets/controls",
          "model_name": "FloatProgressModel",
          "model_module_version": "1.5.0",
          "state": {
            "_dom_classes": [],
            "_model_module": "@jupyter-widgets/controls",
            "_model_module_version": "1.5.0",
            "_model_name": "FloatProgressModel",
            "_view_count": null,
            "_view_module": "@jupyter-widgets/controls",
            "_view_module_version": "1.5.0",
            "_view_name": "ProgressView",
            "bar_style": "success",
            "description": "",
            "description_tooltip": null,
            "layout": "IPY_MODEL_9b3b12e145a049c9aca8fc68911fd46d",
            "max": 338,
            "min": 0,
            "orientation": "horizontal",
            "style": "IPY_MODEL_0da6148a21ee432db0c5c06251d9af18",
            "value": 338
          }
        },
        "579fbdb9451645678e42c380f8445ffe": {
          "model_module": "@jupyter-widgets/controls",
          "model_name": "HTMLModel",
          "model_module_version": "1.5.0",
          "state": {
            "_dom_classes": [],
            "_model_module": "@jupyter-widgets/controls",
            "_model_module_version": "1.5.0",
            "_model_name": "HTMLModel",
            "_view_count": null,
            "_view_module": "@jupyter-widgets/controls",
            "_view_module_version": "1.5.0",
            "_view_name": "HTMLView",
            "description": "",
            "description_tooltip": null,
            "layout": "IPY_MODEL_ffd96a84443746d28b9d4167d76e0620",
            "placeholder": "​",
            "style": "IPY_MODEL_c33f96f733ca4f6a9afc92f08bd4fc6f",
            "value": " 338/338 [00:03&lt;00:00, 113.72it/s]"
          }
        },
        "e82663f28d2f4cbdb4328187b8a2ba4d": {
          "model_module": "@jupyter-widgets/base",
          "model_name": "LayoutModel",
          "model_module_version": "1.2.0",
          "state": {
            "_model_module": "@jupyter-widgets/base",
            "_model_module_version": "1.2.0",
            "_model_name": "LayoutModel",
            "_view_count": null,
            "_view_module": "@jupyter-widgets/base",
            "_view_module_version": "1.2.0",
            "_view_name": "LayoutView",
            "align_content": null,
            "align_items": null,
            "align_self": null,
            "border": null,
            "bottom": null,
            "display": null,
            "flex": null,
            "flex_flow": null,
            "grid_area": null,
            "grid_auto_columns": null,
            "grid_auto_flow": null,
            "grid_auto_rows": null,
            "grid_column": null,
            "grid_gap": null,
            "grid_row": null,
            "grid_template_areas": null,
            "grid_template_columns": null,
            "grid_template_rows": null,
            "height": null,
            "justify_content": null,
            "justify_items": null,
            "left": null,
            "margin": null,
            "max_height": null,
            "max_width": null,
            "min_height": null,
            "min_width": null,
            "object_fit": null,
            "object_position": null,
            "order": null,
            "overflow": null,
            "overflow_x": null,
            "overflow_y": null,
            "padding": null,
            "right": null,
            "top": null,
            "visibility": null,
            "width": null
          }
        },
        "865713c3af774d599a9d7bb33ee2365f": {
          "model_module": "@jupyter-widgets/base",
          "model_name": "LayoutModel",
          "model_module_version": "1.2.0",
          "state": {
            "_model_module": "@jupyter-widgets/base",
            "_model_module_version": "1.2.0",
            "_model_name": "LayoutModel",
            "_view_count": null,
            "_view_module": "@jupyter-widgets/base",
            "_view_module_version": "1.2.0",
            "_view_name": "LayoutView",
            "align_content": null,
            "align_items": null,
            "align_self": null,
            "border": null,
            "bottom": null,
            "display": null,
            "flex": null,
            "flex_flow": null,
            "grid_area": null,
            "grid_auto_columns": null,
            "grid_auto_flow": null,
            "grid_auto_rows": null,
            "grid_column": null,
            "grid_gap": null,
            "grid_row": null,
            "grid_template_areas": null,
            "grid_template_columns": null,
            "grid_template_rows": null,
            "height": null,
            "justify_content": null,
            "justify_items": null,
            "left": null,
            "margin": null,
            "max_height": null,
            "max_width": null,
            "min_height": null,
            "min_width": null,
            "object_fit": null,
            "object_position": null,
            "order": null,
            "overflow": null,
            "overflow_x": null,
            "overflow_y": null,
            "padding": null,
            "right": null,
            "top": null,
            "visibility": null,
            "width": null
          }
        },
        "8036519299d840ab82fbc00f07f4a186": {
          "model_module": "@jupyter-widgets/controls",
          "model_name": "DescriptionStyleModel",
          "model_module_version": "1.5.0",
          "state": {
            "_model_module": "@jupyter-widgets/controls",
            "_model_module_version": "1.5.0",
            "_model_name": "DescriptionStyleModel",
            "_view_count": null,
            "_view_module": "@jupyter-widgets/base",
            "_view_module_version": "1.2.0",
            "_view_name": "StyleView",
            "description_width": ""
          }
        },
        "9b3b12e145a049c9aca8fc68911fd46d": {
          "model_module": "@jupyter-widgets/base",
          "model_name": "LayoutModel",
          "model_module_version": "1.2.0",
          "state": {
            "_model_module": "@jupyter-widgets/base",
            "_model_module_version": "1.2.0",
            "_model_name": "LayoutModel",
            "_view_count": null,
            "_view_module": "@jupyter-widgets/base",
            "_view_module_version": "1.2.0",
            "_view_name": "LayoutView",
            "align_content": null,
            "align_items": null,
            "align_self": null,
            "border": null,
            "bottom": null,
            "display": null,
            "flex": null,
            "flex_flow": null,
            "grid_area": null,
            "grid_auto_columns": null,
            "grid_auto_flow": null,
            "grid_auto_rows": null,
            "grid_column": null,
            "grid_gap": null,
            "grid_row": null,
            "grid_template_areas": null,
            "grid_template_columns": null,
            "grid_template_rows": null,
            "height": null,
            "justify_content": null,
            "justify_items": null,
            "left": null,
            "margin": null,
            "max_height": null,
            "max_width": null,
            "min_height": null,
            "min_width": null,
            "object_fit": null,
            "object_position": null,
            "order": null,
            "overflow": null,
            "overflow_x": null,
            "overflow_y": null,
            "padding": null,
            "right": null,
            "top": null,
            "visibility": null,
            "width": null
          }
        },
        "0da6148a21ee432db0c5c06251d9af18": {
          "model_module": "@jupyter-widgets/controls",
          "model_name": "ProgressStyleModel",
          "model_module_version": "1.5.0",
          "state": {
            "_model_module": "@jupyter-widgets/controls",
            "_model_module_version": "1.5.0",
            "_model_name": "ProgressStyleModel",
            "_view_count": null,
            "_view_module": "@jupyter-widgets/base",
            "_view_module_version": "1.2.0",
            "_view_name": "StyleView",
            "bar_color": null,
            "description_width": ""
          }
        },
        "ffd96a84443746d28b9d4167d76e0620": {
          "model_module": "@jupyter-widgets/base",
          "model_name": "LayoutModel",
          "model_module_version": "1.2.0",
          "state": {
            "_model_module": "@jupyter-widgets/base",
            "_model_module_version": "1.2.0",
            "_model_name": "LayoutModel",
            "_view_count": null,
            "_view_module": "@jupyter-widgets/base",
            "_view_module_version": "1.2.0",
            "_view_name": "LayoutView",
            "align_content": null,
            "align_items": null,
            "align_self": null,
            "border": null,
            "bottom": null,
            "display": null,
            "flex": null,
            "flex_flow": null,
            "grid_area": null,
            "grid_auto_columns": null,
            "grid_auto_flow": null,
            "grid_auto_rows": null,
            "grid_column": null,
            "grid_gap": null,
            "grid_row": null,
            "grid_template_areas": null,
            "grid_template_columns": null,
            "grid_template_rows": null,
            "height": null,
            "justify_content": null,
            "justify_items": null,
            "left": null,
            "margin": null,
            "max_height": null,
            "max_width": null,
            "min_height": null,
            "min_width": null,
            "object_fit": null,
            "object_position": null,
            "order": null,
            "overflow": null,
            "overflow_x": null,
            "overflow_y": null,
            "padding": null,
            "right": null,
            "top": null,
            "visibility": null,
            "width": null
          }
        },
        "c33f96f733ca4f6a9afc92f08bd4fc6f": {
          "model_module": "@jupyter-widgets/controls",
          "model_name": "DescriptionStyleModel",
          "model_module_version": "1.5.0",
          "state": {
            "_model_module": "@jupyter-widgets/controls",
            "_model_module_version": "1.5.0",
            "_model_name": "DescriptionStyleModel",
            "_view_count": null,
            "_view_module": "@jupyter-widgets/base",
            "_view_module_version": "1.2.0",
            "_view_name": "StyleView",
            "description_width": ""
          }
        },
        "8f8b1366f0c143fd92f78cc256195ff8": {
          "model_module": "@jupyter-widgets/controls",
          "model_name": "HBoxModel",
          "model_module_version": "1.5.0",
          "state": {
            "_dom_classes": [],
            "_model_module": "@jupyter-widgets/controls",
            "_model_module_version": "1.5.0",
            "_model_name": "HBoxModel",
            "_view_count": null,
            "_view_module": "@jupyter-widgets/controls",
            "_view_module_version": "1.5.0",
            "_view_name": "HBoxView",
            "box_style": "",
            "children": [
              "IPY_MODEL_cd6b171fc9724cd391a7a1029766f83b",
              "IPY_MODEL_48519a849119448d8e594695c9087017",
              "IPY_MODEL_7dd21e46036c4d5cbe8cb0abda0d2577"
            ],
            "layout": "IPY_MODEL_93992c73e9f747dfa5ed570e02b38b92"
          }
        },
        "cd6b171fc9724cd391a7a1029766f83b": {
          "model_module": "@jupyter-widgets/controls",
          "model_name": "HTMLModel",
          "model_module_version": "1.5.0",
          "state": {
            "_dom_classes": [],
            "_model_module": "@jupyter-widgets/controls",
            "_model_module_version": "1.5.0",
            "_model_name": "HTMLModel",
            "_view_count": null,
            "_view_module": "@jupyter-widgets/controls",
            "_view_module_version": "1.5.0",
            "_view_name": "HTMLView",
            "description": "",
            "description_tooltip": null,
            "layout": "IPY_MODEL_5de316292b1d4f8d80f921f85f90f8ec",
            "placeholder": "​",
            "style": "IPY_MODEL_ce91e3a8a996461fa4cdb8a53d659048",
            "value": "Batches: 100%"
          }
        },
        "48519a849119448d8e594695c9087017": {
          "model_module": "@jupyter-widgets/controls",
          "model_name": "FloatProgressModel",
          "model_module_version": "1.5.0",
          "state": {
            "_dom_classes": [],
            "_model_module": "@jupyter-widgets/controls",
            "_model_module_version": "1.5.0",
            "_model_name": "FloatProgressModel",
            "_view_count": null,
            "_view_module": "@jupyter-widgets/controls",
            "_view_module_version": "1.5.0",
            "_view_name": "ProgressView",
            "bar_style": "success",
            "description": "",
            "description_tooltip": null,
            "layout": "IPY_MODEL_954cd6dae7d74c99a060bfda2b2753e2",
            "max": 338,
            "min": 0,
            "orientation": "horizontal",
            "style": "IPY_MODEL_58f390167be645a8abd4328835f43dd4",
            "value": 338
          }
        },
        "7dd21e46036c4d5cbe8cb0abda0d2577": {
          "model_module": "@jupyter-widgets/controls",
          "model_name": "HTMLModel",
          "model_module_version": "1.5.0",
          "state": {
            "_dom_classes": [],
            "_model_module": "@jupyter-widgets/controls",
            "_model_module_version": "1.5.0",
            "_model_name": "HTMLModel",
            "_view_count": null,
            "_view_module": "@jupyter-widgets/controls",
            "_view_module_version": "1.5.0",
            "_view_name": "HTMLView",
            "description": "",
            "description_tooltip": null,
            "layout": "IPY_MODEL_8f938a57ca334391a5df68f8e8159066",
            "placeholder": "​",
            "style": "IPY_MODEL_6b801148ad2044009ad2020fe630f7e0",
            "value": " 338/338 [00:02&lt;00:00, 149.16it/s]"
          }
        },
        "93992c73e9f747dfa5ed570e02b38b92": {
          "model_module": "@jupyter-widgets/base",
          "model_name": "LayoutModel",
          "model_module_version": "1.2.0",
          "state": {
            "_model_module": "@jupyter-widgets/base",
            "_model_module_version": "1.2.0",
            "_model_name": "LayoutModel",
            "_view_count": null,
            "_view_module": "@jupyter-widgets/base",
            "_view_module_version": "1.2.0",
            "_view_name": "LayoutView",
            "align_content": null,
            "align_items": null,
            "align_self": null,
            "border": null,
            "bottom": null,
            "display": null,
            "flex": null,
            "flex_flow": null,
            "grid_area": null,
            "grid_auto_columns": null,
            "grid_auto_flow": null,
            "grid_auto_rows": null,
            "grid_column": null,
            "grid_gap": null,
            "grid_row": null,
            "grid_template_areas": null,
            "grid_template_columns": null,
            "grid_template_rows": null,
            "height": null,
            "justify_content": null,
            "justify_items": null,
            "left": null,
            "margin": null,
            "max_height": null,
            "max_width": null,
            "min_height": null,
            "min_width": null,
            "object_fit": null,
            "object_position": null,
            "order": null,
            "overflow": null,
            "overflow_x": null,
            "overflow_y": null,
            "padding": null,
            "right": null,
            "top": null,
            "visibility": null,
            "width": null
          }
        },
        "5de316292b1d4f8d80f921f85f90f8ec": {
          "model_module": "@jupyter-widgets/base",
          "model_name": "LayoutModel",
          "model_module_version": "1.2.0",
          "state": {
            "_model_module": "@jupyter-widgets/base",
            "_model_module_version": "1.2.0",
            "_model_name": "LayoutModel",
            "_view_count": null,
            "_view_module": "@jupyter-widgets/base",
            "_view_module_version": "1.2.0",
            "_view_name": "LayoutView",
            "align_content": null,
            "align_items": null,
            "align_self": null,
            "border": null,
            "bottom": null,
            "display": null,
            "flex": null,
            "flex_flow": null,
            "grid_area": null,
            "grid_auto_columns": null,
            "grid_auto_flow": null,
            "grid_auto_rows": null,
            "grid_column": null,
            "grid_gap": null,
            "grid_row": null,
            "grid_template_areas": null,
            "grid_template_columns": null,
            "grid_template_rows": null,
            "height": null,
            "justify_content": null,
            "justify_items": null,
            "left": null,
            "margin": null,
            "max_height": null,
            "max_width": null,
            "min_height": null,
            "min_width": null,
            "object_fit": null,
            "object_position": null,
            "order": null,
            "overflow": null,
            "overflow_x": null,
            "overflow_y": null,
            "padding": null,
            "right": null,
            "top": null,
            "visibility": null,
            "width": null
          }
        },
        "ce91e3a8a996461fa4cdb8a53d659048": {
          "model_module": "@jupyter-widgets/controls",
          "model_name": "DescriptionStyleModel",
          "model_module_version": "1.5.0",
          "state": {
            "_model_module": "@jupyter-widgets/controls",
            "_model_module_version": "1.5.0",
            "_model_name": "DescriptionStyleModel",
            "_view_count": null,
            "_view_module": "@jupyter-widgets/base",
            "_view_module_version": "1.2.0",
            "_view_name": "StyleView",
            "description_width": ""
          }
        },
        "954cd6dae7d74c99a060bfda2b2753e2": {
          "model_module": "@jupyter-widgets/base",
          "model_name": "LayoutModel",
          "model_module_version": "1.2.0",
          "state": {
            "_model_module": "@jupyter-widgets/base",
            "_model_module_version": "1.2.0",
            "_model_name": "LayoutModel",
            "_view_count": null,
            "_view_module": "@jupyter-widgets/base",
            "_view_module_version": "1.2.0",
            "_view_name": "LayoutView",
            "align_content": null,
            "align_items": null,
            "align_self": null,
            "border": null,
            "bottom": null,
            "display": null,
            "flex": null,
            "flex_flow": null,
            "grid_area": null,
            "grid_auto_columns": null,
            "grid_auto_flow": null,
            "grid_auto_rows": null,
            "grid_column": null,
            "grid_gap": null,
            "grid_row": null,
            "grid_template_areas": null,
            "grid_template_columns": null,
            "grid_template_rows": null,
            "height": null,
            "justify_content": null,
            "justify_items": null,
            "left": null,
            "margin": null,
            "max_height": null,
            "max_width": null,
            "min_height": null,
            "min_width": null,
            "object_fit": null,
            "object_position": null,
            "order": null,
            "overflow": null,
            "overflow_x": null,
            "overflow_y": null,
            "padding": null,
            "right": null,
            "top": null,
            "visibility": null,
            "width": null
          }
        },
        "58f390167be645a8abd4328835f43dd4": {
          "model_module": "@jupyter-widgets/controls",
          "model_name": "ProgressStyleModel",
          "model_module_version": "1.5.0",
          "state": {
            "_model_module": "@jupyter-widgets/controls",
            "_model_module_version": "1.5.0",
            "_model_name": "ProgressStyleModel",
            "_view_count": null,
            "_view_module": "@jupyter-widgets/base",
            "_view_module_version": "1.2.0",
            "_view_name": "StyleView",
            "bar_color": null,
            "description_width": ""
          }
        },
        "8f938a57ca334391a5df68f8e8159066": {
          "model_module": "@jupyter-widgets/base",
          "model_name": "LayoutModel",
          "model_module_version": "1.2.0",
          "state": {
            "_model_module": "@jupyter-widgets/base",
            "_model_module_version": "1.2.0",
            "_model_name": "LayoutModel",
            "_view_count": null,
            "_view_module": "@jupyter-widgets/base",
            "_view_module_version": "1.2.0",
            "_view_name": "LayoutView",
            "align_content": null,
            "align_items": null,
            "align_self": null,
            "border": null,
            "bottom": null,
            "display": null,
            "flex": null,
            "flex_flow": null,
            "grid_area": null,
            "grid_auto_columns": null,
            "grid_auto_flow": null,
            "grid_auto_rows": null,
            "grid_column": null,
            "grid_gap": null,
            "grid_row": null,
            "grid_template_areas": null,
            "grid_template_columns": null,
            "grid_template_rows": null,
            "height": null,
            "justify_content": null,
            "justify_items": null,
            "left": null,
            "margin": null,
            "max_height": null,
            "max_width": null,
            "min_height": null,
            "min_width": null,
            "object_fit": null,
            "object_position": null,
            "order": null,
            "overflow": null,
            "overflow_x": null,
            "overflow_y": null,
            "padding": null,
            "right": null,
            "top": null,
            "visibility": null,
            "width": null
          }
        },
        "6b801148ad2044009ad2020fe630f7e0": {
          "model_module": "@jupyter-widgets/controls",
          "model_name": "DescriptionStyleModel",
          "model_module_version": "1.5.0",
          "state": {
            "_model_module": "@jupyter-widgets/controls",
            "_model_module_version": "1.5.0",
            "_model_name": "DescriptionStyleModel",
            "_view_count": null,
            "_view_module": "@jupyter-widgets/base",
            "_view_module_version": "1.2.0",
            "_view_name": "StyleView",
            "description_width": ""
          }
        }
      }
    },
    "accelerator": "GPU"
  },
  "cells": [
    {
      "cell_type": "markdown",
      "source": [
        "# Point of Interest Recommendation using Graph Neural Networks\n",
        "\n",
        "The objective of this work is to implement and train a GNN-based model that will be used for the task of Point of interest (POI) recommendation.\n",
        "\n",
        "More into the details, the model that I decided to implement is a Graph Convolutional Network (GCN) model that I will train for the task of edge prediction and then I will use to generate POI recommendations."
      ],
      "metadata": {
        "id": "Hr3EGuUKIWP4"
      }
    },
    {
      "cell_type": "markdown",
      "source": [
        "## Data loading and preparation"
      ],
      "metadata": {
        "id": "YSmCxYTxJFSL"
      }
    },
    {
      "cell_type": "markdown",
      "source": [
        "### Load data\n",
        "I will load the data as pandas dataframes in order to simplify the cleaning and preprocessing steps.\n",
        "\n",
        "First, let's load and import all the dependencies."
      ],
      "metadata": {
        "id": "qJRWNItnJAOM"
      }
    },
    {
      "cell_type": "code",
      "source": [
        "from google.colab import drive, userdata\n",
        "import os\n",
        "import numpy as np\n",
        "import pandas as pd\n",
        "from collections import defaultdict\n",
        "from sklearn.preprocessing import StandardScaler, LabelEncoder\n",
        "from sklearn.metrics import accuracy_score, roc_auc_score, average_precision_score, f1_score\n",
        "import matplotlib.pyplot as plt\n",
        "import random\n",
        "import requests\n",
        "import time\n",
        "import ast"
      ],
      "metadata": {
        "id": "yrcIuybH8Abc",
        "collapsed": true
      },
      "execution_count": 1,
      "outputs": []
    },
    {
      "cell_type": "code",
      "source": [
        "import torch\n",
        "import torch.optim as optim\n",
        "import torch.nn.functional as F\n",
        "from torch.nn import Linear\n",
        "torch_version = torch.__version__.split(\"+\")\n",
        "os.environ[\"TORCH\"] = torch_version[0]\n",
        "os.environ[\"CUDA\"] = torch_version[1]"
      ],
      "metadata": {
        "id": "MXOGiv_ccC1B"
      },
      "execution_count": 2,
      "outputs": []
    },
    {
      "cell_type": "code",
      "source": [
        "%%capture\n",
        "!pip install pyg-lib torch-scatter torch-sparse -f https://data.pyg.org/whl/torch-${TORCH}+${CUDA}.html\n",
        "!pip install torch-geometric\n",
        "from torch_geometric.data import HeteroData\n",
        "from torch_geometric.transforms import RandomLinkSplit\n",
        "from torch_geometric.nn import SAGEConv, GATConv, BatchNorm, to_hetero\n",
        "from torch_geometric.loader import LinkNeighborLoader"
      ],
      "metadata": {
        "id": "ee0_ZBH9cWrJ"
      },
      "execution_count": 3,
      "outputs": []
    },
    {
      "cell_type": "code",
      "source": [
        "!pip install sentence-transformers\n",
        "from sentence_transformers import SentenceTransformer"
      ],
      "metadata": {
        "colab": {
          "base_uri": "https://localhost:8080/"
        },
        "id": "QvFw3JmAdPY9",
        "outputId": "9af575d4-51ed-4038-d413-d56f0161cd2a",
        "collapsed": true
      },
      "execution_count": null,
      "outputs": [
        {
          "output_type": "stream",
          "name": "stdout",
          "text": [
            "Collecting sentence-transformers\n",
            "  Downloading sentence_transformers-3.2.1-py3-none-any.whl.metadata (10 kB)\n",
            "Requirement already satisfied: transformers<5.0.0,>=4.41.0 in /usr/local/lib/python3.10/dist-packages (from sentence-transformers) (4.44.2)\n",
            "Requirement already satisfied: tqdm in /usr/local/lib/python3.10/dist-packages (from sentence-transformers) (4.66.5)\n",
            "Requirement already satisfied: torch>=1.11.0 in /usr/local/lib/python3.10/dist-packages (from sentence-transformers) (2.4.1+cu121)\n",
            "Requirement already satisfied: scikit-learn in /usr/local/lib/python3.10/dist-packages (from sentence-transformers) (1.5.2)\n",
            "Requirement already satisfied: scipy in /usr/local/lib/python3.10/dist-packages (from sentence-transformers) (1.13.1)\n",
            "Requirement already satisfied: huggingface-hub>=0.20.0 in /usr/local/lib/python3.10/dist-packages (from sentence-transformers) (0.24.7)\n",
            "Requirement already satisfied: Pillow in /usr/local/lib/python3.10/dist-packages (from sentence-transformers) (10.4.0)\n",
            "Requirement already satisfied: filelock in /usr/local/lib/python3.10/dist-packages (from huggingface-hub>=0.20.0->sentence-transformers) (3.16.1)\n",
            "Requirement already satisfied: fsspec>=2023.5.0 in /usr/local/lib/python3.10/dist-packages (from huggingface-hub>=0.20.0->sentence-transformers) (2024.6.1)\n",
            "Requirement already satisfied: packaging>=20.9 in /usr/local/lib/python3.10/dist-packages (from huggingface-hub>=0.20.0->sentence-transformers) (24.1)\n",
            "Requirement already satisfied: pyyaml>=5.1 in /usr/local/lib/python3.10/dist-packages (from huggingface-hub>=0.20.0->sentence-transformers) (6.0.2)\n",
            "Requirement already satisfied: requests in /usr/local/lib/python3.10/dist-packages (from huggingface-hub>=0.20.0->sentence-transformers) (2.32.3)\n",
            "Requirement already satisfied: typing-extensions>=3.7.4.3 in /usr/local/lib/python3.10/dist-packages (from huggingface-hub>=0.20.0->sentence-transformers) (4.12.2)\n",
            "Requirement already satisfied: sympy in /usr/local/lib/python3.10/dist-packages (from torch>=1.11.0->sentence-transformers) (1.13.3)\n",
            "Requirement already satisfied: networkx in /usr/local/lib/python3.10/dist-packages (from torch>=1.11.0->sentence-transformers) (3.4.1)\n",
            "Requirement already satisfied: jinja2 in /usr/local/lib/python3.10/dist-packages (from torch>=1.11.0->sentence-transformers) (3.1.4)\n",
            "Requirement already satisfied: numpy>=1.17 in /usr/local/lib/python3.10/dist-packages (from transformers<5.0.0,>=4.41.0->sentence-transformers) (1.26.4)\n",
            "Requirement already satisfied: regex!=2019.12.17 in /usr/local/lib/python3.10/dist-packages (from transformers<5.0.0,>=4.41.0->sentence-transformers) (2024.9.11)\n",
            "Requirement already satisfied: safetensors>=0.4.1 in /usr/local/lib/python3.10/dist-packages (from transformers<5.0.0,>=4.41.0->sentence-transformers) (0.4.5)\n",
            "Requirement already satisfied: tokenizers<0.20,>=0.19 in /usr/local/lib/python3.10/dist-packages (from transformers<5.0.0,>=4.41.0->sentence-transformers) (0.19.1)\n",
            "Requirement already satisfied: joblib>=1.2.0 in /usr/local/lib/python3.10/dist-packages (from scikit-learn->sentence-transformers) (1.4.2)\n",
            "Requirement already satisfied: threadpoolctl>=3.1.0 in /usr/local/lib/python3.10/dist-packages (from scikit-learn->sentence-transformers) (3.5.0)\n",
            "Requirement already satisfied: MarkupSafe>=2.0 in /usr/local/lib/python3.10/dist-packages (from jinja2->torch>=1.11.0->sentence-transformers) (3.0.1)\n",
            "Requirement already satisfied: charset-normalizer<4,>=2 in /usr/local/lib/python3.10/dist-packages (from requests->huggingface-hub>=0.20.0->sentence-transformers) (3.4.0)\n",
            "Requirement already satisfied: idna<4,>=2.5 in /usr/local/lib/python3.10/dist-packages (from requests->huggingface-hub>=0.20.0->sentence-transformers) (3.10)\n",
            "Requirement already satisfied: urllib3<3,>=1.21.1 in /usr/local/lib/python3.10/dist-packages (from requests->huggingface-hub>=0.20.0->sentence-transformers) (2.2.3)\n",
            "Requirement already satisfied: certifi>=2017.4.17 in /usr/local/lib/python3.10/dist-packages (from requests->huggingface-hub>=0.20.0->sentence-transformers) (2024.8.30)\n",
            "Requirement already satisfied: mpmath<1.4,>=1.1.0 in /usr/local/lib/python3.10/dist-packages (from sympy->torch>=1.11.0->sentence-transformers) (1.3.0)\n",
            "Downloading sentence_transformers-3.2.1-py3-none-any.whl (255 kB)\n",
            "\u001b[2K   \u001b[90m━━━━━━━━━━━━━━━━━━━━━━━━━━━━━━━━━━━━━━━━\u001b[0m \u001b[32m255.8/255.8 kB\u001b[0m \u001b[31m3.1 MB/s\u001b[0m eta \u001b[36m0:00:00\u001b[0m\n",
            "\u001b[?25hInstalling collected packages: sentence-transformers\n",
            "Successfully installed sentence-transformers-3.2.1\n"
          ]
        }
      ]
    },
    {
      "cell_type": "markdown",
      "source": [
        "I will use google drive to store the data"
      ],
      "metadata": {
        "id": "0AEnZzZoWTqb"
      }
    },
    {
      "cell_type": "code",
      "execution_count": 4,
      "metadata": {
        "colab": {
          "base_uri": "https://localhost:8080/"
        },
        "id": "qT3PHiFuIEcF",
        "outputId": "379ffaa1-cbdd-4051-8b66-e61739fe3982"
      },
      "outputs": [
        {
          "output_type": "stream",
          "name": "stdout",
          "text": [
            "Mounted at /content/drive\n"
          ]
        }
      ],
      "source": [
        "# Mount Google Drive\n",
        "drive.mount('/content/drive')"
      ]
    },
    {
      "cell_type": "code",
      "source": [
        "# Verify the mount\n",
        "dataset_path = '/content/drive/My Drive/datasets/POIs'\n",
        "\n",
        "# List the files in the directory\n",
        "os.listdir(dataset_path)"
      ],
      "metadata": {
        "colab": {
          "base_uri": "https://localhost:8080/"
        },
        "id": "jnqTSFRaKbij",
        "outputId": "641d26a2-f15b-4375-dd35-5eac9921701a"
      },
      "execution_count": null,
      "outputs": [
        {
          "output_type": "execute_result",
          "data": {
            "text/plain": [
              "['Checkins.txt',\n",
              " 'Cities.txt',\n",
              " 'POIs.txt',\n",
              " 'processed',\n",
              " 'graphs',\n",
              " 'checkins_df_new.csv',\n",
              " 'pois_df_new.csv']"
            ]
          },
          "metadata": {},
          "execution_count": 8
        }
      ]
    },
    {
      "cell_type": "code",
      "source": [
        "# Read the text files and load them as pandas dfs\n",
        "checkins_path = os.path.join(dataset_path, 'Checkins.txt')\n",
        "pois_path = os.path.join(dataset_path, 'POIs.txt')\n",
        "\n",
        "checkins_df = pd.read_csv(checkins_path, delimiter='\\t', header=None, names=['user_id', 'venue_id', 'timestamp', 'Timezone_offset'])\n",
        "pois_df = pd.read_csv(pois_path, delimiter='\\t', header=None, names=['venue_id', 'latitude', 'longitude', 'venue_category_name', 'country_code'])"
      ],
      "metadata": {
        "id": "yvee6yK_LY8L"
      },
      "execution_count": null,
      "outputs": []
    },
    {
      "cell_type": "markdown",
      "source": [
        "### Data Exploration\n",
        "Now I will perform a first data exploration step."
      ],
      "metadata": {
        "id": "DZh98xoKkV6i"
      }
    },
    {
      "cell_type": "code",
      "source": [
        "checkins_df.head()"
      ],
      "metadata": {
        "colab": {
          "base_uri": "https://localhost:8080/",
          "height": 206
        },
        "id": "ZIfDUa-iNc2a",
        "outputId": "0f88af69-0d66-4ff0-96ba-d554131afc46",
        "collapsed": true
      },
      "execution_count": null,
      "outputs": [
        {
          "output_type": "execute_result",
          "data": {
            "text/plain": [
              "   user_id                  venue_id                       timestamp  \\\n",
              "0    50756  4f5e3a72e4b053fd6a4313f6  Tue Apr 03 18:00:06 +0000 2012   \n",
              "1   190571  4b4b87b5f964a5204a9f26e3  Tue Apr 03 18:00:07 +0000 2012   \n",
              "2   221021  4a85b1b3f964a520eefe1fe3  Tue Apr 03 18:00:08 +0000 2012   \n",
              "3    66981  4b4606f2f964a520751426e3  Tue Apr 03 18:00:08 +0000 2012   \n",
              "4    21010  4c2b4e8a9a559c74832f0de2  Tue Apr 03 18:00:09 +0000 2012   \n",
              "\n",
              "   Timezone_offset  \n",
              "0              240  \n",
              "1              180  \n",
              "2             -240  \n",
              "3             -300  \n",
              "4              240  "
            ],
            "text/html": [
              "\n",
              "  <div id=\"df-e5ba7beb-60bb-41d1-bca6-2cb1fdbb0e1a\" class=\"colab-df-container\">\n",
              "    <div>\n",
              "<style scoped>\n",
              "    .dataframe tbody tr th:only-of-type {\n",
              "        vertical-align: middle;\n",
              "    }\n",
              "\n",
              "    .dataframe tbody tr th {\n",
              "        vertical-align: top;\n",
              "    }\n",
              "\n",
              "    .dataframe thead th {\n",
              "        text-align: right;\n",
              "    }\n",
              "</style>\n",
              "<table border=\"1\" class=\"dataframe\">\n",
              "  <thead>\n",
              "    <tr style=\"text-align: right;\">\n",
              "      <th></th>\n",
              "      <th>user_id</th>\n",
              "      <th>venue_id</th>\n",
              "      <th>timestamp</th>\n",
              "      <th>Timezone_offset</th>\n",
              "    </tr>\n",
              "  </thead>\n",
              "  <tbody>\n",
              "    <tr>\n",
              "      <th>0</th>\n",
              "      <td>50756</td>\n",
              "      <td>4f5e3a72e4b053fd6a4313f6</td>\n",
              "      <td>Tue Apr 03 18:00:06 +0000 2012</td>\n",
              "      <td>240</td>\n",
              "    </tr>\n",
              "    <tr>\n",
              "      <th>1</th>\n",
              "      <td>190571</td>\n",
              "      <td>4b4b87b5f964a5204a9f26e3</td>\n",
              "      <td>Tue Apr 03 18:00:07 +0000 2012</td>\n",
              "      <td>180</td>\n",
              "    </tr>\n",
              "    <tr>\n",
              "      <th>2</th>\n",
              "      <td>221021</td>\n",
              "      <td>4a85b1b3f964a520eefe1fe3</td>\n",
              "      <td>Tue Apr 03 18:00:08 +0000 2012</td>\n",
              "      <td>-240</td>\n",
              "    </tr>\n",
              "    <tr>\n",
              "      <th>3</th>\n",
              "      <td>66981</td>\n",
              "      <td>4b4606f2f964a520751426e3</td>\n",
              "      <td>Tue Apr 03 18:00:08 +0000 2012</td>\n",
              "      <td>-300</td>\n",
              "    </tr>\n",
              "    <tr>\n",
              "      <th>4</th>\n",
              "      <td>21010</td>\n",
              "      <td>4c2b4e8a9a559c74832f0de2</td>\n",
              "      <td>Tue Apr 03 18:00:09 +0000 2012</td>\n",
              "      <td>240</td>\n",
              "    </tr>\n",
              "  </tbody>\n",
              "</table>\n",
              "</div>\n",
              "    <div class=\"colab-df-buttons\">\n",
              "\n",
              "  <div class=\"colab-df-container\">\n",
              "    <button class=\"colab-df-convert\" onclick=\"convertToInteractive('df-e5ba7beb-60bb-41d1-bca6-2cb1fdbb0e1a')\"\n",
              "            title=\"Convert this dataframe to an interactive table.\"\n",
              "            style=\"display:none;\">\n",
              "\n",
              "  <svg xmlns=\"http://www.w3.org/2000/svg\" height=\"24px\" viewBox=\"0 -960 960 960\">\n",
              "    <path d=\"M120-120v-720h720v720H120Zm60-500h600v-160H180v160Zm220 220h160v-160H400v160Zm0 220h160v-160H400v160ZM180-400h160v-160H180v160Zm440 0h160v-160H620v160ZM180-180h160v-160H180v160Zm440 0h160v-160H620v160Z\"/>\n",
              "  </svg>\n",
              "    </button>\n",
              "\n",
              "  <style>\n",
              "    .colab-df-container {\n",
              "      display:flex;\n",
              "      gap: 12px;\n",
              "    }\n",
              "\n",
              "    .colab-df-convert {\n",
              "      background-color: #E8F0FE;\n",
              "      border: none;\n",
              "      border-radius: 50%;\n",
              "      cursor: pointer;\n",
              "      display: none;\n",
              "      fill: #1967D2;\n",
              "      height: 32px;\n",
              "      padding: 0 0 0 0;\n",
              "      width: 32px;\n",
              "    }\n",
              "\n",
              "    .colab-df-convert:hover {\n",
              "      background-color: #E2EBFA;\n",
              "      box-shadow: 0px 1px 2px rgba(60, 64, 67, 0.3), 0px 1px 3px 1px rgba(60, 64, 67, 0.15);\n",
              "      fill: #174EA6;\n",
              "    }\n",
              "\n",
              "    .colab-df-buttons div {\n",
              "      margin-bottom: 4px;\n",
              "    }\n",
              "\n",
              "    [theme=dark] .colab-df-convert {\n",
              "      background-color: #3B4455;\n",
              "      fill: #D2E3FC;\n",
              "    }\n",
              "\n",
              "    [theme=dark] .colab-df-convert:hover {\n",
              "      background-color: #434B5C;\n",
              "      box-shadow: 0px 1px 3px 1px rgba(0, 0, 0, 0.15);\n",
              "      filter: drop-shadow(0px 1px 2px rgba(0, 0, 0, 0.3));\n",
              "      fill: #FFFFFF;\n",
              "    }\n",
              "  </style>\n",
              "\n",
              "    <script>\n",
              "      const buttonEl =\n",
              "        document.querySelector('#df-e5ba7beb-60bb-41d1-bca6-2cb1fdbb0e1a button.colab-df-convert');\n",
              "      buttonEl.style.display =\n",
              "        google.colab.kernel.accessAllowed ? 'block' : 'none';\n",
              "\n",
              "      async function convertToInteractive(key) {\n",
              "        const element = document.querySelector('#df-e5ba7beb-60bb-41d1-bca6-2cb1fdbb0e1a');\n",
              "        const dataTable =\n",
              "          await google.colab.kernel.invokeFunction('convertToInteractive',\n",
              "                                                    [key], {});\n",
              "        if (!dataTable) return;\n",
              "\n",
              "        const docLinkHtml = 'Like what you see? Visit the ' +\n",
              "          '<a target=\"_blank\" href=https://colab.research.google.com/notebooks/data_table.ipynb>data table notebook</a>'\n",
              "          + ' to learn more about interactive tables.';\n",
              "        element.innerHTML = '';\n",
              "        dataTable['output_type'] = 'display_data';\n",
              "        await google.colab.output.renderOutput(dataTable, element);\n",
              "        const docLink = document.createElement('div');\n",
              "        docLink.innerHTML = docLinkHtml;\n",
              "        element.appendChild(docLink);\n",
              "      }\n",
              "    </script>\n",
              "  </div>\n",
              "\n",
              "\n",
              "<div id=\"df-21fab6c3-477f-4879-b0a3-88eb7a0eed2b\">\n",
              "  <button class=\"colab-df-quickchart\" onclick=\"quickchart('df-21fab6c3-477f-4879-b0a3-88eb7a0eed2b')\"\n",
              "            title=\"Suggest charts\"\n",
              "            style=\"display:none;\">\n",
              "\n",
              "<svg xmlns=\"http://www.w3.org/2000/svg\" height=\"24px\"viewBox=\"0 0 24 24\"\n",
              "     width=\"24px\">\n",
              "    <g>\n",
              "        <path d=\"M19 3H5c-1.1 0-2 .9-2 2v14c0 1.1.9 2 2 2h14c1.1 0 2-.9 2-2V5c0-1.1-.9-2-2-2zM9 17H7v-7h2v7zm4 0h-2V7h2v10zm4 0h-2v-4h2v4z\"/>\n",
              "    </g>\n",
              "</svg>\n",
              "  </button>\n",
              "\n",
              "<style>\n",
              "  .colab-df-quickchart {\n",
              "      --bg-color: #E8F0FE;\n",
              "      --fill-color: #1967D2;\n",
              "      --hover-bg-color: #E2EBFA;\n",
              "      --hover-fill-color: #174EA6;\n",
              "      --disabled-fill-color: #AAA;\n",
              "      --disabled-bg-color: #DDD;\n",
              "  }\n",
              "\n",
              "  [theme=dark] .colab-df-quickchart {\n",
              "      --bg-color: #3B4455;\n",
              "      --fill-color: #D2E3FC;\n",
              "      --hover-bg-color: #434B5C;\n",
              "      --hover-fill-color: #FFFFFF;\n",
              "      --disabled-bg-color: #3B4455;\n",
              "      --disabled-fill-color: #666;\n",
              "  }\n",
              "\n",
              "  .colab-df-quickchart {\n",
              "    background-color: var(--bg-color);\n",
              "    border: none;\n",
              "    border-radius: 50%;\n",
              "    cursor: pointer;\n",
              "    display: none;\n",
              "    fill: var(--fill-color);\n",
              "    height: 32px;\n",
              "    padding: 0;\n",
              "    width: 32px;\n",
              "  }\n",
              "\n",
              "  .colab-df-quickchart:hover {\n",
              "    background-color: var(--hover-bg-color);\n",
              "    box-shadow: 0 1px 2px rgba(60, 64, 67, 0.3), 0 1px 3px 1px rgba(60, 64, 67, 0.15);\n",
              "    fill: var(--button-hover-fill-color);\n",
              "  }\n",
              "\n",
              "  .colab-df-quickchart-complete:disabled,\n",
              "  .colab-df-quickchart-complete:disabled:hover {\n",
              "    background-color: var(--disabled-bg-color);\n",
              "    fill: var(--disabled-fill-color);\n",
              "    box-shadow: none;\n",
              "  }\n",
              "\n",
              "  .colab-df-spinner {\n",
              "    border: 2px solid var(--fill-color);\n",
              "    border-color: transparent;\n",
              "    border-bottom-color: var(--fill-color);\n",
              "    animation:\n",
              "      spin 1s steps(1) infinite;\n",
              "  }\n",
              "\n",
              "  @keyframes spin {\n",
              "    0% {\n",
              "      border-color: transparent;\n",
              "      border-bottom-color: var(--fill-color);\n",
              "      border-left-color: var(--fill-color);\n",
              "    }\n",
              "    20% {\n",
              "      border-color: transparent;\n",
              "      border-left-color: var(--fill-color);\n",
              "      border-top-color: var(--fill-color);\n",
              "    }\n",
              "    30% {\n",
              "      border-color: transparent;\n",
              "      border-left-color: var(--fill-color);\n",
              "      border-top-color: var(--fill-color);\n",
              "      border-right-color: var(--fill-color);\n",
              "    }\n",
              "    40% {\n",
              "      border-color: transparent;\n",
              "      border-right-color: var(--fill-color);\n",
              "      border-top-color: var(--fill-color);\n",
              "    }\n",
              "    60% {\n",
              "      border-color: transparent;\n",
              "      border-right-color: var(--fill-color);\n",
              "    }\n",
              "    80% {\n",
              "      border-color: transparent;\n",
              "      border-right-color: var(--fill-color);\n",
              "      border-bottom-color: var(--fill-color);\n",
              "    }\n",
              "    90% {\n",
              "      border-color: transparent;\n",
              "      border-bottom-color: var(--fill-color);\n",
              "    }\n",
              "  }\n",
              "</style>\n",
              "\n",
              "  <script>\n",
              "    async function quickchart(key) {\n",
              "      const quickchartButtonEl =\n",
              "        document.querySelector('#' + key + ' button');\n",
              "      quickchartButtonEl.disabled = true;  // To prevent multiple clicks.\n",
              "      quickchartButtonEl.classList.add('colab-df-spinner');\n",
              "      try {\n",
              "        const charts = await google.colab.kernel.invokeFunction(\n",
              "            'suggestCharts', [key], {});\n",
              "      } catch (error) {\n",
              "        console.error('Error during call to suggestCharts:', error);\n",
              "      }\n",
              "      quickchartButtonEl.classList.remove('colab-df-spinner');\n",
              "      quickchartButtonEl.classList.add('colab-df-quickchart-complete');\n",
              "    }\n",
              "    (() => {\n",
              "      let quickchartButtonEl =\n",
              "        document.querySelector('#df-21fab6c3-477f-4879-b0a3-88eb7a0eed2b button');\n",
              "      quickchartButtonEl.style.display =\n",
              "        google.colab.kernel.accessAllowed ? 'block' : 'none';\n",
              "    })();\n",
              "  </script>\n",
              "</div>\n",
              "\n",
              "    </div>\n",
              "  </div>\n"
            ],
            "application/vnd.google.colaboratory.intrinsic+json": {
              "type": "dataframe",
              "variable_name": "checkins_df"
            }
          },
          "metadata": {},
          "execution_count": 8
        }
      ]
    },
    {
      "cell_type": "code",
      "source": [
        "pois_df.head()"
      ],
      "metadata": {
        "colab": {
          "base_uri": "https://localhost:8080/",
          "height": 206
        },
        "id": "5cLuoJYIfB7l",
        "outputId": "b4e59148-8a71-4846-8e12-e43aba65d71e",
        "collapsed": true
      },
      "execution_count": null,
      "outputs": [
        {
          "output_type": "execute_result",
          "data": {
            "text/plain": [
              "                    venue_id   latitude   longitude venue_category_name  \\\n",
              "0   3fd66200f964a52000e71ee3  40.733596  -74.003139           Jazz Club   \n",
              "4   3fd66200f964a52000ee1ee3  39.933178  -75.159262      Sandwich Place   \n",
              "7   3fd66200f964a52001e81ee3  40.756353  -73.967676                 Bar   \n",
              "13  3fd66200f964a52002ef1ee3  34.075314 -118.253499                 Bar   \n",
              "15  3fd66200f964a52003e71ee3  40.739685  -74.006020   French Restaurant   \n",
              "\n",
              "   country_code  checkin_count  \n",
              "0            US             86  \n",
              "4            US            145  \n",
              "7            US             70  \n",
              "13           US             54  \n",
              "15           US            118  "
            ],
            "text/html": [
              "\n",
              "  <div id=\"df-3ec8dce1-6d3f-4093-b4c8-0eef685db2ae\" class=\"colab-df-container\">\n",
              "    <div>\n",
              "<style scoped>\n",
              "    .dataframe tbody tr th:only-of-type {\n",
              "        vertical-align: middle;\n",
              "    }\n",
              "\n",
              "    .dataframe tbody tr th {\n",
              "        vertical-align: top;\n",
              "    }\n",
              "\n",
              "    .dataframe thead th {\n",
              "        text-align: right;\n",
              "    }\n",
              "</style>\n",
              "<table border=\"1\" class=\"dataframe\">\n",
              "  <thead>\n",
              "    <tr style=\"text-align: right;\">\n",
              "      <th></th>\n",
              "      <th>venue_id</th>\n",
              "      <th>latitude</th>\n",
              "      <th>longitude</th>\n",
              "      <th>venue_category_name</th>\n",
              "      <th>country_code</th>\n",
              "      <th>checkin_count</th>\n",
              "    </tr>\n",
              "  </thead>\n",
              "  <tbody>\n",
              "    <tr>\n",
              "      <th>0</th>\n",
              "      <td>3fd66200f964a52000e71ee3</td>\n",
              "      <td>40.733596</td>\n",
              "      <td>-74.003139</td>\n",
              "      <td>Jazz Club</td>\n",
              "      <td>US</td>\n",
              "      <td>86</td>\n",
              "    </tr>\n",
              "    <tr>\n",
              "      <th>4</th>\n",
              "      <td>3fd66200f964a52000ee1ee3</td>\n",
              "      <td>39.933178</td>\n",
              "      <td>-75.159262</td>\n",
              "      <td>Sandwich Place</td>\n",
              "      <td>US</td>\n",
              "      <td>145</td>\n",
              "    </tr>\n",
              "    <tr>\n",
              "      <th>7</th>\n",
              "      <td>3fd66200f964a52001e81ee3</td>\n",
              "      <td>40.756353</td>\n",
              "      <td>-73.967676</td>\n",
              "      <td>Bar</td>\n",
              "      <td>US</td>\n",
              "      <td>70</td>\n",
              "    </tr>\n",
              "    <tr>\n",
              "      <th>13</th>\n",
              "      <td>3fd66200f964a52002ef1ee3</td>\n",
              "      <td>34.075314</td>\n",
              "      <td>-118.253499</td>\n",
              "      <td>Bar</td>\n",
              "      <td>US</td>\n",
              "      <td>54</td>\n",
              "    </tr>\n",
              "    <tr>\n",
              "      <th>15</th>\n",
              "      <td>3fd66200f964a52003e71ee3</td>\n",
              "      <td>40.739685</td>\n",
              "      <td>-74.006020</td>\n",
              "      <td>French Restaurant</td>\n",
              "      <td>US</td>\n",
              "      <td>118</td>\n",
              "    </tr>\n",
              "  </tbody>\n",
              "</table>\n",
              "</div>\n",
              "    <div class=\"colab-df-buttons\">\n",
              "\n",
              "  <div class=\"colab-df-container\">\n",
              "    <button class=\"colab-df-convert\" onclick=\"convertToInteractive('df-3ec8dce1-6d3f-4093-b4c8-0eef685db2ae')\"\n",
              "            title=\"Convert this dataframe to an interactive table.\"\n",
              "            style=\"display:none;\">\n",
              "\n",
              "  <svg xmlns=\"http://www.w3.org/2000/svg\" height=\"24px\" viewBox=\"0 -960 960 960\">\n",
              "    <path d=\"M120-120v-720h720v720H120Zm60-500h600v-160H180v160Zm220 220h160v-160H400v160Zm0 220h160v-160H400v160ZM180-400h160v-160H180v160Zm440 0h160v-160H620v160ZM180-180h160v-160H180v160Zm440 0h160v-160H620v160Z\"/>\n",
              "  </svg>\n",
              "    </button>\n",
              "\n",
              "  <style>\n",
              "    .colab-df-container {\n",
              "      display:flex;\n",
              "      gap: 12px;\n",
              "    }\n",
              "\n",
              "    .colab-df-convert {\n",
              "      background-color: #E8F0FE;\n",
              "      border: none;\n",
              "      border-radius: 50%;\n",
              "      cursor: pointer;\n",
              "      display: none;\n",
              "      fill: #1967D2;\n",
              "      height: 32px;\n",
              "      padding: 0 0 0 0;\n",
              "      width: 32px;\n",
              "    }\n",
              "\n",
              "    .colab-df-convert:hover {\n",
              "      background-color: #E2EBFA;\n",
              "      box-shadow: 0px 1px 2px rgba(60, 64, 67, 0.3), 0px 1px 3px 1px rgba(60, 64, 67, 0.15);\n",
              "      fill: #174EA6;\n",
              "    }\n",
              "\n",
              "    .colab-df-buttons div {\n",
              "      margin-bottom: 4px;\n",
              "    }\n",
              "\n",
              "    [theme=dark] .colab-df-convert {\n",
              "      background-color: #3B4455;\n",
              "      fill: #D2E3FC;\n",
              "    }\n",
              "\n",
              "    [theme=dark] .colab-df-convert:hover {\n",
              "      background-color: #434B5C;\n",
              "      box-shadow: 0px 1px 3px 1px rgba(0, 0, 0, 0.15);\n",
              "      filter: drop-shadow(0px 1px 2px rgba(0, 0, 0, 0.3));\n",
              "      fill: #FFFFFF;\n",
              "    }\n",
              "  </style>\n",
              "\n",
              "    <script>\n",
              "      const buttonEl =\n",
              "        document.querySelector('#df-3ec8dce1-6d3f-4093-b4c8-0eef685db2ae button.colab-df-convert');\n",
              "      buttonEl.style.display =\n",
              "        google.colab.kernel.accessAllowed ? 'block' : 'none';\n",
              "\n",
              "      async function convertToInteractive(key) {\n",
              "        const element = document.querySelector('#df-3ec8dce1-6d3f-4093-b4c8-0eef685db2ae');\n",
              "        const dataTable =\n",
              "          await google.colab.kernel.invokeFunction('convertToInteractive',\n",
              "                                                    [key], {});\n",
              "        if (!dataTable) return;\n",
              "\n",
              "        const docLinkHtml = 'Like what you see? Visit the ' +\n",
              "          '<a target=\"_blank\" href=https://colab.research.google.com/notebooks/data_table.ipynb>data table notebook</a>'\n",
              "          + ' to learn more about interactive tables.';\n",
              "        element.innerHTML = '';\n",
              "        dataTable['output_type'] = 'display_data';\n",
              "        await google.colab.output.renderOutput(dataTable, element);\n",
              "        const docLink = document.createElement('div');\n",
              "        docLink.innerHTML = docLinkHtml;\n",
              "        element.appendChild(docLink);\n",
              "      }\n",
              "    </script>\n",
              "  </div>\n",
              "\n",
              "\n",
              "<div id=\"df-5a60373a-8566-40e3-9b0f-a19846281a92\">\n",
              "  <button class=\"colab-df-quickchart\" onclick=\"quickchart('df-5a60373a-8566-40e3-9b0f-a19846281a92')\"\n",
              "            title=\"Suggest charts\"\n",
              "            style=\"display:none;\">\n",
              "\n",
              "<svg xmlns=\"http://www.w3.org/2000/svg\" height=\"24px\"viewBox=\"0 0 24 24\"\n",
              "     width=\"24px\">\n",
              "    <g>\n",
              "        <path d=\"M19 3H5c-1.1 0-2 .9-2 2v14c0 1.1.9 2 2 2h14c1.1 0 2-.9 2-2V5c0-1.1-.9-2-2-2zM9 17H7v-7h2v7zm4 0h-2V7h2v10zm4 0h-2v-4h2v4z\"/>\n",
              "    </g>\n",
              "</svg>\n",
              "  </button>\n",
              "\n",
              "<style>\n",
              "  .colab-df-quickchart {\n",
              "      --bg-color: #E8F0FE;\n",
              "      --fill-color: #1967D2;\n",
              "      --hover-bg-color: #E2EBFA;\n",
              "      --hover-fill-color: #174EA6;\n",
              "      --disabled-fill-color: #AAA;\n",
              "      --disabled-bg-color: #DDD;\n",
              "  }\n",
              "\n",
              "  [theme=dark] .colab-df-quickchart {\n",
              "      --bg-color: #3B4455;\n",
              "      --fill-color: #D2E3FC;\n",
              "      --hover-bg-color: #434B5C;\n",
              "      --hover-fill-color: #FFFFFF;\n",
              "      --disabled-bg-color: #3B4455;\n",
              "      --disabled-fill-color: #666;\n",
              "  }\n",
              "\n",
              "  .colab-df-quickchart {\n",
              "    background-color: var(--bg-color);\n",
              "    border: none;\n",
              "    border-radius: 50%;\n",
              "    cursor: pointer;\n",
              "    display: none;\n",
              "    fill: var(--fill-color);\n",
              "    height: 32px;\n",
              "    padding: 0;\n",
              "    width: 32px;\n",
              "  }\n",
              "\n",
              "  .colab-df-quickchart:hover {\n",
              "    background-color: var(--hover-bg-color);\n",
              "    box-shadow: 0 1px 2px rgba(60, 64, 67, 0.3), 0 1px 3px 1px rgba(60, 64, 67, 0.15);\n",
              "    fill: var(--button-hover-fill-color);\n",
              "  }\n",
              "\n",
              "  .colab-df-quickchart-complete:disabled,\n",
              "  .colab-df-quickchart-complete:disabled:hover {\n",
              "    background-color: var(--disabled-bg-color);\n",
              "    fill: var(--disabled-fill-color);\n",
              "    box-shadow: none;\n",
              "  }\n",
              "\n",
              "  .colab-df-spinner {\n",
              "    border: 2px solid var(--fill-color);\n",
              "    border-color: transparent;\n",
              "    border-bottom-color: var(--fill-color);\n",
              "    animation:\n",
              "      spin 1s steps(1) infinite;\n",
              "  }\n",
              "\n",
              "  @keyframes spin {\n",
              "    0% {\n",
              "      border-color: transparent;\n",
              "      border-bottom-color: var(--fill-color);\n",
              "      border-left-color: var(--fill-color);\n",
              "    }\n",
              "    20% {\n",
              "      border-color: transparent;\n",
              "      border-left-color: var(--fill-color);\n",
              "      border-top-color: var(--fill-color);\n",
              "    }\n",
              "    30% {\n",
              "      border-color: transparent;\n",
              "      border-left-color: var(--fill-color);\n",
              "      border-top-color: var(--fill-color);\n",
              "      border-right-color: var(--fill-color);\n",
              "    }\n",
              "    40% {\n",
              "      border-color: transparent;\n",
              "      border-right-color: var(--fill-color);\n",
              "      border-top-color: var(--fill-color);\n",
              "    }\n",
              "    60% {\n",
              "      border-color: transparent;\n",
              "      border-right-color: var(--fill-color);\n",
              "    }\n",
              "    80% {\n",
              "      border-color: transparent;\n",
              "      border-right-color: var(--fill-color);\n",
              "      border-bottom-color: var(--fill-color);\n",
              "    }\n",
              "    90% {\n",
              "      border-color: transparent;\n",
              "      border-bottom-color: var(--fill-color);\n",
              "    }\n",
              "  }\n",
              "</style>\n",
              "\n",
              "  <script>\n",
              "    async function quickchart(key) {\n",
              "      const quickchartButtonEl =\n",
              "        document.querySelector('#' + key + ' button');\n",
              "      quickchartButtonEl.disabled = true;  // To prevent multiple clicks.\n",
              "      quickchartButtonEl.classList.add('colab-df-spinner');\n",
              "      try {\n",
              "        const charts = await google.colab.kernel.invokeFunction(\n",
              "            'suggestCharts', [key], {});\n",
              "      } catch (error) {\n",
              "        console.error('Error during call to suggestCharts:', error);\n",
              "      }\n",
              "      quickchartButtonEl.classList.remove('colab-df-spinner');\n",
              "      quickchartButtonEl.classList.add('colab-df-quickchart-complete');\n",
              "    }\n",
              "    (() => {\n",
              "      let quickchartButtonEl =\n",
              "        document.querySelector('#df-5a60373a-8566-40e3-9b0f-a19846281a92 button');\n",
              "      quickchartButtonEl.style.display =\n",
              "        google.colab.kernel.accessAllowed ? 'block' : 'none';\n",
              "    })();\n",
              "  </script>\n",
              "</div>\n",
              "\n",
              "    </div>\n",
              "  </div>\n"
            ],
            "application/vnd.google.colaboratory.intrinsic+json": {
              "type": "dataframe",
              "variable_name": "pois_df",
              "summary": "{\n  \"name\": \"pois_df\",\n  \"rows\": 10816,\n  \"fields\": [\n    {\n      \"column\": \"venue_id\",\n      \"properties\": {\n        \"dtype\": \"string\",\n        \"num_unique_values\": 10816,\n        \"samples\": [\n          \"49cbcc5cf964a5201d591fe3\",\n          \"4e151d2fcc3fb9f5a4377086\",\n          \"4b3a8e5df964a520d86925e3\"\n        ],\n        \"semantic_type\": \"\",\n        \"description\": \"\"\n      }\n    },\n    {\n      \"column\": \"latitude\",\n      \"properties\": {\n        \"dtype\": \"number\",\n        \"std\": 4.986021876111859,\n        \"min\": 21.262301,\n        \"max\": 47.757837,\n        \"num_unique_values\": 10624,\n        \"samples\": [\n          34.10418,\n          40.706882,\n          40.744372\n        ],\n        \"semantic_type\": \"\",\n        \"description\": \"\"\n      }\n    },\n    {\n      \"column\": \"longitude\",\n      \"properties\": {\n        \"dtype\": \"number\",\n        \"std\": 16.989888049184877,\n        \"min\": -158.049768,\n        \"max\": -70.922552,\n        \"num_unique_values\": 10305,\n        \"samples\": [\n          -71.020035,\n          -93.779627,\n          -98.63832\n        ],\n        \"semantic_type\": \"\",\n        \"description\": \"\"\n      }\n    },\n    {\n      \"column\": \"venue_category_name\",\n      \"properties\": {\n        \"dtype\": \"category\",\n        \"num_unique_values\": 349,\n        \"samples\": [\n          \"Medical Center\",\n          \"Scandinavian Restaurant\",\n          \"Meeting Room\"\n        ],\n        \"semantic_type\": \"\",\n        \"description\": \"\"\n      }\n    },\n    {\n      \"column\": \"country_code\",\n      \"properties\": {\n        \"dtype\": \"category\",\n        \"num_unique_values\": 1,\n        \"samples\": [\n          \"US\"\n        ],\n        \"semantic_type\": \"\",\n        \"description\": \"\"\n      }\n    },\n    {\n      \"column\": \"checkin_count\",\n      \"properties\": {\n        \"dtype\": \"number\",\n        \"std\": 205,\n        \"min\": 50,\n        \"max\": 8058,\n        \"num_unique_values\": 445,\n        \"samples\": [\n          244\n        ],\n        \"semantic_type\": \"\",\n        \"description\": \"\"\n      }\n    }\n  ]\n}"
            }
          },
          "metadata": {},
          "execution_count": 16
        }
      ]
    },
    {
      "cell_type": "markdown",
      "source": [
        "Let's count of many check-ins, POIs and users there are in the dataset."
      ],
      "metadata": {
        "id": "ElRPxCVU411x"
      }
    },
    {
      "cell_type": "code",
      "source": [
        "# Count the number of samples in each file\n",
        "print(\"Number of check-ins:\", len(checkins_df))\n",
        "print(\"Number of POIs:\", len(pois_df))\n",
        "print(\"Number of users:\", len(checkins_df['user_id'].unique()))"
      ],
      "metadata": {
        "colab": {
          "base_uri": "https://localhost:8080/"
        },
        "id": "v893x95L6N9K",
        "outputId": "17d4e32b-b6aa-44ec-f9a1-56bce4d75d88"
      },
      "execution_count": null,
      "outputs": [
        {
          "output_type": "stream",
          "name": "stdout",
          "text": [
            "Number of check-ins: 33263633\n",
            "Number of POIs: 3680126\n",
            "Number of users: 266909\n"
          ]
        }
      ]
    },
    {
      "cell_type": "markdown",
      "source": [
        "For now, there is too much data to train a GCN model, so I will need to reduce it.\n",
        "\n",
        "Let's see if there are missing values."
      ],
      "metadata": {
        "id": "6jDyYLWs6gFW"
      }
    },
    {
      "cell_type": "code",
      "source": [
        "# Count missing values in the dataframes\n",
        "print(\"Missing values in checkins_df:\")\n",
        "print(checkins_df.isnull().sum())\n",
        "\n",
        "print(\"\\nMissing values in pois_df:\")\n",
        "print(pois_df.isnull().sum())"
      ],
      "metadata": {
        "colab": {
          "base_uri": "https://localhost:8080/"
        },
        "id": "_c15qvhW4a7c",
        "outputId": "e0482304-49cf-45d0-e37a-c94ad242c399"
      },
      "execution_count": null,
      "outputs": [
        {
          "output_type": "stream",
          "name": "stdout",
          "text": [
            "Missing values in checkins_df:\n",
            "user_id            0\n",
            "venue_id           0\n",
            "timestamp          0\n",
            "Timezone_offset    0\n",
            "dtype: int64\n",
            "\n",
            "Missing values in pois_df:\n",
            "venue_id               0\n",
            "latitude               0\n",
            "longitude              0\n",
            "venue_category_name    0\n",
            "country_code           0\n",
            "dtype: int64\n"
          ]
        }
      ]
    },
    {
      "cell_type": "markdown",
      "source": [
        "Apparently, there are no missing values.\n",
        "\n",
        "Let's now compute some common statistics."
      ],
      "metadata": {
        "id": "ziZjQaW-4zFv"
      }
    },
    {
      "cell_type": "code",
      "source": [
        "# Maximum degree (number of connections) for users\n",
        "maximum_user_degree = checkins_df['user_id'].value_counts().max()\n",
        "\n",
        "# Maximum degree (number of connections) for POIs\n",
        "maximum_poi_degree = checkins_df['venue_id'].value_counts().max()\n",
        "\n",
        "# Minimum degree for users\n",
        "minimum_user_degree = checkins_df['user_id'].value_counts().min()\n",
        "\n",
        "# Minimum degree for POIs\n",
        "minimum_poi_degree = checkins_df['venue_id'].value_counts().min()\n",
        "\n",
        "# Average degree for users\n",
        "average_user_degree = checkins_df['user_id'].value_counts().mean()\n",
        "\n",
        "# Average degree for POIs\n",
        "average_poi_degree = checkins_df['venue_id'].value_counts().mean()\n",
        "\n",
        "# Print the results\n",
        "print(\"Maximum degree for users:\", int(maximum_user_degree))\n",
        "print(\"Minimum degree for users:\", int(minimum_user_degree))\n",
        "print(\"Average degree for users:\", int(average_user_degree))\n",
        "print(\"Maximum degree for POIs:\", int(maximum_poi_degree))\n",
        "print(\"Minimum degree for POIs:\", int(minimum_poi_degree))\n",
        "print(\"Average degree for POIs:\", int(average_poi_degree))"
      ],
      "metadata": {
        "colab": {
          "base_uri": "https://localhost:8080/"
        },
        "id": "XjS4mUWZlx_J",
        "outputId": "b861ce9d-487b-41c0-972d-dde06e2b01a9"
      },
      "execution_count": null,
      "outputs": [
        {
          "output_type": "stream",
          "name": "stdout",
          "text": [
            "Maximum degree for users: 5430\n",
            "Minimum degree for users: 1\n",
            "Average degree for users: 124\n",
            "Maximum degree for POIs: 34509\n",
            "Minimum degree for POIs: 1\n",
            "Average degree for POIs: 9\n"
          ]
        }
      ]
    },
    {
      "cell_type": "markdown",
      "source": [
        "Finally, let's also see how many POI categories there are and how many countries are the POIs from."
      ],
      "metadata": {
        "id": "jMKsGsDp2QwH"
      }
    },
    {
      "cell_type": "code",
      "source": [
        "# Count the number of unique country_code values\n",
        "unique_countries = pois_df['country_code'].nunique()\n",
        "\n",
        "# Count the number of unique venue_category_name values\n",
        "unique_categories = pois_df['venue_category_name'].nunique()\n",
        "\n",
        "# Print the results\n",
        "print(\"Number of countries:\", unique_countries)\n",
        "print(\"Number of POI categories:\", unique_categories)"
      ],
      "metadata": {
        "colab": {
          "base_uri": "https://localhost:8080/"
        },
        "id": "IcTJDCkW2bzT",
        "outputId": "f0012f99-6ac6-4540-cc46-280be165dcb1"
      },
      "execution_count": null,
      "outputs": [
        {
          "output_type": "stream",
          "name": "stdout",
          "text": [
            "Number of countries: 77\n",
            "Number of POI categories: 429\n"
          ]
        }
      ]
    },
    {
      "cell_type": "markdown",
      "source": [
        "### Data Preprocessing and Feature Engineering\n"
      ],
      "metadata": {
        "id": "sdWTK6fqWHly"
      }
    },
    {
      "cell_type": "markdown",
      "source": [
        "Before reducing the dimension of the data, I want to calculate the number of check-ins for each POI and add this information to the POIs dataframe."
      ],
      "metadata": {
        "id": "vfnE7HUuB6Bg"
      }
    },
    {
      "cell_type": "code",
      "source": [
        "# Calculate number of check-ins in the checkins_df for each POI\n",
        "poi_checkin_counts = checkins_df['venue_id'].value_counts()\n",
        "\n",
        "# Add this information to pois_df\n",
        "pois_df = pois_df.merge(poi_checkin_counts, left_on='venue_id', right_index=True, how='left')\n",
        "pois_df.rename(columns={'count': 'checkin_count'}, inplace=True)"
      ],
      "metadata": {
        "id": "YiKx8LtJCGSp"
      },
      "execution_count": null,
      "outputs": []
    },
    {
      "cell_type": "markdown",
      "source": [
        "For now, I decided to reduce the dimension of the data by keeping only the check-ins in USA and removing the users and POIs with less then 50 check-ins registered.\n",
        "\n",
        "In the future I will probably consider also additional countries."
      ],
      "metadata": {
        "id": "3HWznY60k3NF"
      }
    },
    {
      "cell_type": "code",
      "source": [
        "# Keep only the checkins and POIs from USA\n",
        "pois_df = pois_df[pois_df['country_code'] == 'US']\n",
        "checkins_df = checkins_df[checkins_df['venue_id'].isin(pois_df['venue_id'])]\n",
        "\n",
        "# Keep only checkins relative to users and POIs with more than 50 checkins\n",
        "pois_df = pois_df[pois_df['checkin_count'] >= 50]\n",
        "checkins_df = checkins_df[checkins_df['user_id'].isin(checkins_df['user_id'].value_counts()[checkins_df['user_id'].value_counts() >= 50].index)]"
      ],
      "metadata": {
        "id": "BeLbwde1sUOI"
      },
      "execution_count": null,
      "outputs": []
    },
    {
      "cell_type": "code",
      "source": [
        "# Check the number of samples of the filtered dfs\n",
        "print(\"Number of filtered check-in samples:\", len(checkins_df))\n",
        "print(\"Number of filtered POI samples:\", len(pois_df))\n",
        "print(\"Number of filtered users:\", len(checkins_df['user_id'].unique()))"
      ],
      "metadata": {
        "colab": {
          "base_uri": "https://localhost:8080/"
        },
        "id": "gaUeZ18-dRPI",
        "outputId": "acc6c792-9c1c-4973-ca0b-c6877afde7da"
      },
      "execution_count": null,
      "outputs": [
        {
          "output_type": "stream",
          "name": "stdout",
          "text": [
            "Number of filtered check-in samples: 3194341\n",
            "Number of filtered POI samples: 10816\n",
            "Number of filtered users: 22115\n"
          ]
        }
      ]
    },
    {
      "cell_type": "code",
      "source": [
        "# Save the new dataframes\n",
        "# checkins_df.to_csv(os.path.join(dataset_path, 'checkins_df_new.csv'), index=False)\n",
        "# pois_df.to_csv(os.path.join(dataset_path, 'pois_df_new.csv'), index=False)\n",
        "\n",
        "# Load the new dataframes\n",
        "checkins_df = pd.read_csv(os.path.join(dataset_path, 'checkins_df_new.csv'))\n",
        "pois_df = pd.read_csv(os.path.join(dataset_path, 'pois_df_new.csv'))"
      ],
      "metadata": {
        "id": "uEc6M3sB87kz"
      },
      "execution_count": null,
      "outputs": []
    },
    {
      "cell_type": "markdown",
      "source": [
        "Because I only have few information about the POIs, I will use the **FourSquare API** to extract additional information.\n",
        "Specifically, given the venue_id of each POI, I will retrieve the following information:\n",
        "\n",
        "\n",
        "*   name of the POI\n",
        "*   city\n",
        "*   textual description\n",
        "*   main amenities offered\n",
        "*   tip count\n",
        "*   price tier\n",
        "*   number of likes\n",
        "*   average rating\n",
        "*   rating count\n",
        "*   trending"
      ],
      "metadata": {
        "id": "-mZJ5uPMS72S"
      }
    },
    {
      "cell_type": "markdown",
      "source": [
        "For the amenities, because they can be a lot, I decided to consider only a subset of them (the most common ones) and define a function to check if a POI offers them. Finally, I will store the amenities offered by each POI as a string."
      ],
      "metadata": {
        "id": "l6OeSufdtpIT"
      }
    },
    {
      "cell_type": "code",
      "source": [
        "# Function to get the most common amenities for each POI (if present)\n",
        "def filter_common_amenities(attributes, common_amenities):\n",
        "\n",
        "    possible_values = ['yes', 'true', 'available', 'open', 'music']\n",
        "    filtered_amenities = set()\n",
        "    for group in attributes:\n",
        "        for item in group.get('items', []):\n",
        "            amenity_name = item.get('displayName', '')\n",
        "            amenity_value = item.get('displayValue', '')\n",
        "            # Check if the amenity matches any of the common amenities and if it's present\n",
        "            if any(common.lower() in amenity_name.lower() for common in common_amenities):\n",
        "               if any(value.lower() in amenity_value.lower() for value in possible_values):\n",
        "                  filtered_amenities.add(amenity_name)\n",
        "\n",
        "    # Format amenities as a single string that I will save in my pois_df.\n",
        "    amenities = ', '.join(sorted(filtered_amenities)) if filtered_amenities else 'None'\n",
        "    return amenities"
      ],
      "metadata": {
        "id": "_n1ruxQa5YzT"
      },
      "execution_count": null,
      "outputs": []
    },
    {
      "cell_type": "code",
      "source": [
        "# Insert Foursquare API credentials\n",
        "oauth_token= userdata.get('FoursquareToken')\n",
        "version = '20230804'  # Version of the API\n",
        "\n",
        "# Define common amenities keywords\n",
        "common_amenities = [\n",
        "    'Wi-Fi', 'Parking', 'Restrooms', 'Wheelchair Accessible', 'Outdoor Seating',\n",
        "    'Pet-Friendly', 'Credit Cards', 'Reservations', 'Smoking Area', 'Air Conditioning',\n",
        "    'Music'\n",
        "]\n",
        "\n",
        "# Function to get all the POIs additional details\n",
        "def get_venue_details(venue_id):\n",
        "    url = f\"https://api.foursquare.com/v2/venues/{venue_id}/?oauth_token={oauth_token}&v={version}\"\n",
        "    response = requests.get(url)\n",
        "    if response.status_code == 200:\n",
        "      venue = response.json().get('response', {}).get('venue', {})\n",
        "      location = venue.get('location', 'No location available')\n",
        "      attributes = venue.get('attributes', {}).get('groups', [])\n",
        "\n",
        "      # Get common amenities\n",
        "      amenities = filter_common_amenities(attributes, common_amenities)\n",
        "\n",
        "      venue_info = {\n",
        "          'venue_id': venue_id,\n",
        "          'name': venue.get('name', 'No name available'),\n",
        "          'city': venue.get('location', {}).get('city', 'No city available'),\n",
        "          'amenities': amenities,\n",
        "          'tip_count': venue.get('stats', {}).get('tipCount', 0),\n",
        "          'price_tier': venue.get('price', {}).get('tier', 0),\n",
        "          'likes': venue.get('likes', {}).get('count', 0),\n",
        "          'rating': venue.get('rating', 0),\n",
        "          'rating_count': venue.get('ratingSignals', 0),\n",
        "          'trending': venue.get('hereNow', {}).get('count', 0)\n",
        "      }\n",
        "\n",
        "      return venue_info\n",
        "    else:\n",
        "      return f\"Error: {response.status_code}\"\n"
      ],
      "metadata": {
        "id": "mYKbxXS7bcau"
      },
      "execution_count": null,
      "outputs": []
    },
    {
      "cell_type": "markdown",
      "source": [
        "Because of the rate limits of the Foursquare API, I have decided to download the information in batches and store the intermediate results. Once I have the information for all the POIs, I will add them to the original POIs dataframe through a merge operation."
      ],
      "metadata": {
        "id": "m5nP0X9bZCsH"
      }
    },
    {
      "cell_type": "code",
      "source": [
        "# Define batch size and delay\n",
        "batch_size = 450\n",
        "delay_between_batches = 3600  # 1 hour in seconds\n",
        "output_file = '/content/drive/My Drive/datasets/POIs/processed/pois_details.csv'\n",
        "checkpoint_file = '/content/drive/My Drive/datasets/POIs/processed/pois_checkpoint.csv'\n",
        "\n",
        "# Initialize the list to collect venue details\n",
        "venue_details_list = []\n",
        "\n",
        "# Check if the output file exists to handle appending data\n",
        "if os.path.exists(output_file):\n",
        "    # Load existing data\n",
        "    existing_df = pd.read_csv(output_file)\n",
        "else:\n",
        "    # Create an empty DataFrame if the file does not exist\n",
        "    existing_df = pd.DataFrame()\n",
        "\n",
        "# Check if a checkpoint file exists\n",
        "if os.path.exists(checkpoint_file):\n",
        "    checkpoint_df = pd.read_csv(checkpoint_file)\n",
        "    processed_poi_ids = set(checkpoint_df['venue_id'])\n",
        "else:\n",
        "    checkpoint_df = pd.DataFrame(columns=['venue_id'])\n",
        "    processed_poi_ids = set()\n",
        "\n",
        "# Get the list of POI IDs from your DataFrame\n",
        "poi_ids = pois_df['venue_id']\n",
        "\n",
        "# Iterate over each POI ID\n",
        "for i, venue_id in enumerate(poi_ids):\n",
        "    if venue_id in processed_poi_ids:\n",
        "        continue  # Skip already processed POIs\n",
        "\n",
        "    # Get venue info\n",
        "    venue_info = get_venue_details(venue_id)\n",
        "\n",
        "    # Check for rate limit\n",
        "    if venue_info == \"Error: 403\":\n",
        "        print(f\"Received 'Error: 403' for venue_id {venue_id}. Stopping and saving progress.\")\n",
        "        break  # Exit the loop to save progress without adding this POI\n",
        "\n",
        "    # Skip POIs with invalid venue_id\n",
        "    if venue_info == \"Error: 400\" or venue_info == \"Error: 500\":\n",
        "        print(f\"Received 'Error: 400' or 'Error: 500' for venue_id {venue_id}.\")\n",
        "        continue\n",
        "\n",
        "    print(venue_info)  # Print for debugging\n",
        "\n",
        "    # Add details to the list\n",
        "    venue_details_list.append(venue_info)\n",
        "\n",
        "    # Add to checkpoint\n",
        "    new_checkpoint = pd.DataFrame({'venue_id': [venue_id]})\n",
        "    checkpoint_df = pd.concat([checkpoint_df, new_checkpoint], ignore_index=True)\n",
        "    checkpoint_df.to_csv(checkpoint_file, index=False)\n",
        "\n",
        "    # Check if the batch is complete\n",
        "    if (i + 1) % batch_size == 0:\n",
        "        # Convert the list of venue details to a DataFrame\n",
        "        batch_df = pd.DataFrame(venue_details_list)\n",
        "\n",
        "        # Append new data to the existing DataFrame\n",
        "        if not existing_df.empty:\n",
        "            existing_df = pd.concat([existing_df, batch_df], ignore_index=True)\n",
        "        else:\n",
        "            existing_df = batch_df\n",
        "\n",
        "        # Save the updated DataFrame to a file\n",
        "        existing_df.to_csv(output_file, index=False)\n",
        "\n",
        "        # Clear the list for the next batch\n",
        "        venue_details_list = []\n",
        "\n",
        "        # Wait before continuing to respect rate limits\n",
        "        print(f\"Processed {i + 1} POIs. Waiting for {delay_between_batches} seconds...\")\n",
        "        time.sleep(delay_between_batches)\n",
        "\n",
        "# Handle any remaining POIs after the last batch\n",
        "if venue_details_list:\n",
        "    batch_df = pd.DataFrame(venue_details_list)\n",
        "    if not existing_df.empty:\n",
        "        existing_df = pd.concat([existing_df, batch_df], ignore_index=True)\n",
        "    else:\n",
        "        existing_df = batch_df\n",
        "    existing_df.to_csv(output_file, index=False)\n",
        "\n",
        "print(\"Processing complete.\")"
      ],
      "metadata": {
        "id": "V4KjA1MWi4Z-",
        "colab": {
          "base_uri": "https://localhost:8080/"
        },
        "outputId": "59d17da7-6977-4b15-ed0f-d92056dd9fea",
        "collapsed": true
      },
      "execution_count": null,
      "outputs": [
        {
          "output_type": "stream",
          "name": "stdout",
          "text": [
            "Received 'Error: 400' or 'Error: 500' for venue_id 4a842e82f964a520dcfb1fe3.\n",
            "{'venue_id': '5122dfbae4b054242008c7ae', 'name': 'Home', 'city': 'Indianapolis', 'amenities': 'None', 'tip_count': 0, 'price_tier': 0, 'likes': 0, 'rating': 0, 'rating_count': 0, 'trending': 0}\n",
            "{'venue_id': '512b4c86e4b08ef06fd02468', 'name': 'Ultracolor', 'city': 'Richmond', 'amenities': 'None', 'tip_count': 2, 'price_tier': 0, 'likes': 3, 'rating': 0, 'rating_count': 0, 'trending': 0}\n",
            "{'venue_id': '512c2cb7e4b045886b6d9de8', 'name': 'Burkland', 'city': 'Bethesda', 'amenities': 'None', 'tip_count': 0, 'price_tier': 0, 'likes': 2, 'rating': 0, 'rating_count': 0, 'trending': 0}\n",
            "{'venue_id': '5131dd1b526291007b1d5e7e', 'name': 'SxSW 2013', 'city': 'Austin', 'amenities': 'None', 'tip_count': 26, 'price_tier': 0, 'likes': 106, 'rating': 0, 'rating_count': 0, 'trending': 0}\n",
            "{'venue_id': '5133e834e4b0ed89414dea79', 'name': 'Casa de KRollin & Jakey', 'city': 'South Salt Lake', 'amenities': 'None', 'tip_count': 1, 'price_tier': 0, 'likes': 1, 'rating': 0, 'rating_count': 0, 'trending': 0}\n",
            "{'venue_id': '51340843e4b08f70ff1406c7', 'name': 'relaxin', 'city': 'Warren', 'amenities': 'None', 'tip_count': 1, 'price_tier': 0, 'likes': 2, 'rating': 0, 'rating_count': 0, 'trending': 0}\n",
            "{'venue_id': '513a84a2e4b099af3497b80a', 'name': 'Chevy #ChevySXSW Ride', 'city': 'Austin', 'amenities': 'None', 'tip_count': 8, 'price_tier': 0, 'likes': 106, 'rating': 0, 'rating_count': 0, 'trending': 0}\n",
            "{'venue_id': '513a86c8e4b0f666046e4896', 'name': 'Dragons Den', 'city': 'Minneapolis', 'amenities': 'None', 'tip_count': 0, 'price_tier': 0, 'likes': 0, 'rating': 0, 'rating_count': 0, 'trending': 0}\n",
            "{'venue_id': '513c244ee4b05d5c2fcad346', 'name': 'The Diamond On Diamond', 'city': 'San Diego', 'amenities': 'None', 'tip_count': 0, 'price_tier': 0, 'likes': 0, 'rating': 0, 'rating_count': 0, 'trending': 0}\n",
            "{'venue_id': '513e109be4b0bfae2f75700b', 'name': 'Ultra Music Festival', 'city': 'Miami', 'amenities': 'Credit Cards, Live Music', 'tip_count': 103, 'price_tier': 0, 'likes': 424, 'rating': 0, 'rating_count': 0, 'trending': 0}\n",
            "{'venue_id': '513e99c0e4b04856b214d524', 'name': 'Hyperion', 'city': 'San Antonio', 'amenities': 'None', 'tip_count': 0, 'price_tier': 0, 'likes': 3, 'rating': 0, 'rating_count': 0, 'trending': 0}\n",
            "{'venue_id': '514571f4e4b0315280e61a75', 'name': 'Coreys Place', 'city': 'Ilchester', 'amenities': 'None', 'tip_count': 0, 'price_tier': 0, 'likes': 0, 'rating': 0, 'rating_count': 0, 'trending': 0}\n",
            "{'venue_id': '51474374e4b0a3e60a6e1ed9', 'name': 'Work - MEEI', 'city': 'Boston', 'amenities': 'None', 'tip_count': 0, 'price_tier': 0, 'likes': 0, 'rating': 0, 'rating_count': 0, 'trending': 0}\n",
            "{'venue_id': '5147559cfe700a29cf8ca503', 'name': 'TFF 2013: Filmmaker/Industry Lounge', 'city': 'New York', 'amenities': 'None', 'tip_count': 4, 'price_tier': 0, 'likes': 93, 'rating': 0, 'rating_count': 0, 'trending': 0}\n",
            "{'venue_id': '51e451497dd2e0131577e5cf', 'name': 'Comic-Con International: San Diego', 'city': 'San Diego', 'amenities': 'Wi-Fi', 'tip_count': 459, 'price_tier': 0, 'likes': 613, 'rating': 7.6, 'rating_count': 905, 'trending': 0}\n",
            "{'venue_id': '51ed6716498ed51c50978c4d', 'name': 'Lollapalooza 2013', 'city': 'Chicago', 'amenities': 'None', 'tip_count': 31, 'price_tier': 0, 'likes': 107, 'rating': 0, 'rating_count': 0, 'trending': 0}\n",
            "Processing complete.\n"
          ]
        }
      ]
    },
    {
      "cell_type": "code",
      "source": [
        "# Define output file path\n",
        "output_file = '/content/drive/My Drive/datasets/POIs/processed/pois_details.csv'\n",
        "\n",
        "# Load the dataframe\n",
        "output_df = pd.read_csv(output_file)"
      ],
      "metadata": {
        "id": "ra_BRdL7f77w"
      },
      "execution_count": null,
      "outputs": []
    },
    {
      "cell_type": "code",
      "source": [
        "# There is only 1 POI with invalid user_id, so I will discard it\n",
        "# Remove from pois_df and checkins_df the POIs not in output_df\n",
        "pois_df = pois_df[pois_df['venue_id'].isin(output_df['venue_id'])]\n",
        "checkins_df = checkins_df[checkins_df['venue_id'].isin(output_df['venue_id'])]"
      ],
      "metadata": {
        "id": "G338E6Xepujv"
      },
      "execution_count": null,
      "outputs": []
    },
    {
      "cell_type": "code",
      "source": [
        "# Merge obtained details into the existing pois_df\n",
        "pois_df = pd.merge(pois_df, output_df, on='venue_id', how='left')"
      ],
      "metadata": {
        "id": "yy9KxETXfLcG"
      },
      "execution_count": null,
      "outputs": []
    },
    {
      "cell_type": "markdown",
      "source": [
        "Now that I have all the information that I need, I have to preprocess the features.\n",
        "\n",
        "Let's start from the numerical features: I decided to normalize all of them using the **StandardScaler**, except latitude and longitude.\n",
        "'**price_tier**', which is a categorical feature, is already label encoded."
      ],
      "metadata": {
        "id": "HnErbOQNdtvN"
      }
    },
    {
      "cell_type": "code",
      "source": [
        "# Load the StandardScaler\n",
        "scaler = StandardScaler()\n",
        "\n",
        "# Define the numerical features to normalize in the pois_df\n",
        "pois_numerical_features = ['tip_count', 'likes', 'rating', 'rating_count', 'checkin_count', 'trending']\n",
        "\n",
        "# Normalize them\n",
        "pois_df[pois_numerical_features] = scaler.fit_transform(pois_df[pois_numerical_features])"
      ],
      "metadata": {
        "id": "LWvO8t2CAQ0N"
      },
      "execution_count": null,
      "outputs": []
    },
    {
      "cell_type": "markdown",
      "source": [
        "Now I can extract the embeddings for the textual features.\n",
        "\n",
        "For this task, I decided to use the pretrained **SentenceBERT**, which is very powerful in computing embeddings for natural language texts.\n",
        "Because the POIs names and descriptions are in different languages, I decided to use the version **paraphrase-multilingual-MiniLM-L12-v2**, which is specifically trained to support multiple languages and provides good performance with relatively small size and fast inference."
      ],
      "metadata": {
        "id": "ABC54FC_yHyI"
      }
    },
    {
      "cell_type": "code",
      "source": [
        "# Define the TextEncoder (SentenceBERT)\n",
        "class TextEncoder:\n",
        "    def __init__(self, model_name='all-MiniLM-L6-v2', device=None):\n",
        "        self.device = device\n",
        "        self.model = SentenceTransformer(model_name, device=device)\n",
        "\n",
        "    @torch.no_grad()\n",
        "    def __call__(self, df):\n",
        "        x = self.model.encode(df, show_progress_bar=True,\n",
        "                              convert_to_tensor=True, device=self.device)\n",
        "        return x.cpu()"
      ],
      "metadata": {
        "id": "jP04BrtlKjoc"
      },
      "execution_count": null,
      "outputs": []
    },
    {
      "cell_type": "code",
      "source": [
        "# Check if GPU is available and move the model to GPU\n",
        "device = 'cuda' if torch.cuda.is_available() else 'cpu'\n",
        "encoder = TextEncoder(device=device)\n",
        "\n",
        "# Textual features to encode\n",
        "textual_features = ['name', 'city', 'venue_category_name']\n",
        "\n",
        "# Generate embeddings for each textual feature\n",
        "name_embeddings = encoder(pois_df['name'].tolist())\n",
        "venue_category_embeddings = encoder(pois_df['venue_category_name'].tolist())\n",
        "city_embeddings = encoder(pois_df['city'].tolist())"
      ],
      "metadata": {
        "id": "Uzv9PjIdB9FR",
        "colab": {
          "base_uri": "https://localhost:8080/",
          "height": 624,
          "referenced_widgets": [
            "4fca896b640045dab22f23aade228395",
            "0fed4a823ecd47bf839d2cf64e8d64d2",
            "f388ed837b6b4213b2c8bfdfeb6b2b3d",
            "1ea49d10b92d49c6960cd2a14ff70ece",
            "ea365e68cc614fc7b00e709594a2cb10",
            "ecebf8fbf3074d1da58644fe8f6dbe9a",
            "e322ee0b832b40d5ad7812725501dbd1",
            "f551ebe347b0425f9059661321721268",
            "22db5397b6514c40a3e82a3a4357fb70",
            "b4acb0d9061f44c8ba6ace1b7c2f8cbb",
            "5cfe836e435549e595d22afb4bf7c1f1",
            "455ea520b89d461eadc086641c3595c9",
            "aae61274f14b4d27b35f3f1c15350351",
            "70a1df8ff2ef4c4e824bc40699324924",
            "97d38e73575e4913880a9c345f8c4fbb",
            "803fa0ec7e2e47e09455ec2ea000cd4b",
            "852abf6b8e6342ca8ecb0c3a87a2f69c",
            "5f3c12ab118a414dbe8caa48b13b57d1",
            "8a7b13b09ecd41209a345efdbe1e886f",
            "d28109d7940d4a54a4f95ccb586c9c93",
            "8955bbcf5ca54ecaa6959a12b0c9bd2f",
            "55893771cb654a21bfc94372a4c5e121",
            "7d6de11c25b04e52bf753be08c952029",
            "93f8e6cfff444fe98e105ebe44fc70f2",
            "5fb44a6c76954ef8bf69f6dbd36742a8",
            "e3c8571de2e84a9c90188c63dee9979d",
            "478a645c0dda4101b34fe9614f085c54",
            "f374d66b8f9c4af3bff165bdd92b40b4",
            "6374848d02054e4ab02f97a950de3f58",
            "eef0b38dd5a34575a999125b4702099b",
            "62e1d8a84c3f43ecab5ec962c26e1264",
            "2323659fedef4844b4354eccc938054f",
            "0aa23f7a561f4c6f970ba0260a6f626f",
            "15425703213e4d458dcf75215606f5bd",
            "eb8e69098cfa4481b6db5bff973aa1ba",
            "dffd1f2b4306461e8012aef1a104b91b",
            "568733aac39d4092abfed374e552ddaf",
            "2632c2a4571e4460a14973ec8cc7dc27",
            "cc3d01b96fe743c38ef26eb7d0ba13c7",
            "301793984f2349a7bfcebebc581e0de8",
            "be761638db764a67bbd3d06073606c68",
            "3ee563fee1734162bfab7c32ea072ca2",
            "54d0710b374744729b6459ac0e95c066",
            "a58ddacc9d744315a96e1286be1865f7",
            "9485f50fdf9b44f186f9f12854ebc11c",
            "eea21ccf94bb461a860f8e4045ede009",
            "4f9a4e67f1414d8592e35744ff880c0c",
            "e9a060d488374ea58c13e89a91847162",
            "8ed77eda2d3c404f8af10906757cfa46",
            "90a447edf6b140119302786be5451804",
            "2ed89209fb054b7e9aa1fe34499419c0",
            "2810a2b69e684847826c05095e16a650",
            "ac6419bc2a37418792b2ebd6334a34ac",
            "35ec2ab3a13e44a3b62ae239adc7ce4d",
            "cd9fe0c12bbb4d96b9fb360504d57a2e",
            "d4e340d761104c0eaed498df9b93b3bb",
            "79a82922d2094756a8cf058ab3e8c9b7",
            "27c735f31f04431e90bc53e4b605e7a4",
            "de6f428f2c2246cab88c5f82fbb7bc6f",
            "cad9f127987d47b5ac8096366d3d1a04",
            "3abfa3a60bbf4f74a7b2fae4879807da",
            "f89ee75ed8144eea94ae245ea00c4c98",
            "5a5b0092bfc04e15b38d4522ea474d17",
            "e05b23fe32f64c3282217f5bf960eab4",
            "de53cd88175b416fbf7d5d2a0426e6a1",
            "c84d26829a984671b5ab71b435184d72",
            "2f5e4e383cd8461db38577cd5f057b46",
            "212d6887c44f4193b9e24a1ab34bd17b",
            "206b9e0090fe4002a3e61cd7019df6db",
            "4bece8706fe54f08af78424236f30492",
            "4ca2f78c17d64e57af3e625cf847173e",
            "077d894e4cc74fe692a53b5b499247e9",
            "40a24942b7094433b85a7fe9278f4a54",
            "6d08fe9cb09e4c73a9b93c7d4959b471",
            "6be72cec114243a19de1c303d6ad7ade",
            "a2e97f4a8d5743efbda690c45d58c4c0",
            "fc6a92fa8f9a4d64a75d32295e0dccd2",
            "f8c01a9ff28f458faad18f7727f886e2",
            "1dd892b534574c59af65aa7ba67b72fc",
            "4a674d1bb6da4aaf94e25be4f0a42fad",
            "e90c7aeb613545c1b57cd1bc5caaa8d8",
            "f063953d9f2648b090b378bec14cb86a",
            "df4ddd47577f4cf4be48398f58b30f1d",
            "79949caae7a1488ba3ba1854d17da689",
            "ff8c35b179b04507b7490bf340880fce",
            "3d6f657df0234042ae6509df228dbdb6",
            "af6bb1efbb5e47bda457637f6b62422d",
            "9bde14b7534e47048059dfcea16f27b7",
            "0780618b081249aba88b1ea50937e81a",
            "3bbb6d524d2c4037a7f052ed98e5454f",
            "f2d2f42b4c264116ab168130181f7236",
            "0cf4ec998b7a4af8890eb34f743c484e",
            "66c647c2b4334747b6f75c9c3c667e5e",
            "343649e9a23e40c0a76e901410c975f6",
            "11821ccd16df426bafe09fe5b60e2ae9",
            "eb1bcd463b584faa90774a971343b5d6",
            "29630faff94c4a959ba00a1223a21fb3",
            "378ff24c7ef148deb41a73c8db75a732",
            "99b19e25c5914a969240a529fd4677f5",
            "ed84eadd765e438d905bfae21704a14f",
            "6d659f9956c84570bf3caa8589ba5f94",
            "018ba75508e84e619b482d2edc3de37f",
            "2ceb501e818f480aa4cbc1bd7211a98e",
            "4f4f71ed79914bd78a22c15897e6a786",
            "35ed7518dd38473bb54889091569e3d4",
            "52396e4e7f93471ebba86a45158c9fc8",
            "73b7df2c64cc4e62a26190c3820b67f6",
            "0de4cd75db344d9cb12f0eac68ce3003",
            "c7ee1be2bc184dd4ba3fcc1fc5af6963",
            "e37e54422afe4b898de941127703611e",
            "7dba2f20885142a8b3d64cc9c7ba166a",
            "d4d37c1ad4254508a5c4649366f1fcb8",
            "abeb9006097848619023e17900109429",
            "4057c81e92874a4a9d09c8257befe205",
            "9c7ddf6d22d54e7cb72e5e1286568705",
            "64d1e4a3a4d14ef290d52dd5e73ad776",
            "5eefd73ab87643f788bb141e614cec70",
            "fea286d8d07a42a7997d1fd04b94b060",
            "a0992b1b731c4bd9a8c336f3517a122b",
            "ee97cd7cc5704e5fb74306677a97e2ec",
            "f5750767500a471088a951cf6bc78242",
            "85bf9d82ccc7459896303e55cd1193bf",
            "419a5c08efdd4859a54a675157d31ec8",
            "bb09b11cd2eb4f0abcda3eeea872e7e8",
            "24bb6de7e29f42f097d5505d9cd054bb",
            "f62088891bc74038a22b565dc626c813",
            "e0822890007046ed8e8056c7bb66515a",
            "ec6722f29a6b470da1fa34f9cf4649c6",
            "3ec4a9fa40e34323912e4a3b5d91be4d",
            "38542504fb574c6189a40043cdc89301",
            "fcc52859b9e2458ba3a925e37a2d7c43",
            "2d0606ff69224ef08f079238b8ecdbd5",
            "971fe34a6740416f8cb2a7e02b20eebc",
            "03ae85348baa4a30aa89fd703bb38874",
            "8ae062a806e543f28fd8db751d5b77c1",
            "579fbdb9451645678e42c380f8445ffe",
            "e82663f28d2f4cbdb4328187b8a2ba4d",
            "865713c3af774d599a9d7bb33ee2365f",
            "8036519299d840ab82fbc00f07f4a186",
            "9b3b12e145a049c9aca8fc68911fd46d",
            "0da6148a21ee432db0c5c06251d9af18",
            "ffd96a84443746d28b9d4167d76e0620",
            "c33f96f733ca4f6a9afc92f08bd4fc6f",
            "8f8b1366f0c143fd92f78cc256195ff8",
            "cd6b171fc9724cd391a7a1029766f83b",
            "48519a849119448d8e594695c9087017",
            "7dd21e46036c4d5cbe8cb0abda0d2577",
            "93992c73e9f747dfa5ed570e02b38b92",
            "5de316292b1d4f8d80f921f85f90f8ec",
            "ce91e3a8a996461fa4cdb8a53d659048",
            "954cd6dae7d74c99a060bfda2b2753e2",
            "58f390167be645a8abd4328835f43dd4",
            "8f938a57ca334391a5df68f8e8159066",
            "6b801148ad2044009ad2020fe630f7e0"
          ]
        },
        "outputId": "c4d9d93b-a941-45f4-87aa-ff12cae07973",
        "collapsed": true
      },
      "execution_count": null,
      "outputs": [
        {
          "output_type": "stream",
          "name": "stderr",
          "text": [
            "/usr/local/lib/python3.10/dist-packages/huggingface_hub/utils/_token.py:89: UserWarning: \n",
            "The secret `HF_TOKEN` does not exist in your Colab secrets.\n",
            "To authenticate with the Hugging Face Hub, create a token in your settings tab (https://huggingface.co/settings/tokens), set it as secret in your Google Colab and restart your session.\n",
            "You will be able to reuse this secret in all of your notebooks.\n",
            "Please note that authentication is recommended but still optional to access public models or datasets.\n",
            "  warnings.warn(\n"
          ]
        },
        {
          "output_type": "display_data",
          "data": {
            "text/plain": [
              "modules.json:   0%|          | 0.00/349 [00:00<?, ?B/s]"
            ],
            "application/vnd.jupyter.widget-view+json": {
              "version_major": 2,
              "version_minor": 0,
              "model_id": "4fca896b640045dab22f23aade228395"
            }
          },
          "metadata": {}
        },
        {
          "output_type": "display_data",
          "data": {
            "text/plain": [
              "config_sentence_transformers.json:   0%|          | 0.00/116 [00:00<?, ?B/s]"
            ],
            "application/vnd.jupyter.widget-view+json": {
              "version_major": 2,
              "version_minor": 0,
              "model_id": "455ea520b89d461eadc086641c3595c9"
            }
          },
          "metadata": {}
        },
        {
          "output_type": "display_data",
          "data": {
            "text/plain": [
              "README.md:   0%|          | 0.00/10.7k [00:00<?, ?B/s]"
            ],
            "application/vnd.jupyter.widget-view+json": {
              "version_major": 2,
              "version_minor": 0,
              "model_id": "7d6de11c25b04e52bf753be08c952029"
            }
          },
          "metadata": {}
        },
        {
          "output_type": "display_data",
          "data": {
            "text/plain": [
              "sentence_bert_config.json:   0%|          | 0.00/53.0 [00:00<?, ?B/s]"
            ],
            "application/vnd.jupyter.widget-view+json": {
              "version_major": 2,
              "version_minor": 0,
              "model_id": "15425703213e4d458dcf75215606f5bd"
            }
          },
          "metadata": {}
        },
        {
          "output_type": "display_data",
          "data": {
            "text/plain": [
              "config.json:   0%|          | 0.00/612 [00:00<?, ?B/s]"
            ],
            "application/vnd.jupyter.widget-view+json": {
              "version_major": 2,
              "version_minor": 0,
              "model_id": "9485f50fdf9b44f186f9f12854ebc11c"
            }
          },
          "metadata": {}
        },
        {
          "output_type": "display_data",
          "data": {
            "text/plain": [
              "model.safetensors:   0%|          | 0.00/90.9M [00:00<?, ?B/s]"
            ],
            "application/vnd.jupyter.widget-view+json": {
              "version_major": 2,
              "version_minor": 0,
              "model_id": "d4e340d761104c0eaed498df9b93b3bb"
            }
          },
          "metadata": {}
        },
        {
          "output_type": "display_data",
          "data": {
            "text/plain": [
              "tokenizer_config.json:   0%|          | 0.00/350 [00:00<?, ?B/s]"
            ],
            "application/vnd.jupyter.widget-view+json": {
              "version_major": 2,
              "version_minor": 0,
              "model_id": "2f5e4e383cd8461db38577cd5f057b46"
            }
          },
          "metadata": {}
        },
        {
          "output_type": "display_data",
          "data": {
            "text/plain": [
              "vocab.txt:   0%|          | 0.00/232k [00:00<?, ?B/s]"
            ],
            "application/vnd.jupyter.widget-view+json": {
              "version_major": 2,
              "version_minor": 0,
              "model_id": "f8c01a9ff28f458faad18f7727f886e2"
            }
          },
          "metadata": {}
        },
        {
          "output_type": "display_data",
          "data": {
            "text/plain": [
              "tokenizer.json:   0%|          | 0.00/466k [00:00<?, ?B/s]"
            ],
            "application/vnd.jupyter.widget-view+json": {
              "version_major": 2,
              "version_minor": 0,
              "model_id": "0780618b081249aba88b1ea50937e81a"
            }
          },
          "metadata": {}
        },
        {
          "output_type": "display_data",
          "data": {
            "text/plain": [
              "special_tokens_map.json:   0%|          | 0.00/112 [00:00<?, ?B/s]"
            ],
            "application/vnd.jupyter.widget-view+json": {
              "version_major": 2,
              "version_minor": 0,
              "model_id": "ed84eadd765e438d905bfae21704a14f"
            }
          },
          "metadata": {}
        },
        {
          "output_type": "stream",
          "name": "stderr",
          "text": [
            "/usr/local/lib/python3.10/dist-packages/transformers/tokenization_utils_base.py:1601: FutureWarning: `clean_up_tokenization_spaces` was not set. It will be set to `True` by default. This behavior will be depracted in transformers v4.45, and will be then set to `False` by default. For more details check this issue: https://github.com/huggingface/transformers/issues/31884\n",
            "  warnings.warn(\n"
          ]
        },
        {
          "output_type": "display_data",
          "data": {
            "text/plain": [
              "1_Pooling/config.json:   0%|          | 0.00/190 [00:00<?, ?B/s]"
            ],
            "application/vnd.jupyter.widget-view+json": {
              "version_major": 2,
              "version_minor": 0,
              "model_id": "7dba2f20885142a8b3d64cc9c7ba166a"
            }
          },
          "metadata": {}
        },
        {
          "output_type": "display_data",
          "data": {
            "text/plain": [
              "Batches:   0%|          | 0/338 [00:00<?, ?it/s]"
            ],
            "application/vnd.jupyter.widget-view+json": {
              "version_major": 2,
              "version_minor": 0,
              "model_id": "85bf9d82ccc7459896303e55cd1193bf"
            }
          },
          "metadata": {}
        },
        {
          "output_type": "display_data",
          "data": {
            "text/plain": [
              "Batches:   0%|          | 0/338 [00:00<?, ?it/s]"
            ],
            "application/vnd.jupyter.widget-view+json": {
              "version_major": 2,
              "version_minor": 0,
              "model_id": "971fe34a6740416f8cb2a7e02b20eebc"
            }
          },
          "metadata": {}
        },
        {
          "output_type": "display_data",
          "data": {
            "text/plain": [
              "Batches:   0%|          | 0/338 [00:00<?, ?it/s]"
            ],
            "application/vnd.jupyter.widget-view+json": {
              "version_major": 2,
              "version_minor": 0,
              "model_id": "8f8b1366f0c143fd92f78cc256195ff8"
            }
          },
          "metadata": {}
        }
      ]
    },
    {
      "cell_type": "markdown",
      "source": [
        "For the **'country_code'** feature, because it is a categorical feature and not a proper text, I decided to encode it with labels, using the **LabelEncoder**."
      ],
      "metadata": {
        "id": "RkuRhBmNUIQ7"
      }
    },
    {
      "cell_type": "code",
      "source": [
        "# Initialize LabelEncoder\n",
        "label_encoder = LabelEncoder()\n",
        "\n",
        "# Fit and transform the 'country_code' column\n",
        "pois_df['country_code_encoded'] = label_encoder.fit_transform(pois_df['country_code'])"
      ],
      "metadata": {
        "id": "acmhOXRTUKZe"
      },
      "execution_count": null,
      "outputs": []
    },
    {
      "cell_type": "markdown",
      "source": [
        "Finally, for the **'amenities'** feature, because I'm considering only the top 10 amenities, which I've represented in a compact format as an ordered string, I decided to encode it as a binary vector of 10 elements, where each element indicates if the corresponding amenity is offered (1) or not (0) by a POI."
      ],
      "metadata": {
        "id": "F-f14uoSULd3"
      }
    },
    {
      "cell_type": "code",
      "source": [
        "# Function to create multi-hot encoding for amenities\n",
        "def encode_amenities(amenities_list, all_amenities):\n",
        "    # Initialize a binary vector of zeros for each POI\n",
        "    encoding = np.zeros(len(all_amenities), dtype=int)\n",
        "\n",
        "    # Check if 'None' is in the amenities_list; if so, leave the vector as all zeros\n",
        "    if pd.isna(amenities_list):\n",
        "        return encoding\n",
        "\n",
        "    # Split the amenities string into a list\n",
        "    amenities_list = amenities_list.split(', ')\n",
        "\n",
        "    # Iterate over all possible amenities\n",
        "    for i, amenity in enumerate(all_amenities):\n",
        "        # Set the corresponding position to 1 if the amenity is present\n",
        "        if amenity in amenities_list:\n",
        "            encoding[i] = 1\n",
        "\n",
        "    return encoding"
      ],
      "metadata": {
        "id": "S0qHeOxyU2Hy"
      },
      "execution_count": null,
      "outputs": []
    },
    {
      "cell_type": "code",
      "source": [
        "# Get all the amenities names\n",
        "all_amenities = set()\n",
        "for amenities in pois_df['amenities']:\n",
        "    if pd.notna(amenities):\n",
        "        all_amenities.update(amenities.split(', '))\n",
        "\n",
        "# Apply the multi-hot encoding to the 'amenities' column\n",
        "pois_df['amenities_encoded'] = pois_df['amenities'].apply(\n",
        "    lambda x: encode_amenities(x, all_amenities)\n",
        ")"
      ],
      "metadata": {
        "id": "g2D-i_ExVjwb"
      },
      "execution_count": null,
      "outputs": []
    },
    {
      "cell_type": "markdown",
      "source": [
        "Now I can combine all the POIs processed features into a final torch tensor, which will be the feature representation for each POI."
      ],
      "metadata": {
        "id": "fblctbfIcR5Q"
      }
    },
    {
      "cell_type": "code",
      "source": [
        "# Combine all the standard features\n",
        "standard_features = pois_df[['latitude', 'longitude', 'tip_count',\n",
        "                              'price_tier', 'likes', 'rating', 'rating_count',\n",
        "                              'checkin_count', 'trending',\n",
        "                              'country_code_encoded']]\n",
        "standard_features = np.column_stack(standard_features.values).astype(np.float32).T\n",
        "\n",
        "# Combine the embeddings of each textual feature\n",
        "textual_embeddings = np.hstack((name_embeddings, venue_category_embeddings, city_embeddings)).astype(np.float32)\n",
        "\n",
        "# Handle 'amenities_encoded' separately and convert to float32\n",
        "amenities_encoded = np.vstack(pois_df['amenities_encoded'].values).astype(np.float32)\n",
        "\n",
        "# Combine all features into a single numpy array\n",
        "combined_features = np.hstack([\n",
        "    standard_features,\n",
        "    textual_embeddings,\n",
        "    amenities_encoded\n",
        "])\n",
        "\n",
        "# Convert the combined features to a PyTorch tensor\n",
        "poi_features_tensor = torch.tensor(combined_features, dtype=torch.float32)"
      ],
      "metadata": {
        "id": "Cm8QlieaP9ih"
      },
      "execution_count": null,
      "outputs": []
    },
    {
      "cell_type": "markdown",
      "source": [
        "As the last step, I have to convert also the **timestamp** feature in the checkins_df in a torch tensor, which I will use as edge features in my graph data later."
      ],
      "metadata": {
        "id": "BUvfqI4MRlJk"
      }
    },
    {
      "cell_type": "code",
      "source": [
        "# Extract and reshape the relevant features\n",
        "timestamps = pd.to_datetime(checkins_df['timestamp']).astype(np.int64) // 10**9  # Convert to seconds\n",
        "edge_attr_tensor = torch.tensor(timestamps.astype(np.float32), dtype=torch.float32)"
      ],
      "metadata": {
        "id": "H7kadcV8Ryet",
        "colab": {
          "base_uri": "https://localhost:8080/"
        },
        "outputId": "23dc7af1-6d49-4270-e9a8-fed01d6c61ba"
      },
      "execution_count": null,
      "outputs": [
        {
          "output_type": "stream",
          "name": "stderr",
          "text": [
            "<ipython-input-10-7c1d180babe7>:2: UserWarning: Could not infer format, so each element will be parsed individually, falling back to `dateutil`. To ensure parsing is consistent and as-expected, please specify a format.\n",
            "  timestamps = pd.to_datetime(checkins_df['timestamp']).astype(np.int64) // 10**9  # Convert to seconds\n"
          ]
        }
      ]
    },
    {
      "cell_type": "markdown",
      "source": [
        "Completed the preprocessing steps, I will save the preprocessed dataframes and also the node and edge feature representations."
      ],
      "metadata": {
        "id": "UK52T9x5FYrJ"
      }
    },
    {
      "cell_type": "code",
      "source": [
        "# Define the save path\n",
        "dataset_path = '/content/drive/My Drive/datasets/POIs/processed/'\n",
        "checkins_df_path = os.path.join(dataset_path, 'checkins_df.csv')\n",
        "pois_df_path = os.path.join(dataset_path, 'pois_df.csv')\n",
        "features_tensor_path = os.path.join(dataset_path, 'poi_features_tensor.pt')\n",
        "attr_tensor_path = os.path.join(dataset_path, 'edge_attr_tensor.pt')"
      ],
      "metadata": {
        "id": "cjK3IaiAMkpd"
      },
      "execution_count": 5,
      "outputs": []
    },
    {
      "cell_type": "code",
      "source": [
        "# # Save the preprocessed dataframes and poi_features_tensor and edge_attr_tensor\n",
        "# checkins_df.to_csv(checkins_df_path, index=False)\n",
        "# pois_df.to_csv(pois_df_path, index=False)\n",
        "# torch.save(poi_features_tensor, features_tensor_path)\n",
        "# torch.save(edge_attr_tensor, attr_tensor_path)"
      ],
      "metadata": {
        "id": "zr9JGRhcNfa6"
      },
      "execution_count": null,
      "outputs": []
    },
    {
      "cell_type": "code",
      "source": [
        "# Load the preprocessed dataframes\n",
        "checkins_df = pd.read_csv(checkins_df_path)\n",
        "pois_df = pd.read_csv(pois_df_path)"
      ],
      "metadata": {
        "id": "4w0OUrzpKjeO"
      },
      "execution_count": 6,
      "outputs": []
    },
    {
      "cell_type": "code",
      "source": [
        "# Load the node features and edge attributes tensors\n",
        "poi_features = torch.load(features_tensor_path)\n",
        "edge_attr = torch.load(attr_tensor_path)"
      ],
      "metadata": {
        "colab": {
          "base_uri": "https://localhost:8080/"
        },
        "id": "oM8cTu_uT9cw",
        "outputId": "0dcb6a0a-d2eb-4d59-fc1a-e8d6b0de020b"
      },
      "execution_count": 7,
      "outputs": [
        {
          "output_type": "stream",
          "name": "stderr",
          "text": [
            "<ipython-input-7-86931ca05aa2>:2: FutureWarning: You are using `torch.load` with `weights_only=False` (the current default value), which uses the default pickle module implicitly. It is possible to construct malicious pickle data which will execute arbitrary code during unpickling (See https://github.com/pytorch/pytorch/blob/main/SECURITY.md#untrusted-models for more details). In a future release, the default value for `weights_only` will be flipped to `True`. This limits the functions that could be executed during unpickling. Arbitrary objects will no longer be allowed to be loaded via this mode unless they are explicitly allowlisted by the user via `torch.serialization.add_safe_globals`. We recommend you start setting `weights_only=True` for any use case where you don't have full control of the loaded file. Please open an issue on GitHub for any issues related to this experimental feature.\n",
            "  poi_features = torch.load(features_tensor_path)\n",
            "<ipython-input-7-86931ca05aa2>:3: FutureWarning: You are using `torch.load` with `weights_only=False` (the current default value), which uses the default pickle module implicitly. It is possible to construct malicious pickle data which will execute arbitrary code during unpickling (See https://github.com/pytorch/pytorch/blob/main/SECURITY.md#untrusted-models for more details). In a future release, the default value for `weights_only` will be flipped to `True`. This limits the functions that could be executed during unpickling. Arbitrary objects will no longer be allowed to be loaded via this mode unless they are explicitly allowlisted by the user via `torch.serialization.add_safe_globals`. We recommend you start setting `weights_only=True` for any use case where you don't have full control of the loaded file. Please open an issue on GitHub for any issues related to this experimental feature.\n",
            "  edge_attr = torch.load(attr_tensor_path)\n"
          ]
        }
      ]
    },
    {
      "cell_type": "markdown",
      "source": [
        "## Build the Graph\n",
        "Now that I have cleaned, processed and split the dataframes, and obtained the feature and edge representations, I need to create the graph data that I will use to train my GCN-based model.\n",
        "To handle all the graph computations, I decided to use **PyTorch Geometric**.\n",
        "In particular, I decided to build an heterogeneous graph with 2 types of nodes (users and POIs) and 3 different types of edges:\n",
        "\n",
        "*   Edges between users and POIs: a user will be connected to a POI by an edge, if that user has visited that POI.\n",
        "\n",
        "*   Edges between POIs: two POIs will be connected by an edge, if they have been visited sequentially. The weight of the link will be proportional to the number of times the 2 POIs have been visited sequentially.\n",
        "\n",
        "*   Edges between users: two users will be connected by an edge, if they have visited POIs in common. The weight of the link will be proportional to the number of common POIs visited.\n",
        "\n",
        "The edges between POIs will be directed, because I need to keep track of which POI has been visited first between the 2.\n",
        "The other 2 types of edges will be undirected, in such a way that the model can propagate information in both directions of the edges."
      ],
      "metadata": {
        "id": "TPzGY20JN1PM"
      }
    },
    {
      "cell_type": "code",
      "source": [
        "# Function to create edges between user and POI nodes\n",
        "def create_user_poi_edges(df, src_index_col, src_mapping, dst_index_col, dst_mapping):\n",
        "\n",
        "    # Map user and POI indices to integers\n",
        "    src = [user_mapping[user_id] for user_id in df[src_index_col]]\n",
        "    dst = [poi_mapping[poi_id] for poi_id in df[dst_index_col]]\n",
        "\n",
        "    # Combine the source and destination lists into a tensor\n",
        "    edge_index = torch.tensor([src, dst], dtype=torch.long)\n",
        "\n",
        "    # Create edge labels (1 for existing edges)\n",
        "    edge_label = torch.ones(edge_index.size(1), dtype=torch.long)\n",
        "\n",
        "    return edge_index, edge_label\n",
        "\n",
        "# Function to create edges between POIs\n",
        "def create_poi_edges(df, poi_mapping):\n",
        "    poi_pairs = defaultdict(int)\n",
        "\n",
        "    # Sort by user and timestamp\n",
        "    df = df.sort_values(by=['user_id', 'timestamp'])\n",
        "\n",
        "    for user_id, user_df in df.groupby('user_id'):\n",
        "        # Take the list of all POIs visited by the user\n",
        "        pois = user_df['venue_id'].tolist()\n",
        "        for i in range(len(pois) - 1):\n",
        "            src_poi = poi_mapping[pois[i]]\n",
        "            dst_poi = poi_mapping[pois[i+1]]\n",
        "            # Increment the weight of the edge between 2 POIs, every time they appear sequently\n",
        "            poi_pairs[(src_poi, dst_poi)] += 1\n",
        "\n",
        "   # Apply logarithmic transformation to weights, starting at 1\n",
        "    poi_pairs = {pair: np.log10(1 + weight) for pair, weight in poi_pairs.items()}\n",
        "\n",
        "    # Convert to tensor format\n",
        "    couples, weights = zip(*poi_pairs.items())  # Unpack items into separate lists\n",
        "    src, dst = zip(*couples)  # Unpack source and destination\n",
        "    edge_index = torch.tensor([src, dst], dtype=torch.long)\n",
        "    edge_weight = torch.tensor(weights, dtype=torch.float)\n",
        "    return edge_index, edge_weight\n",
        "\n",
        "# Function to create edges between users\n",
        "def create_user_edges(df, user_mapping, poi_mapping):\n",
        "    user_pairs = defaultdict(int)\n",
        "\n",
        "    # Group by POI and find users who visited the same POI\n",
        "    poi_to_users = defaultdict(set)\n",
        "    for _, row in df.iterrows():\n",
        "        user_id = user_mapping[row['user_id']]\n",
        "        poi_id = poi_mapping[row['venue_id']]\n",
        "        poi_to_users[poi_id].add(user_id)\n",
        "\n",
        "    # Create user-user pairs\n",
        "    for users in poi_to_users.values():\n",
        "        users = list(users)\n",
        "        for i in range(len(users)):\n",
        "            for j in range(i + 1, len(users)):\n",
        "                # Increment the weight logaritmically based on the number of common POIs\n",
        "                user_pairs[(users[i], users[j])] += np.log10(1 + user_pairs[(users[i], users[j])]) + 1\n",
        "\n",
        "    # Filter to keep only pairs with at least 1 common POI\n",
        "    user_pairs = {pair: weight for pair, weight in user_pairs.items() if weight >= 1}\n",
        "\n",
        "    src, dst, weights = [], [], []\n",
        "    for (src_user, dst_user), weight in user_pairs.items():\n",
        "        src.append(src_user)\n",
        "        dst.append(dst_user)\n",
        "        weights.append(weight)\n",
        "\n",
        "    # Build index and weight tensors\n",
        "    edge_index = torch.tensor([src, dst], dtype=torch.long)\n",
        "    edge_weight = torch.tensor(weights, dtype=torch.float)\n",
        "\n",
        "    return edge_index, edge_weight"
      ],
      "metadata": {
        "id": "0XezW3bhmjvx"
      },
      "execution_count": null,
      "outputs": []
    },
    {
      "cell_type": "code",
      "source": [
        "# Create users and POIs mappings\n",
        "poi_mapping = {index: i for i, index in enumerate(pois_df['venue_id'].unique())}\n",
        "user_mapping = {index: i for i, index in enumerate(checkins_df['user_id'].unique())}\n",
        "\n",
        "# Create POI-user edges\n",
        "edge_index, edge_label = create_user_poi_edges(\n",
        "    checkins_df,\n",
        "    src_index_col='user_id',\n",
        "    src_mapping=user_mapping,\n",
        "    dst_index_col='venue_id',\n",
        "    dst_mapping=poi_mapping,\n",
        ")\n",
        "\n",
        "# Create POI-POI edges\n",
        "poi_edge_index, poi_edge_weight = create_poi_edges(checkins_df, poi_mapping)\n",
        "\n",
        "# Create user-user edges\n",
        "user_edge_index, user_edge_weight = create_user_edges(checkins_df, user_mapping, poi_mapping)"
      ],
      "metadata": {
        "id": "_bxAOX0dW4CT"
      },
      "execution_count": null,
      "outputs": []
    },
    {
      "cell_type": "code",
      "source": [
        "# Function to create the graph data given the nodes, the edges and the mappings\n",
        "def create_graph_data(poi_features, user_mapping, poi_mapping, user_poi_edge_index,\n",
        "                      user_poi_edge_attr, user_poi_edge_label,\n",
        "                      poi_edge_index, poi_edge_weight,\n",
        "                      user_edge_index, user_edge_weight):\n",
        "\n",
        "    data = HeteroData()\n",
        "    data['user'].node_id = torch.arange(len(user_mapping))\n",
        "    data['user'].num_nodes = len(user_mapping)\n",
        "    data['poi'].node_id = torch.arange(len(poi_mapping))\n",
        "    data['poi'].x = poi_features\n",
        "\n",
        "    # User-POI edges\n",
        "    data['user', 'visits', 'poi'].edge_index = user_poi_edge_index\n",
        "    data['user', 'visits', 'poi'].edge_label = user_poi_edge_label\n",
        "    data['user', 'visits', 'poi'].edge_attr = user_poi_edge_attr\n",
        "\n",
        "    # User-User edges\n",
        "    data['user', 'common_pois', 'user'].edge_index = user_edge_index\n",
        "    data['user', 'common_pois', 'user'].edge_weight = user_edge_weight\n",
        "\n",
        "    # Create reverse edge type for User-User edges\n",
        "    reverse_user_edge_index = user_edge_index[[1, 0]]  # Flip source and destination\n",
        "    reverse_user_edge_weight = user_edge_weight  # Copy the edge weights\n",
        "\n",
        "    # Add reverse edges and attributes\n",
        "    data['user', 'rev_common_pois', 'user'].edge_index = reverse_user_edge_index\n",
        "    data['user', 'rev_common_pois', 'user'].edge_weight = reverse_user_edge_weight\n",
        "\n",
        "    # POI-POI edges\n",
        "    data['poi', 'sequential_visits', 'poi'].edge_index = poi_edge_index\n",
        "    data['poi', 'sequential_visits', 'poi'].edge_weight = poi_edge_weight\n",
        "\n",
        "    return data"
      ],
      "metadata": {
        "id": "1UoII6xavXX6"
      },
      "execution_count": null,
      "outputs": []
    },
    {
      "cell_type": "code",
      "source": [
        "# Create the graph data as a HeteroData object\n",
        "data = create_graph_data(\n",
        "    poi_features,\n",
        "    user_mapping,\n",
        "    poi_mapping,\n",
        "    edge_index,\n",
        "    edge_attr,\n",
        "    edge_label,\n",
        "    poi_edge_index,\n",
        "    poi_edge_weight,\n",
        "    user_edge_index,\n",
        "    user_edge_weight\n",
        ")"
      ],
      "metadata": {
        "id": "ZFDPmys5XcHp"
      },
      "execution_count": null,
      "outputs": []
    },
    {
      "cell_type": "markdown",
      "source": [
        "At this point I can split my graph data into train, validation and test sets.\n",
        "Because I will train the model for an edge prediction task, I will perform a split based on edges using **RandomLinkSplit**."
      ],
      "metadata": {
        "id": "AXp2xoV9Nvq2"
      }
    },
    {
      "cell_type": "code",
      "source": [
        "# Save graph data\n",
        "graph_path = '/content/drive/My Drive/datasets/POIs/graphs/'\n",
        "graph_path = os.path.join(graph_path, 'graph_data.pt')\n",
        "# torch.save(data, graph_path)"
      ],
      "metadata": {
        "id": "mJ5-0YdR1m-d"
      },
      "execution_count": null,
      "outputs": []
    },
    {
      "cell_type": "code",
      "source": [
        "# Load graph data\n",
        "data = torch.load(graph_path)"
      ],
      "metadata": {
        "id": "t0zUkKJg1st5",
        "colab": {
          "base_uri": "https://localhost:8080/"
        },
        "outputId": "373886ba-3b82-432e-d26c-d8463f62336d"
      },
      "execution_count": null,
      "outputs": [
        {
          "output_type": "stream",
          "name": "stderr",
          "text": [
            "<ipython-input-10-ccb521886e4a>:2: FutureWarning: You are using `torch.load` with `weights_only=False` (the current default value), which uses the default pickle module implicitly. It is possible to construct malicious pickle data which will execute arbitrary code during unpickling (See https://github.com/pytorch/pytorch/blob/main/SECURITY.md#untrusted-models for more details). In a future release, the default value for `weights_only` will be flipped to `True`. This limits the functions that could be executed during unpickling. Arbitrary objects will no longer be allowed to be loaded via this mode unless they are explicitly allowlisted by the user via `torch.serialization.add_safe_globals`. We recommend you start setting `weights_only=True` for any use case where you don't have full control of the loaded file. Please open an issue on GitHub for any issues related to this experimental feature.\n",
            "  data = torch.load(graph_path)\n"
          ]
        }
      ]
    },
    {
      "cell_type": "code",
      "source": [
        "data"
      ],
      "metadata": {
        "colab": {
          "base_uri": "https://localhost:8080/"
        },
        "id": "NaCT266-1oHs",
        "outputId": "e7e1e0a1-1d6b-4160-b521-c1976562507e",
        "collapsed": true
      },
      "execution_count": null,
      "outputs": [
        {
          "output_type": "execute_result",
          "data": {
            "text/plain": [
              "HeteroData(\n",
              "  user={\n",
              "    node_id=[21835],\n",
              "    num_nodes=21835,\n",
              "  },\n",
              "  poi={\n",
              "    node_id=[10815],\n",
              "    x=[10815, 1170],\n",
              "  },\n",
              "  (user, visits, poi)={\n",
              "    edge_index=[2, 1006938],\n",
              "    edge_label=[1006938],\n",
              "    edge_attr=[1006938],\n",
              "  },\n",
              "  (user, common_pois, user)={\n",
              "    edge_index=[2, 24149837],\n",
              "    edge_weight=[24149837],\n",
              "  },\n",
              "  (user, rev_common_pois, user)={\n",
              "    edge_index=[2, 24149837],\n",
              "    edge_weight=[24149837],\n",
              "  },\n",
              "  (poi, sequential_visits, poi)={\n",
              "    edge_index=[2, 381256],\n",
              "    edge_weight=[381256],\n",
              "  }\n",
              ")"
            ]
          },
          "metadata": {},
          "execution_count": 11
        }
      ]
    },
    {
      "cell_type": "code",
      "source": [
        "def temporal_split_edges(data, edge_type, train_ratio=0.7, val_ratio=0.15):\n",
        "    # Extract edges and timestamps for the specific edge type\n",
        "    edge_index = data[edge_type].edge_index\n",
        "    timestamps = data[edge_type].edge_attr\n",
        "\n",
        "    # Sort by timestamps\n",
        "    sorted_indices = torch.argsort(timestamps)\n",
        "    edge_index = edge_index[:, sorted_indices]\n",
        "    timestamps = timestamps[sorted_indices]\n",
        "\n",
        "    # Determine split points\n",
        "    num_edges = edge_index.size(1)\n",
        "    num_train = int(train_ratio * num_edges)\n",
        "    num_val = int(val_ratio * num_edges)\n",
        "\n",
        "    # Split into train, val, test edges\n",
        "    train_edges = edge_index[:, :num_train]\n",
        "    val_edges = edge_index[:, num_train:num_train + num_val]\n",
        "    test_edges = edge_index[:, num_train + num_val:]\n",
        "\n",
        "    # Create edge attribute splits (timestamps)\n",
        "    train_timestamps = timestamps[:num_train]\n",
        "    val_timestamps = timestamps[num_train:num_train + num_val]\n",
        "    test_timestamps = timestamps[num_train + num_val:]\n",
        "\n",
        "    return (train_edges, train_timestamps), (val_edges, val_timestamps), (test_edges, test_timestamps)"
      ],
      "metadata": {
        "id": "KWn9BuIapsEk"
      },
      "execution_count": null,
      "outputs": []
    },
    {
      "cell_type": "code",
      "source": [
        "# Split the edges between users and POIs\n",
        "(train_edges, train_timestamps), (val_edges, val_timestamps), (test_edges, test_timestamps) = temporal_split_edges(data, ('user', 'visits', 'poi'))"
      ],
      "metadata": {
        "id": "LY6KuRAXx_Xt"
      },
      "execution_count": null,
      "outputs": []
    },
    {
      "cell_type": "code",
      "source": [
        "train_data = data.clone()\n",
        "val_data = data.clone()\n",
        "test_data = data.clone()\n",
        "\n",
        "# Assign training edges\n",
        "train_data['user', 'visits', 'poi'].edge_index = train_edges\n",
        "train_data['user', 'visits', 'poi'].edge_attr = train_timestamps\n",
        "train_data['user', 'visits', 'poi'].edge_label = torch.ones(train_data['user', 'visits', 'poi'].edge_index.size(1), dtype=torch.long)\n",
        "\n",
        "# Assign validation edges\n",
        "val_data['user', 'visits', 'poi'].edge_index = val_edges\n",
        "val_data['user', 'visits', 'poi'].edge_attr = val_timestamps\n",
        "val_data['user', 'visits', 'poi'].edge_label = torch.ones(val_data['user', 'visits', 'poi'].edge_index.size(1), dtype=torch.long)\n",
        "\n",
        "# Assign test edges\n",
        "test_data['user', 'visits', 'poi'].edge_index = test_edges\n",
        "test_data['user', 'visits', 'poi'].edge_attr = test_timestamps\n",
        "test_data['user', 'visits', 'poi'].edge_label = torch.ones(test_data['user', 'visits', 'poi'].edge_index.size(1), dtype=torch.long)"
      ],
      "metadata": {
        "id": "b0685qQ2yQwn"
      },
      "execution_count": null,
      "outputs": []
    },
    {
      "cell_type": "markdown",
      "source": [
        "Finally, I will save the graph data in my drive."
      ],
      "metadata": {
        "id": "okwamEmrfpe6"
      }
    },
    {
      "cell_type": "code",
      "source": [
        "# Define the path\n",
        "graph_path = '/content/drive/My Drive/datasets/POIs/graphs/'\n",
        "train_path = os.path.join(graph_path, 'train_data.pt')\n",
        "val_path = os.path.join(graph_path, 'val_data.pt')\n",
        "test_path = os.path.join(graph_path, 'test_data.pt')"
      ],
      "metadata": {
        "id": "TnZQXjgqftA0"
      },
      "execution_count": 8,
      "outputs": []
    },
    {
      "cell_type": "code",
      "source": [
        "# Save the graph data\n",
        "torch.save(train_data, train_path)\n",
        "torch.save(val_data, val_path)\n",
        "torch.save(test_data, test_path)"
      ],
      "metadata": {
        "id": "OKmpaIavd2OW"
      },
      "execution_count": null,
      "outputs": []
    },
    {
      "cell_type": "code",
      "source": [
        "# Load graph data\n",
        "train_data = torch.load(train_path)\n",
        "val_data = torch.load(val_path)\n",
        "test_data = torch.load(test_path)"
      ],
      "metadata": {
        "id": "kG8Nxt9gN4nU",
        "colab": {
          "base_uri": "https://localhost:8080/"
        },
        "outputId": "953917ce-1633-43ba-d89e-67c3eb5e1b60"
      },
      "execution_count": 9,
      "outputs": [
        {
          "output_type": "stream",
          "name": "stderr",
          "text": [
            "<ipython-input-9-5e1c0360fd75>:2: FutureWarning: You are using `torch.load` with `weights_only=False` (the current default value), which uses the default pickle module implicitly. It is possible to construct malicious pickle data which will execute arbitrary code during unpickling (See https://github.com/pytorch/pytorch/blob/main/SECURITY.md#untrusted-models for more details). In a future release, the default value for `weights_only` will be flipped to `True`. This limits the functions that could be executed during unpickling. Arbitrary objects will no longer be allowed to be loaded via this mode unless they are explicitly allowlisted by the user via `torch.serialization.add_safe_globals`. We recommend you start setting `weights_only=True` for any use case where you don't have full control of the loaded file. Please open an issue on GitHub for any issues related to this experimental feature.\n",
            "  train_data = torch.load(train_path)\n",
            "<ipython-input-9-5e1c0360fd75>:3: FutureWarning: You are using `torch.load` with `weights_only=False` (the current default value), which uses the default pickle module implicitly. It is possible to construct malicious pickle data which will execute arbitrary code during unpickling (See https://github.com/pytorch/pytorch/blob/main/SECURITY.md#untrusted-models for more details). In a future release, the default value for `weights_only` will be flipped to `True`. This limits the functions that could be executed during unpickling. Arbitrary objects will no longer be allowed to be loaded via this mode unless they are explicitly allowlisted by the user via `torch.serialization.add_safe_globals`. We recommend you start setting `weights_only=True` for any use case where you don't have full control of the loaded file. Please open an issue on GitHub for any issues related to this experimental feature.\n",
            "  val_data = torch.load(val_path)\n",
            "<ipython-input-9-5e1c0360fd75>:4: FutureWarning: You are using `torch.load` with `weights_only=False` (the current default value), which uses the default pickle module implicitly. It is possible to construct malicious pickle data which will execute arbitrary code during unpickling (See https://github.com/pytorch/pytorch/blob/main/SECURITY.md#untrusted-models for more details). In a future release, the default value for `weights_only` will be flipped to `True`. This limits the functions that could be executed during unpickling. Arbitrary objects will no longer be allowed to be loaded via this mode unless they are explicitly allowlisted by the user via `torch.serialization.add_safe_globals`. We recommend you start setting `weights_only=True` for any use case where you don't have full control of the loaded file. Please open an issue on GitHub for any issues related to this experimental feature.\n",
            "  test_data = torch.load(test_path)\n"
          ]
        }
      ]
    },
    {
      "cell_type": "markdown",
      "source": [
        "Before defining and training my model, I need to organize the data in batches. Since I split the data based on edges, I will use **LinkNeighborLoader** to organize the edges of type **user visits poi** (the ones for which I want to make predictions) in batches.\n",
        "\n",
        "I will also generate 1 negative sample for each positive sample in all the batches. This is necessary because for now, in the graphs, there are only positive samples (i.e. I only have information about the confirmed check-ins) and the model needs also negative samples to learn effectively."
      ],
      "metadata": {
        "id": "g4vjUAsujsxs"
      }
    },
    {
      "cell_type": "code",
      "source": [
        "# Create the LinkNeighborLoader for training data\n",
        "train_loader = LinkNeighborLoader(\n",
        "    data=train_data,\n",
        "    num_neighbors=[15, 5, 10, 5],  # Number of neighbors for each layer\n",
        "    edge_label = train_data['user', 'visits', 'poi'].edge_label,\n",
        "    edge_label_index=(('user', 'visits', 'poi'), train_data['user', 'visits', 'poi'].edge_index),  # Type of edge based on which aggregate neighbors\n",
        "    batch_size=512,\n",
        "    shuffle=True,\n",
        "    neg_sampling=\"binary\"  # Add to the batch a number of negative samples equal to batch_size\n",
        ")\n",
        "\n",
        "# Create the LinkNeighborLoader for validation data\n",
        "val_loader = LinkNeighborLoader(\n",
        "    data=val_data,\n",
        "    num_neighbors=[15, 5, 10, 5],\n",
        "    edge_label = val_data['user', 'visits', 'poi'].edge_label,\n",
        "    edge_label_index=(('user', 'visits', 'poi'), val_data['user', 'visits', 'poi'].edge_index),\n",
        "    batch_size=512,\n",
        "    shuffle=False,\n",
        "    neg_sampling=\"binary\"\n",
        ")\n",
        "\n",
        "# Create the LinkNeighborLoader for test data\n",
        "test_loader = LinkNeighborLoader(\n",
        "    data=test_data,\n",
        "    num_neighbors=[15, 5, 10, 5],\n",
        "    edge_label = test_data['user', 'visits', 'poi'].edge_label,\n",
        "    edge_label_index=(('user', 'visits', 'poi'), test_data['user', 'visits', 'poi'].edge_index),\n",
        "    batch_size=512,\n",
        "    shuffle=False,\n",
        "    neg_sampling=\"binary\"\n",
        ")"
      ],
      "metadata": {
        "id": "xUrGUolDjsfE"
      },
      "execution_count": 10,
      "outputs": []
    },
    {
      "cell_type": "markdown",
      "source": [
        "## Graph Convolutional Network (GCN)"
      ],
      "metadata": {
        "id": "p6xkjOpwQZyw"
      }
    },
    {
      "cell_type": "markdown",
      "source": [
        "### Model implementation\n",
        "At this point, I need to define and implement the model that I will train for the task of edge prediction and then I will use for POIs Recommendation.\n",
        "\n",
        "In particular, it will be composed by the following components:\n",
        "\n",
        "1.   A module with 4 Linear layers, used to map the POIs features and the edge attributes and weights of the 3 types of edges to the dimension of the GNN layers.\n",
        "2.   An embedding layer, to learn embeddings for the users, for which I don’t have any feature.\n",
        "3.   A GNN module, composed by 2 couples of SAGEConv and GATConv layers, that takes in input the nodes embeddings and edge attributes and learns new nodes embeddings. The first 3 layers are followed by a ReLu function, a BatchNorm layer and a Dropout layer.\n",
        "4.   A final MLP classifier module, composed by 3 Linear layers with ReLu functions, followed by a softmax function, that takes in input the updated nodes embeddings and predicts probabilities for the edges between users and POIs."
      ],
      "metadata": {
        "id": "ODcXCZALtj-v"
      }
    },
    {
      "cell_type": "code",
      "source": [
        "class GNN(torch.nn.Module):\n",
        "    def __init__(self, in_channels, hidden_channels, out_channels, edge_attr_dim, heads=4, dropout=0.3):\n",
        "        super().__init__()\n",
        "        # First SAGEConv layer\n",
        "        self.conv1 = SAGEConv(in_channels, hidden_channels)\n",
        "        self.norm1 = BatchNorm(hidden_channels)\n",
        "        # First Attention layer\n",
        "        self.attn1 = GATConv(hidden_channels, hidden_channels, heads=heads, concat=False, edge_dim=edge_attr_dim, add_self_loops=False)\n",
        "        self.norm2 = BatchNorm(hidden_channels)\n",
        "        # Second SAGEConv layer\n",
        "        self.conv2 = SAGEConv(hidden_channels, hidden_channels)\n",
        "        self.norm3 = BatchNorm(hidden_channels)\n",
        "        # Second Attention layer\n",
        "        self.attn2 = GATConv(hidden_channels, out_channels, heads=heads, concat=False, edge_dim=edge_attr_dim, add_self_loops=False)\n",
        "        self.dropout = torch.nn.Dropout(dropout)\n",
        "\n",
        "    def forward(self, x, edge_index, edge_attr):\n",
        "        # SAGEConv Layer 1 with normalization and dropout\n",
        "        x = self.conv1(x, edge_index).relu()\n",
        "        x = self.norm1(x)\n",
        "        x = self.dropout(x)\n",
        "\n",
        "        # GAT Layer 1 with normalization and dropout\n",
        "        x = self.attn1(x, edge_index, edge_attr=edge_attr).relu()\n",
        "        x = self.norm2(x)\n",
        "        x = self.dropout(x)\n",
        "\n",
        "        # SAGEConv Layer 2 with normalization and dropout\n",
        "        x = self.conv2(x, edge_index).relu()\n",
        "        x = self.norm3(x)\n",
        "        x = self.dropout(x)\n",
        "\n",
        "        # GAT Layer 2\n",
        "        x = self.attn2(x, edge_index, edge_attr=edge_attr)\n",
        "\n",
        "        return x"
      ],
      "metadata": {
        "id": "oe9EtmYFN69x"
      },
      "execution_count": 12,
      "outputs": []
    },
    {
      "cell_type": "code",
      "source": [
        "class MLPClassifier(torch.nn.Module):\n",
        "    def __init__(self, input_dim, hidden_dim, output_dim=2):  # Output_dim is 2 for binary classification\n",
        "        super().__init__()\n",
        "        self.fc1 = Linear(input_dim, hidden_dim)\n",
        "        self.fc2 = Linear(hidden_dim, hidden_dim // 2)\n",
        "        self.fc3 = Linear(hidden_dim // 2, output_dim)\n",
        "\n",
        "    def forward(self, x_user, x_poi, edge_label_index):\n",
        "        # Convert node embeddings to edge-level representations:\n",
        "        edge_feat_user = x_user[edge_label_index[0]]\n",
        "        edge_feat_poi = x_poi[edge_label_index[1]]\n",
        "\n",
        "        # Combine node embeddings (Concatenation in this case)\n",
        "        edge_feat = torch.cat([edge_feat_user, edge_feat_poi], dim=-1)\n",
        "\n",
        "        # Pass through MLP layers\n",
        "        x = F.relu(self.fc1(edge_feat))\n",
        "        x = F.relu(self.fc2(x))\n",
        "        x = self.fc3(x)  # Raw scores for both classes\n",
        "\n",
        "        # Apply softmax to get probabilities\n",
        "        return F.softmax(x, dim=-1)"
      ],
      "metadata": {
        "id": "gfoKl4Y8deoI"
      },
      "execution_count": 13,
      "outputs": []
    },
    {
      "cell_type": "code",
      "source": [
        "class POIRecommender(torch.nn.Module):\n",
        "    def __init__(self, hidden_channels, poi_features_dim, edge_features_dim, hidden_dim=64, heads=4, dropout=0.3):\n",
        "        super().__init__()\n",
        "        # Linear layers to map poi features, edge features and edge weights to hidden_channels dimension\n",
        "        self.map_lin = torch.nn.ModuleDict({\n",
        "            'poi_features': torch.nn.Linear(poi_features_dim, hidden_channels),\n",
        "            'user_poi_attr': torch.nn.Linear(edge_features_dim['user_visits_poi'], hidden_channels),\n",
        "            'poi_poi_attr': torch.nn.Linear(edge_features_dim['poi_sequential_visits_poi'], hidden_channels),\n",
        "            'user_user_attr': torch.nn.Linear(edge_features_dim['user_common_pois_user'], hidden_channels)\n",
        "        })\n",
        "        # Embedding layer to learn user embeddings with hidden_channels dimension\n",
        "        self.user_emb = torch.nn.Embedding(train_data[\"user\"].num_nodes, hidden_channels)\n",
        "        # GNN module to update nodes embeddings\n",
        "        self.gnn = GNN(hidden_channels, hidden_channels, hidden_channels, edge_attr_dim=hidden_channels, heads=heads, dropout=dropout)\n",
        "        self.gnn = to_hetero(self.gnn, metadata=train_data.metadata())\n",
        "        # MLP classifier takes concatenated user-poi embeddings, so input_dim = 2 * hidden_channels\n",
        "        self.classifier = MLPClassifier(input_dim=2 * hidden_channels, hidden_dim=hidden_dim)\n",
        "\n",
        "    def forward(self, data):\n",
        "        # Initialize embeddings for users and POIs\n",
        "        x_dict = {\n",
        "            \"user\": self.user_emb(data[\"user\"].n_id),\n",
        "            \"poi\": self.map_lin['poi_features'](data[\"poi\"].x),\n",
        "        }\n",
        "\n",
        "        # Get edge attributes and build a dictionary\n",
        "        edge_attr_user_poi = data['user', 'visits', 'poi'].edge_attr.view(-1,1)\n",
        "        edge_weight_poi_poi = data['poi', 'sequential_visits', 'poi'].edge_weight.view(-1,1)\n",
        "        edge_weight_user_user = data['user', 'common_pois', 'user'].edge_weight.view(-1,1)\n",
        "        edge_weight_user_user_rev = data['user', 'rev_common_pois', 'user'].edge_weight.view(-1,1)\n",
        "\n",
        "        edge_attr_dict = {\n",
        "            ('user', 'visits', 'poi'): self.map_lin['user_poi_attr'](edge_attr_user_poi),\n",
        "            ('user', 'common_pois', 'user'): self.map_lin['user_user_attr'](edge_weight_user_user),\n",
        "            ('user', 'rev_common_pois', 'user'): self.map_lin['user_user_attr'](edge_weight_user_user_rev),\n",
        "            ('poi', 'sequential_visits', 'poi'): self.map_lin['poi_poi_attr'](edge_weight_poi_poi)\n",
        "        }\n",
        "\n",
        "        # Obtain node embeddings using the GNN\n",
        "        x_dict = self.gnn(x_dict, data.edge_index_dict, edge_attr_dict)\n",
        "\n",
        "        # Use the MLP classifier to predict link probabilities\n",
        "        pred = self.classifier(\n",
        "            x_dict[\"user\"],\n",
        "            x_dict[\"poi\"],\n",
        "            data[\"user\", \"visits\", \"poi\"].edge_label_index,\n",
        "        )\n",
        "\n",
        "        return pred"
      ],
      "metadata": {
        "id": "xwMrb_inRsWp"
      },
      "execution_count": 14,
      "outputs": []
    },
    {
      "cell_type": "code",
      "source": [
        "# Define dimensions of edge attributes\n",
        "edge_features_dim = {\n",
        "    'user_visits_poi': train_data['user', 'visits', 'poi'].edge_attr.view(-1,1).size(-1),\n",
        "    'poi_sequential_visits_poi': train_data['poi', 'sequential_visits', 'poi'].edge_weight.view(-1,1).size(-1),\n",
        "    'user_common_pois_user': train_data['user', 'common_pois', 'user'].edge_weight.view(-1,1).size(-1)\n",
        "}\n",
        "\n",
        "# Define dimensions of poi features\n",
        "poi_features_dim=train_data['poi'].x.size(-1)"
      ],
      "metadata": {
        "id": "15JLPFUOtDV5"
      },
      "execution_count": 15,
      "outputs": []
    },
    {
      "cell_type": "code",
      "source": [
        "# Define the model and attach it to the GPU\n",
        "device = torch.device('cuda' if torch.cuda.is_available() else 'cpu')\n",
        "model = POIRecommender(hidden_channels=64, poi_features_dim=poi_features_dim, edge_features_dim=edge_features_dim)\n",
        "model = model.to(device)\n",
        "print(model)"
      ],
      "metadata": {
        "colab": {
          "base_uri": "https://localhost:8080/"
        },
        "id": "EIIwfKwpPIVX",
        "outputId": "e1717fe3-9cc0-41c8-e016-308144b2ada1",
        "collapsed": true
      },
      "execution_count": 16,
      "outputs": [
        {
          "output_type": "stream",
          "name": "stdout",
          "text": [
            "POIRecommender(\n",
            "  (map_lin): ModuleDict(\n",
            "    (poi_features): Linear(in_features=1170, out_features=64, bias=True)\n",
            "    (user_poi_attr): Linear(in_features=1, out_features=64, bias=True)\n",
            "    (poi_poi_attr): Linear(in_features=1, out_features=64, bias=True)\n",
            "    (user_user_attr): Linear(in_features=1, out_features=64, bias=True)\n",
            "  )\n",
            "  (user_emb): Embedding(21835, 64)\n",
            "  (gnn): GraphModule(\n",
            "    (conv1): ModuleDict(\n",
            "      (user__visits__poi): SAGEConv(64, 64, aggr=mean)\n",
            "      (user__common_pois__user): SAGEConv(64, 64, aggr=mean)\n",
            "      (user__rev_common_pois__user): SAGEConv(64, 64, aggr=mean)\n",
            "      (poi__sequential_visits__poi): SAGEConv(64, 64, aggr=mean)\n",
            "    )\n",
            "    (norm1): ModuleDict(\n",
            "      (user): BatchNorm(64, eps=1e-05, momentum=0.1, affine=True, track_running_stats=True)\n",
            "      (poi): BatchNorm(64, eps=1e-05, momentum=0.1, affine=True, track_running_stats=True)\n",
            "    )\n",
            "    (dropout): ModuleDict(\n",
            "      (user): Dropout(p=0.3, inplace=False)\n",
            "      (poi): Dropout(p=0.3, inplace=False)\n",
            "    )\n",
            "    (attn1): ModuleDict(\n",
            "      (user__visits__poi): GATConv(64, 64, heads=4)\n",
            "      (user__common_pois__user): GATConv(64, 64, heads=4)\n",
            "      (user__rev_common_pois__user): GATConv(64, 64, heads=4)\n",
            "      (poi__sequential_visits__poi): GATConv(64, 64, heads=4)\n",
            "    )\n",
            "    (norm2): ModuleDict(\n",
            "      (user): BatchNorm(64, eps=1e-05, momentum=0.1, affine=True, track_running_stats=True)\n",
            "      (poi): BatchNorm(64, eps=1e-05, momentum=0.1, affine=True, track_running_stats=True)\n",
            "    )\n",
            "    (conv2): ModuleDict(\n",
            "      (user__visits__poi): SAGEConv(64, 64, aggr=mean)\n",
            "      (user__common_pois__user): SAGEConv(64, 64, aggr=mean)\n",
            "      (user__rev_common_pois__user): SAGEConv(64, 64, aggr=mean)\n",
            "      (poi__sequential_visits__poi): SAGEConv(64, 64, aggr=mean)\n",
            "    )\n",
            "    (norm3): ModuleDict(\n",
            "      (user): BatchNorm(64, eps=1e-05, momentum=0.1, affine=True, track_running_stats=True)\n",
            "      (poi): BatchNorm(64, eps=1e-05, momentum=0.1, affine=True, track_running_stats=True)\n",
            "    )\n",
            "    (attn2): ModuleDict(\n",
            "      (user__visits__poi): GATConv(64, 64, heads=4)\n",
            "      (user__common_pois__user): GATConv(64, 64, heads=4)\n",
            "      (user__rev_common_pois__user): GATConv(64, 64, heads=4)\n",
            "      (poi__sequential_visits__poi): GATConv(64, 64, heads=4)\n",
            "    )\n",
            "  )\n",
            "  (classifier): MLPClassifier(\n",
            "    (fc1): Linear(in_features=128, out_features=64, bias=True)\n",
            "    (fc2): Linear(in_features=64, out_features=32, bias=True)\n",
            "    (fc3): Linear(in_features=32, out_features=2, bias=True)\n",
            "  )\n",
            ")\n"
          ]
        }
      ]
    },
    {
      "cell_type": "markdown",
      "source": [
        "### Training and Validation\n",
        "\n",
        "At this point, I can finally define the train and validation cycles and train my model."
      ],
      "metadata": {
        "id": "D6Tj1rRst07j"
      }
    },
    {
      "cell_type": "code",
      "source": [
        "# Implement train cycle\n",
        "def train(model, loader, optimizer, criterion):\n",
        "    model.train()\n",
        "    total_loss = 0\n",
        "\n",
        "    for batch in loader:\n",
        "        batch = batch.to(device)\n",
        "        optimizer.zero_grad()\n",
        "        out = model(batch)\n",
        "        loss = criterion(out, batch[\"user\", \"visits\", \"poi\"].edge_label)\n",
        "        loss.backward()\n",
        "        optimizer.step()\n",
        "        total_loss += loss.item()\n",
        "\n",
        "    return total_loss / len(loader)"
      ],
      "metadata": {
        "id": "J5fKdZ1PDCo8"
      },
      "execution_count": null,
      "outputs": []
    },
    {
      "cell_type": "markdown",
      "source": [
        "To evaluate the performance of my model on the validation set, I've decided to use as metrics, **accuracy**, **f1-score**, **roc-auc-score** and **average-precision**."
      ],
      "metadata": {
        "id": "V1nIhthDZYeD"
      }
    },
    {
      "cell_type": "code",
      "source": [
        "# Implement validation cycle\n",
        "def evaluate(model, loader, criterion):\n",
        "    model.eval()\n",
        "    total_loss = 0\n",
        "    all_preds = []\n",
        "    all_labels = []\n",
        "    all_probs = []\n",
        "\n",
        "    with torch.no_grad():\n",
        "        for batch in loader:\n",
        "            batch = batch.to(device)\n",
        "            out = model(batch)\n",
        "\n",
        "            # Calculate loss\n",
        "            loss = criterion(out, batch[\"user\", \"visits\", \"poi\"].edge_label)\n",
        "            total_loss += loss.item()\n",
        "\n",
        "            # Get the predicted class\n",
        "            pred_classes = np.argmax(out.cpu().numpy(), axis=1)\n",
        "\n",
        "            # Get the true labels\n",
        "            labels = batch[\"user\", \"visits\", \"poi\"].edge_label.cpu().numpy()\n",
        "\n",
        "            # Store predictions and labels\n",
        "            all_preds.append(pred_classes)\n",
        "            all_labels.append(labels)\n",
        "\n",
        "            # Store the probabilities for the positive class\n",
        "            probs = out[:, 1].cpu().numpy()\n",
        "            all_probs.append(probs)\n",
        "\n",
        "    avg_loss = total_loss / len(loader)\n",
        "\n",
        "    # Concatenate all predictions and labels\n",
        "    all_preds = np.concatenate(all_preds)\n",
        "    all_labels = np.concatenate(all_labels)\n",
        "    all_probs = np.concatenate(all_probs)\n",
        "\n",
        "    # Calculate accuracy\n",
        "    accuracy = accuracy_score(all_labels, all_preds)\n",
        "\n",
        "    # Calculate F1 score\n",
        "    f1 = f1_score(all_labels, all_preds, average='binary')  # 'binary' for binary classification\n",
        "\n",
        "    # Calculate roc_auc_score\n",
        "    roc_auc = roc_auc_score(all_labels, all_probs)\n",
        "\n",
        "    # Calculate average_precision_score\n",
        "    average_precision = average_precision_score(all_labels, all_probs)\n",
        "\n",
        "    return avg_loss, accuracy, f1, roc_auc, average_precision"
      ],
      "metadata": {
        "id": "XIAzK3Cmh8ws"
      },
      "execution_count": null,
      "outputs": []
    },
    {
      "cell_type": "markdown",
      "source": [
        "Finally, I will implement a function that incorporates both train and validation cycles with **EarlyStopping**."
      ],
      "metadata": {
        "id": "Rq62Ylc1aFeS"
      }
    },
    {
      "cell_type": "code",
      "source": [
        "# Define save path to save the best model\n",
        "path = '/content/drive/My Drive/datasets/POIs/graphs/'\n",
        "model_name = 'model.pth'\n",
        "model_path = os.path.join(path, model_name)\n",
        "\n",
        "# Define function for training and validation with early-stopping\n",
        "def train_and_validate(model, train_loader, val_loader, optimizer, criterion, num_epochs, patience=10):\n",
        "    best_val_loss = float('inf')\n",
        "    patience_counter = 0\n",
        "    train_losses = []\n",
        "    val_losses = []\n",
        "    accuracy_scores = []\n",
        "    f1_scores = []\n",
        "    roc_auc_scores = []\n",
        "    average_precision_scores = []\n",
        "\n",
        "    for epoch in range(num_epochs):\n",
        "        # Training step\n",
        "        train_loss = train(model, train_loader, optimizer, criterion)\n",
        "\n",
        "        # Validation step\n",
        "        val_loss, accuracy, f1, roc_auc, average_precision = evaluate(model, val_loader, criterion)\n",
        "\n",
        "        train_losses.append(train_loss)\n",
        "        val_losses.append(val_loss)\n",
        "        accuracy_scores.append(accuracy)\n",
        "        f1_scores.append(f1)\n",
        "        roc_auc_scores.append(roc_auc)\n",
        "        average_precision_scores.append(average_precision)\n",
        "\n",
        "        print(f'Epoch {epoch + 1}/{num_epochs}, Train Loss: {train_loss:.4f}, '\n",
        "              f'Validation Loss: {val_loss:.4f}, Validation Accuracy: {accuracy:.4f}, '\n",
        "              f'Validation F1: {f1:.4f}, Validation ROC-AUC: {roc_auc:.4f}, '\n",
        "              f'Validation Average Precision: {average_precision:.4f}')\n",
        "\n",
        "        # Early stopping check\n",
        "        if val_loss < best_val_loss:\n",
        "            best_val_loss = val_loss\n",
        "            patience_counter = 0  # Reset counter if validation loss improves\n",
        "            torch.save(model.state_dict(), model_path)  # Save the best model\n",
        "        else:\n",
        "            patience_counter += 1\n",
        "\n",
        "        if patience_counter >= patience:\n",
        "            print(f'Early stopping at epoch {epoch + 1}')\n",
        "            break\n",
        "\n",
        "    # Load the best model\n",
        "    model.load_state_dict(torch.load(model_path))\n",
        "    return model, train_losses, val_losses, accuracy_scores, f1_scores, roc_auc_scores, average_precision_scores"
      ],
      "metadata": {
        "id": "CzNwqG9CiZB7"
      },
      "execution_count": 17,
      "outputs": []
    },
    {
      "cell_type": "markdown",
      "source": [
        "Let's train the model."
      ],
      "metadata": {
        "id": "qeOeIGK1cJo0"
      }
    },
    {
      "cell_type": "code",
      "source": [
        "# Define optimizer and loss function\n",
        "optimizer = torch.optim.Adam(model.parameters(), lr=0.001)\n",
        "criterion = torch.nn.CrossEntropyLoss()\n",
        "\n",
        "# Define number of epochs to train the model\n",
        "epochs = 30\n",
        "\n",
        "# Train and validate the model\n",
        "best_model, train_losses, val_losses, accuracy_scores, f1_scores, roc_auc_scores, average_precision_scores  = train_and_validate(model, train_loader, val_loader, optimizer, criterion, num_epochs=epochs)"
      ],
      "metadata": {
        "colab": {
          "base_uri": "https://localhost:8080/"
        },
        "id": "l6Mbn4z8cM3K",
        "outputId": "48bc104e-82b5-440d-e4ea-2e81c5162294",
        "collapsed": true
      },
      "execution_count": null,
      "outputs": [
        {
          "output_type": "stream",
          "name": "stdout",
          "text": [
            "Epoch 1/30, Train Loss: 0.5748, Validation Loss: 0.5230, Validation Accuracy: 0.7799, Validation F1: 0.7732, Validation ROC-AUC: 0.8459, Validation Average Precision: 0.8173\n",
            "Epoch 2/30, Train Loss: 0.5086, Validation Loss: 0.4664, Validation Accuracy: 0.8361, Validation F1: 0.8488, Validation ROC-AUC: 0.9251, Validation Average Precision: 0.9148\n",
            "Epoch 3/30, Train Loss: 0.4698, Validation Loss: 0.4499, Validation Accuracy: 0.8546, Validation F1: 0.8622, Validation ROC-AUC: 0.9373, Validation Average Precision: 0.9335\n",
            "Epoch 4/30, Train Loss: 0.4562, Validation Loss: 0.4443, Validation Accuracy: 0.8607, Validation F1: 0.8666, Validation ROC-AUC: 0.9393, Validation Average Precision: 0.9341\n",
            "Epoch 5/30, Train Loss: 0.4430, Validation Loss: 0.4294, Validation Accuracy: 0.8774, Validation F1: 0.8816, Validation ROC-AUC: 0.9503, Validation Average Precision: 0.9457\n",
            "Epoch 6/30, Train Loss: 0.4303, Validation Loss: 0.4289, Validation Accuracy: 0.8788, Validation F1: 0.8821, Validation ROC-AUC: 0.9445, Validation Average Precision: 0.9318\n",
            "Epoch 7/30, Train Loss: 0.4222, Validation Loss: 0.4122, Validation Accuracy: 0.8957, Validation F1: 0.8993, Validation ROC-AUC: 0.9623, Validation Average Precision: 0.9588\n",
            "Epoch 8/30, Train Loss: 0.4188, Validation Loss: 0.4103, Validation Accuracy: 0.8984, Validation F1: 0.9025, Validation ROC-AUC: 0.9635, Validation Average Precision: 0.9591\n",
            "Epoch 9/30, Train Loss: 0.4132, Validation Loss: 0.4073, Validation Accuracy: 0.9010, Validation F1: 0.9014, Validation ROC-AUC: 0.9654, Validation Average Precision: 0.9623\n",
            "Epoch 10/30, Train Loss: 0.4098, Validation Loss: 0.3998, Validation Accuracy: 0.9095, Validation F1: 0.9111, Validation ROC-AUC: 0.9678, Validation Average Precision: 0.9631\n",
            "Epoch 11/30, Train Loss: 0.4072, Validation Loss: 0.4022, Validation Accuracy: 0.9071, Validation F1: 0.9108, Validation ROC-AUC: 0.9672, Validation Average Precision: 0.9605\n",
            "Epoch 12/30, Train Loss: 0.4057, Validation Loss: 0.3971, Validation Accuracy: 0.9123, Validation F1: 0.9140, Validation ROC-AUC: 0.9712, Validation Average Precision: 0.9676\n",
            "Epoch 13/30, Train Loss: 0.4035, Validation Loss: 0.3948, Validation Accuracy: 0.9149, Validation F1: 0.9175, Validation ROC-AUC: 0.9719, Validation Average Precision: 0.9673\n",
            "Epoch 14/30, Train Loss: 0.4019, Validation Loss: 0.3944, Validation Accuracy: 0.9151, Validation F1: 0.9174, Validation ROC-AUC: 0.9737, Validation Average Precision: 0.9709\n",
            "Epoch 15/30, Train Loss: 0.4009, Validation Loss: 0.3961, Validation Accuracy: 0.9128, Validation F1: 0.9130, Validation ROC-AUC: 0.9717, Validation Average Precision: 0.9689\n",
            "Epoch 16/30, Train Loss: 0.4001, Validation Loss: 0.3904, Validation Accuracy: 0.9194, Validation F1: 0.9215, Validation ROC-AUC: 0.9746, Validation Average Precision: 0.9707\n",
            "Epoch 17/30, Train Loss: 0.3986, Validation Loss: 0.3905, Validation Accuracy: 0.9189, Validation F1: 0.9209, Validation ROC-AUC: 0.9750, Validation Average Precision: 0.9713\n",
            "Epoch 18/30, Train Loss: 0.3975, Validation Loss: 0.3907, Validation Accuracy: 0.9190, Validation F1: 0.9205, Validation ROC-AUC: 0.9742, Validation Average Precision: 0.9707\n",
            "Epoch 19/30, Train Loss: 0.3966, Validation Loss: 0.3894, Validation Accuracy: 0.9204, Validation F1: 0.9225, Validation ROC-AUC: 0.9754, Validation Average Precision: 0.9721\n",
            "Epoch 20/30, Train Loss: 0.3963, Validation Loss: 0.3891, Validation Accuracy: 0.9209, Validation F1: 0.9232, Validation ROC-AUC: 0.9756, Validation Average Precision: 0.9718\n",
            "Epoch 21/30, Train Loss: 0.3955, Validation Loss: 0.3921, Validation Accuracy: 0.9175, Validation F1: 0.9202, Validation ROC-AUC: 0.9736, Validation Average Precision: 0.9687\n",
            "Epoch 22/30, Train Loss: 0.3946, Validation Loss: 0.3879, Validation Accuracy: 0.9220, Validation F1: 0.9242, Validation ROC-AUC: 0.9749, Validation Average Precision: 0.9688\n",
            "Epoch 23/30, Train Loss: 0.3943, Validation Loss: 0.3883, Validation Accuracy: 0.9218, Validation F1: 0.9239, Validation ROC-AUC: 0.9751, Validation Average Precision: 0.9695\n",
            "Epoch 24/30, Train Loss: 0.3936, Validation Loss: 0.3871, Validation Accuracy: 0.9232, Validation F1: 0.9249, Validation ROC-AUC: 0.9755, Validation Average Precision: 0.9712\n",
            "Epoch 25/30, Train Loss: 0.3925, Validation Loss: 0.3859, Validation Accuracy: 0.9244, Validation F1: 0.9264, Validation ROC-AUC: 0.9768, Validation Average Precision: 0.9724\n",
            "Epoch 26/30, Train Loss: 0.3930, Validation Loss: 0.3904, Validation Accuracy: 0.9200, Validation F1: 0.9225, Validation ROC-AUC: 0.9741, Validation Average Precision: 0.9683\n",
            "Epoch 27/30, Train Loss: 0.3928, Validation Loss: 0.3870, Validation Accuracy: 0.9232, Validation F1: 0.9248, Validation ROC-AUC: 0.9754, Validation Average Precision: 0.9708\n",
            "Epoch 28/30, Train Loss: 0.3920, Validation Loss: 0.3846, Validation Accuracy: 0.9254, Validation F1: 0.9272, Validation ROC-AUC: 0.9767, Validation Average Precision: 0.9724\n",
            "Epoch 29/30, Train Loss: 0.3911, Validation Loss: 0.3852, Validation Accuracy: 0.9250, Validation F1: 0.9267, Validation ROC-AUC: 0.9767, Validation Average Precision: 0.9724\n",
            "Epoch 30/30, Train Loss: 0.3906, Validation Loss: 0.3838, Validation Accuracy: 0.9262, Validation F1: 0.9281, Validation ROC-AUC: 0.9781, Validation Average Precision: 0.9740\n"
          ]
        },
        {
          "output_type": "stream",
          "name": "stderr",
          "text": [
            "<ipython-input-18-6f821b1bfc42>:49: FutureWarning: You are using `torch.load` with `weights_only=False` (the current default value), which uses the default pickle module implicitly. It is possible to construct malicious pickle data which will execute arbitrary code during unpickling (See https://github.com/pytorch/pytorch/blob/main/SECURITY.md#untrusted-models for more details). In a future release, the default value for `weights_only` will be flipped to `True`. This limits the functions that could be executed during unpickling. Arbitrary objects will no longer be allowed to be loaded via this mode unless they are explicitly allowlisted by the user via `torch.serialization.add_safe_globals`. We recommend you start setting `weights_only=True` for any use case where you don't have full control of the loaded file. Please open an issue on GitHub for any issues related to this experimental feature.\n",
            "  model.load_state_dict(torch.load(model_path))\n"
          ]
        }
      ]
    },
    {
      "cell_type": "code",
      "source": [
        "# Plot train loss and validation loss curves\n",
        "plt.plot(train_losses, label='Train Loss')\n",
        "plt.plot(val_losses, label='Validation Loss')\n",
        "plt.xlabel('Epoch')\n",
        "plt.ylabel('Loss')\n",
        "plt.legend()\n",
        "plt.show()"
      ],
      "metadata": {
        "id": "kQTH25VikshN",
        "colab": {
          "base_uri": "https://localhost:8080/",
          "height": 211
        },
        "outputId": "943ea4c4-a60a-4383-e393-6a60c49d23d8",
        "collapsed": true
      },
      "execution_count": null,
      "outputs": [
        {
          "output_type": "error",
          "ename": "NameError",
          "evalue": "name 'plt' is not defined",
          "traceback": [
            "\u001b[0;31m---------------------------------------------------------------------------\u001b[0m",
            "\u001b[0;31mNameError\u001b[0m                                 Traceback (most recent call last)",
            "\u001b[0;32m<ipython-input-1-d6a2684b5c99>\u001b[0m in \u001b[0;36m<cell line: 2>\u001b[0;34m()\u001b[0m\n\u001b[1;32m      1\u001b[0m \u001b[0;31m# Plot train loss and validation loss curves\u001b[0m\u001b[0;34m\u001b[0m\u001b[0;34m\u001b[0m\u001b[0m\n\u001b[0;32m----> 2\u001b[0;31m \u001b[0mplt\u001b[0m\u001b[0;34m.\u001b[0m\u001b[0mplot\u001b[0m\u001b[0;34m(\u001b[0m\u001b[0mtrain_losses\u001b[0m\u001b[0;34m,\u001b[0m \u001b[0mlabel\u001b[0m\u001b[0;34m=\u001b[0m\u001b[0;34m'Train Loss'\u001b[0m\u001b[0;34m)\u001b[0m\u001b[0;34m\u001b[0m\u001b[0;34m\u001b[0m\u001b[0m\n\u001b[0m\u001b[1;32m      3\u001b[0m \u001b[0mplt\u001b[0m\u001b[0;34m.\u001b[0m\u001b[0mplot\u001b[0m\u001b[0;34m(\u001b[0m\u001b[0mval_losses\u001b[0m\u001b[0;34m,\u001b[0m \u001b[0mlabel\u001b[0m\u001b[0;34m=\u001b[0m\u001b[0;34m'Validation Loss'\u001b[0m\u001b[0;34m)\u001b[0m\u001b[0;34m\u001b[0m\u001b[0;34m\u001b[0m\u001b[0m\n\u001b[1;32m      4\u001b[0m \u001b[0mplt\u001b[0m\u001b[0;34m.\u001b[0m\u001b[0mxlabel\u001b[0m\u001b[0;34m(\u001b[0m\u001b[0;34m'Epoch'\u001b[0m\u001b[0;34m)\u001b[0m\u001b[0;34m\u001b[0m\u001b[0;34m\u001b[0m\u001b[0m\n\u001b[1;32m      5\u001b[0m \u001b[0mplt\u001b[0m\u001b[0;34m.\u001b[0m\u001b[0mylabel\u001b[0m\u001b[0;34m(\u001b[0m\u001b[0;34m'Loss'\u001b[0m\u001b[0;34m)\u001b[0m\u001b[0;34m\u001b[0m\u001b[0;34m\u001b[0m\u001b[0m\n",
            "\u001b[0;31mNameError\u001b[0m: name 'plt' is not defined"
          ]
        }
      ]
    },
    {
      "cell_type": "code",
      "source": [
        "# Create a plot with accuracy, f1-score, roc-auc-score and average-precision curves\n",
        "plt.figure(figsize=(6, 4))\n",
        "plt.plot(accuracy_scores, label='Accuracy')\n",
        "plt.plot(f1_scores, label='F1-Score')\n",
        "plt.plot(roc_auc_scores, label='ROC AUC')\n",
        "plt.plot(average_precision_scores, label='Average Precision')\n",
        "plt.xlabel('Epoch')\n",
        "plt.ylabel('Score')\n",
        "plt.legend()\n",
        "plt.title('Model Performance Metrics')\n",
        "plt.show()"
      ],
      "metadata": {
        "colab": {
          "base_uri": "https://localhost:8080/",
          "height": 410
        },
        "id": "sePv8REVxssj",
        "outputId": "ebea73f8-d191-440c-855e-b3b2459d420d"
      },
      "execution_count": null,
      "outputs": [
        {
          "output_type": "display_data",
          "data": {
            "text/plain": [
              "<Figure size 600x400 with 1 Axes>"
            ],
            "image/png": "[encoded data removed]"
          },
          "metadata": {}
        }
      ]
    },
    {
      "cell_type": "markdown",
      "source": [
        "### Test and Itinerary Recommendation\n",
        "\n",
        "Now I will evaluate the performance of my model in predicting the edges in the test set."
      ],
      "metadata": {
        "id": "5P8t2XS7itpn"
      }
    },
    {
      "cell_type": "code",
      "source": [
        "# Evaluate the model on the test data\n",
        "test_loss, test_accuracy, test_f1, test_roc_auc, test_average_precision = evaluate(best_model, test_loader, criterion)\n",
        "print(f'Test Loss: {test_loss:.4f}')\n",
        "print(f'Test Accuracy: {test_accuracy:.4f}')\n",
        "print(f'Test F1: {test_f1:.4f}')\n",
        "print(f'Test ROC-AUC: {test_roc_auc:.4f}')\n",
        "print(f'Test Average Precision: {test_average_precision:.4f}')"
      ],
      "metadata": {
        "colab": {
          "base_uri": "https://localhost:8080/"
        },
        "id": "_veW3J5jgTqV",
        "outputId": "c936d547-7a20-4c26-e0b9-c24994d34d2f"
      },
      "execution_count": null,
      "outputs": [
        {
          "output_type": "stream",
          "name": "stdout",
          "text": [
            "Test Loss: 0.4093\n",
            "Test Accuracy: 0.8984\n",
            "Test F1: 0.9010\n",
            "Test ROC-AUC: 0.9652\n",
            "Test Average Precision: 0.9643\n"
          ]
        }
      ]
    },
    {
      "cell_type": "markdown",
      "source": [
        "Finally, I can use the trained model to generate POIs recommendations to build an itinerary for a given user.\n",
        "\n",
        "In particular, I will:\n",
        "\n",
        "1.   Use the GNN module to compute embeddings for all users and POIs.\n",
        "2.   Choose a specific user and pick its embedding.\n",
        "3.   Use the classifier module to output the edge between the user and the most probable POI, which will be the recommendation.\n"
      ],
      "metadata": {
        "id": "Mjbf2_vY9wV_"
      }
    },
    {
      "cell_type": "code",
      "source": [
        "# Load the saved best model from drive and attach to gpu\n",
        "model.load_state_dict(torch.load(model_path, map_location=torch.device('cpu')))\n",
        "model = model.to(device)"
      ],
      "metadata": {
        "colab": {
          "base_uri": "https://localhost:8080/"
        },
        "id": "QnYTU0J8iK95",
        "outputId": "d1d030ca-e9e0-4983-ca43-4823c4cebf08"
      },
      "execution_count": 18,
      "outputs": [
        {
          "output_type": "stream",
          "name": "stderr",
          "text": [
            "<ipython-input-18-f79117b36ad2>:2: FutureWarning: You are using `torch.load` with `weights_only=False` (the current default value), which uses the default pickle module implicitly. It is possible to construct malicious pickle data which will execute arbitrary code during unpickling (See https://github.com/pytorch/pytorch/blob/main/SECURITY.md#untrusted-models for more details). In a future release, the default value for `weights_only` will be flipped to `True`. This limits the functions that could be executed during unpickling. Arbitrary objects will no longer be allowed to be loaded via this mode unless they are explicitly allowlisted by the user via `torch.serialization.add_safe_globals`. We recommend you start setting `weights_only=True` for any use case where you don't have full control of the loaded file. Please open an issue on GitHub for any issues related to this experimental feature.\n",
            "  model.load_state_dict(torch.load(model_path, map_location=torch.device('cpu')))\n"
          ]
        }
      ]
    },
    {
      "cell_type": "markdown",
      "source": [
        "Let's compute the representations for all users and POIs in the test data."
      ],
      "metadata": {
        "id": "e9aq73B2EKko"
      }
    },
    {
      "cell_type": "code",
      "source": [
        "# Initialize containers for x_dict\n",
        "num_users = test_data['user'].node_id.size(0)  # Total number of users\n",
        "num_pois = test_data['poi'].x.size(0)   # Total number of POIs\n",
        "\n",
        "# Create empty tensors for embeddings\n",
        "user_embeddings = torch.zeros((num_users, 64), device=device)  # Adjust dimensions as needed\n",
        "poi_embeddings = torch.zeros((num_pois, 64), device=device)\n",
        "\n",
        "model.eval()  # Set the model to evaluation mode\n",
        "\n",
        "with torch.no_grad():\n",
        "    for batch in test_loader:\n",
        "        # Move batch data to the appropriate device (if necessary)\n",
        "        batch = batch.to(device)\n",
        "\n",
        "        # Compute initial embeddings for the batch\n",
        "        batch_user_embeddings = model.user_emb(batch['user'].n_id)\n",
        "        batch_poi_embeddings = model.map_lin['poi_features'](batch['poi'].x)\n",
        "\n",
        "        # Define x_dict for this batch\n",
        "        x_dict_batch = {'user': batch_user_embeddings, 'poi': batch_poi_embeddings}\n",
        "\n",
        "        # Get edge attributes and build a dictionary\n",
        "        edge_attr_user_poi = batch['user', 'visits', 'poi'].edge_attr.view(-1,1)\n",
        "        edge_weight_poi_poi = batch['poi', 'sequential_visits', 'poi'].edge_weight.view(-1,1)\n",
        "        edge_weight_user_user = batch['user', 'common_pois', 'user'].edge_weight.view(-1,1)\n",
        "        edge_weight_user_user_rev = batch['user', 'rev_common_pois', 'user'].edge_weight.view(-1,1)\n",
        "\n",
        "        # Get edge attributes and build edge_attr_dict for this batch\n",
        "        edge_attr_dict = {\n",
        "            ('user', 'visits', 'poi'): model.map_lin['user_poi_attr'](edge_attr_user_poi),\n",
        "            ('user', 'common_pois', 'user'): model.map_lin['user_user_attr'](edge_weight_user_user),\n",
        "            ('user', 'rev_common_pois', 'user'): model.map_lin['user_user_attr'](edge_weight_user_user_rev),\n",
        "            ('poi', 'sequential_visits', 'poi'): model.map_lin['poi_poi_attr'](edge_weight_poi_poi)\n",
        "        }\n",
        "\n",
        "        # Pass through the GNN to get updated embeddings\n",
        "        x_dict_batch = model.gnn(x_dict_batch, batch.edge_index_dict, edge_attr_dict)\n",
        "\n",
        "         # Update the global user and POI embeddings using node IDs in the batch\n",
        "        user_batch_indices = batch.n_id_dict['user']\n",
        "        poi_batch_indices = batch.n_id_dict['poi']\n",
        "        user_embeddings[user_batch_indices] = x_dict_batch['user']\n",
        "        poi_embeddings[poi_batch_indices] = x_dict_batch['poi']\n",
        "\n",
        "# Recreate x_dict with updated embeddings\n",
        "x_dict = {'user': user_embeddings, 'poi': poi_embeddings}"
      ],
      "metadata": {
        "id": "iUi6tAhEEgzA"
      },
      "execution_count": 19,
      "outputs": []
    },
    {
      "cell_type": "code",
      "source": [
        "# Function to recommend a POI or an itinerary of POIs\n",
        "def recommend_poi(user_id, pois_df, top_k=3, itinerary=False):\n",
        "\n",
        "  # Get the embedding of the specified user and of all the pois, along with the venue ids\n",
        "  user_embedding = x_dict['user'][user_id].unsqueeze(0)\n",
        "  poi_embeddings = x_dict['poi']\n",
        "  poi_indices = [poi_mapping[venue_id] for venue_id in pois_df['venue_id'].values if venue_id in poi_mapping]\n",
        "  poi_embeddings = poi_embeddings[poi_indices]\n",
        "  # Replicate the user embedding to match the number of POIs\n",
        "  user_embeddings_repeated = user_embedding.repeat(poi_embeddings.size(0), 1)\n",
        "\n",
        "  # Concatenate user and POI embeddings to form input for the classifier\n",
        "  edge_features = torch.cat([user_embeddings_repeated, poi_embeddings], dim=-1)\n",
        "\n",
        "  # Compute scores for all POIs using the trained MLP classifier\n",
        "  with torch.no_grad():\n",
        "        scores = model.classifier.fc1(edge_features).relu()\n",
        "        scores = model.classifier.fc2(scores).relu()\n",
        "        scores = model.classifier.fc3(scores)\n",
        "\n",
        "  # Get the scores for class \"1\" (positive class)\n",
        "  positive_scores = scores[:, 1]\n",
        "\n",
        "  # Get the top-k POIs with the highest scores\n",
        "  top_k_indices = torch.topk(positive_scores, top_k).indices\n",
        "\n",
        "  top_k_poi_ids = [poi_indices[idx] for idx in top_k_indices.tolist()]\n",
        "\n",
        "  if itinerary:\n",
        "    return top_k_poi_ids\n",
        "\n",
        "  # Randomly choose of of the top-k pois to recommend\n",
        "  top_k_poi_id = random.choice(top_k_poi_ids)\n",
        "\n",
        "  return top_k_poi_id"
      ],
      "metadata": {
        "id": "KwkAdMUmFdJd"
      },
      "execution_count": 20,
      "outputs": []
    },
    {
      "cell_type": "code",
      "source": [
        "# Function to display information for a single POI\n",
        "def display_poi_info(poi, prefix=\"POI\"):\n",
        "    # Revert back to the original index\n",
        "    poi_id = poi_mapping_inv[poi]\n",
        "    # Get POI details\n",
        "    poi_name = pois_df[pois_df['venue_id'] == poi_id]['name'].values[0]\n",
        "    poi_category = pois_df[pois_df['venue_id'] == poi_id]['venue_category_name'].values[0]\n",
        "    poi_city = pois_df[pois_df['venue_id'] == poi_id]['city'].values[0]\n",
        "    # Print information with the appropriate prefix\n",
        "    print(f\"{prefix}: {poi_name} ({poi_category}) in {poi_city}\")\n",
        "\n",
        "# Function to display an itinerary of POIs\n",
        "def display_itinerary(pois):\n",
        "    for idx, poi in enumerate(pois, start=1):\n",
        "        prefix = f\"POI {idx}\"\n",
        "        display_poi_info(poi, prefix=prefix)"
      ],
      "metadata": {
        "id": "0XeozMXBb2kk"
      },
      "execution_count": 34,
      "outputs": []
    },
    {
      "cell_type": "code",
      "source": [
        "# Create users and POIs mappings to convert ids into integers\n",
        "user_mapping = {index: i for i, index in enumerate(checkins_df['user_id'].unique())}\n",
        "user_mapping_inv = {v: k for k, v in user_mapping.items()}\n",
        "poi_mapping = {index: i for i, index in enumerate(pois_df['venue_id'].unique())}\n",
        "poi_mapping_inv = {v: k for k, v in poi_mapping.items()}"
      ],
      "metadata": {
        "id": "QC-p02Li8ymq"
      },
      "execution_count": 22,
      "outputs": []
    },
    {
      "cell_type": "markdown",
      "source": [
        "Let's try to make a recommendation. In particular, for how I defined the recommendation function, I can choice to recommend a single POI, or also an itinerary of POIs. Let's try with an itinerary."
      ],
      "metadata": {
        "id": "ZSmjEhRKUIlt"
      }
    },
    {
      "cell_type": "code",
      "source": [
        "# Choice 3 random users from the test data\n",
        "user_ids = random.sample((test_data['user'].node_id.unique().tolist()), 3)\n",
        "# Recommend an itinerary of POIs\n",
        "for user_id in user_ids:\n",
        "  recommended_pois = recommend_poi(user_id, pois_df, top_k=3, itinerary=True)\n",
        "  # Show POI details\n",
        "  print(f\"Itinerary for user {user_id}:\")\n",
        "  display_itinerary(recommended_pois)"
      ],
      "metadata": {
        "colab": {
          "base_uri": "https://localhost:8080/"
        },
        "id": "KixH1vOcVr7p",
        "outputId": "df788702-1948-45b6-b210-0d0feaacf8ed"
      },
      "execution_count": 35,
      "outputs": [
        {
          "output_type": "stream",
          "name": "stdout",
          "text": [
            "Itinerary for user 2302:\n",
            "POI 1: BSI Exhibits (Office) in Garnet Valley\n",
            "POI 2: Quail Ridge Apartments (Home (private)) in Raleigh\n",
            "POI 3: The Casa (Home (private)) in Galena Park\n",
            "Itinerary for user 3790:\n",
            "POI 1: Paradise Rock Club (Rock Club) in Boston\n",
            "POI 2: Memphis International Airport (MEM) (Airport) in Memphis\n",
            "POI 3: Starbucks (Coffee Shop) in Burlington\n",
            "Itinerary for user 18704:\n",
            "POI 1: Stericycle (Building) in Baltimore\n",
            "POI 2: thomas' home (Home (private)) in No city available\n",
            "POI 3: Greenbelt Yard (Government Building) in Greenbelt\n"
          ]
        }
      ]
    },
    {
      "cell_type": "markdown",
      "source": [
        "As it is possible to notice, the model is able to generate recommendations\n",
        "\n",
        "At this point, I can also implement some constraints that I can use to guide the recommendation process; in particular, I decided to implement 3 types of constraints: **city**, **category** and **distance**. I have decided to implement a new function that filters the pois_df based on the constraints and then calls recommend_poi function passing the filtered df."
      ],
      "metadata": {
        "id": "AU7JrhVdhILW"
      }
    },
    {
      "cell_type": "code",
      "source": [
        "def recommend_with_constraints(user_id, pois_df, constraints, top_k=3, itinerary=False):\n",
        "\n",
        "  # Check if the various constraints are set\n",
        "  if constraints['city'] is not None:\n",
        "    pois_df = pois_df[pois_df['city'] == constraints['city']]\n",
        "  if constraints['categories'] is not None:\n",
        "    pois_df = pois_df[pois_df['venue_category_name'].str.contains('|'.join(constraints['categories']))]\n",
        "  if constraints['user_location'] is not None and constraints['distance'] is not None:\n",
        "    lat, lon = constraints['user_location']\n",
        "    distance = constraints['distance']\n",
        "    pois_df = pois_df[pois_df.apply(lambda row: compute_distance(lat, lon, row['latitude'], row['longitude']), axis=1) <= distance]\n",
        "\n",
        "  # Recommend a poi or an itinerary of pois belonging to the filtered df\n",
        "  return recommend_poi(user_id, pois_df, top_k, itinerary)"
      ],
      "metadata": {
        "id": "8s6T_DW5Yb7-"
      },
      "execution_count": 24,
      "outputs": []
    },
    {
      "cell_type": "code",
      "source": [
        "# Function to compute distance between 2 locations, given lat and long\n",
        "def compute_distance(lat1, lon1, lat2, lon2):\n",
        "\n",
        "  # Convert degrees to radians\n",
        "  lat1 = np.radians(lat1)\n",
        "  lon1 = np.radians(lon1)\n",
        "  lat2 = np.radians(lat2)\n",
        "  lon2 = np.radians(lon2)\n",
        "\n",
        "  # Haversine formula\n",
        "  dlon = lon2 - lon1\n",
        "  dlat = lat2 - lat1\n",
        "  a = np.sin(dlat / 2)**2 + np.cos(lat1) * np.cos(lat2) * np.sin(dlon / 2)**2\n",
        "  c = 2 * np.arctan2(np.sqrt(a), np.sqrt(1 - a))\n",
        "  radius_of_earth = 6371  # Radius of the Earth in kilometers\n",
        "  distance = radius_of_earth * c\n",
        "\n",
        "  return distance"
      ],
      "metadata": {
        "id": "rF92Fn5rnOvc"
      },
      "execution_count": 25,
      "outputs": []
    },
    {
      "cell_type": "markdown",
      "source": [
        "Now, let's try to generate recommendations with the city constraint."
      ],
      "metadata": {
        "id": "D4joQc-gRX2Q"
      }
    },
    {
      "cell_type": "code",
      "source": [
        "# Define constraints\n",
        "constraints = {\n",
        "    'city': 'New York',\n",
        "    'categories': None,\n",
        "    'user_location': None,\n",
        "    'distance': None\n",
        "}"
      ],
      "metadata": {
        "id": "b6pPogEdS7_W"
      },
      "execution_count": 26,
      "outputs": []
    },
    {
      "cell_type": "code",
      "source": [
        "# Generate an itinerary of 5 POIs in New York City\n",
        "recommended_itinerary = recommend_with_constraints(user_id, pois_df, constraints, top_k=5, itinerary=True)\n",
        "display_itinerary(recommended_itinerary)"
      ],
      "metadata": {
        "id": "03Em0aSPIb5r",
        "colab": {
          "base_uri": "https://localhost:8080/"
        },
        "outputId": "db3b45a9-dedd-420f-d1ba-1917f64dacce"
      },
      "execution_count": 27,
      "outputs": [
        {
          "output_type": "stream",
          "name": "stdout",
          "text": [
            "POI: The Halal Guys (Food Truck) in New York\n",
            "POI: Museum of Sex (Museum) in New York\n",
            "POI: The Bean (Coffee Shop) in New York\n",
            "POI: Chelsea Market (Market) in New York\n",
            "POI: Industry Bar (Gay Bar) in New York\n"
          ]
        }
      ]
    },
    {
      "cell_type": "markdown",
      "source": [
        "Now let's also try to impose a distance constraint: in particular, I will take as representatives of the user current position, the latitude and longitude of the last visited POI."
      ],
      "metadata": {
        "id": "WGeUz6b5fnAI"
      }
    },
    {
      "cell_type": "code",
      "source": [
        "# Take a random user\n",
        "user_id = random.choice(user_ids)\n",
        "\n",
        "# Define max distance\n",
        "distance = 50.0\n",
        "\n",
        "# Take the last POI visited by the user from the checkins_df\n",
        "last_poi_visited = checkins_df[checkins_df['user_id'] == user_mapping_inv[user_id]]['venue_id'].values[-1]\n",
        "\n",
        "# Get latitude and longitude of the POI from the pois_df\n",
        "last_poi_lat = pois_df[pois_df['venue_id'] == last_poi_visited]['latitude'].values[0]\n",
        "last_poi_lon = pois_df[pois_df['venue_id'] == last_poi_visited]['longitude'].values[0]\n",
        "\n",
        "# Define constraints\n",
        "constraints = {\n",
        "    'city': None,\n",
        "    'categories': None,\n",
        "    'user_location': (last_poi_lat, last_poi_lon),\n",
        "    'distance': distance\n",
        "}"
      ],
      "metadata": {
        "id": "Xr5yh5zwf6A1"
      },
      "execution_count": 28,
      "outputs": []
    },
    {
      "cell_type": "code",
      "source": [
        "# Generate an itinerary of 3 POIs with distance from the position of the last POI visited <= max_distance\n",
        "recommended_itinerary = recommend_with_constraints(user_id, pois_df, constraints, top_k=5, itinerary=True)\n",
        "display_itinerary(recommended_itinerary)"
      ],
      "metadata": {
        "id": "lYVMJPOomjRI",
        "collapsed": true,
        "colab": {
          "base_uri": "https://localhost:8080/"
        },
        "outputId": "4002e8c8-d4a0-44dd-8073-93bddae5308a"
      },
      "execution_count": 29,
      "outputs": [
        {
          "output_type": "stream",
          "name": "stdout",
          "text": [
            "POI: Technology Support Center (College Technology Building) in Atlanta\n",
            "POI: Syscom Technologies (Office) in Marietta\n",
            "POI: Interstate 20 (Road) in Atlanta\n",
            "POI: Allure at Brookwood (Residential Building (Apartment / Condo)) in Atlanta\n",
            "POI: MARTA - Lindbergh Center Station (Light Rail) in Atlanta\n"
          ]
        }
      ]
    },
    {
      "cell_type": "markdown",
      "source": [
        "Now, let's try to use the category constraint."
      ],
      "metadata": {
        "id": "CLCNHgzzi1M-"
      }
    },
    {
      "cell_type": "code",
      "source": [
        "# Define constraints\n",
        "constraints = {\n",
        "    'city': None,\n",
        "    'categories': ['Park'],\n",
        "    'user_location': None,\n",
        "    'distance': None\n",
        "}"
      ],
      "metadata": {
        "id": "p7W4dQLmi_Xb"
      },
      "execution_count": 30,
      "outputs": []
    },
    {
      "cell_type": "code",
      "source": [
        "# Generate an itinerary of 5 POIs with category 'Park'\n",
        "recommended_itinerary = recommend_with_constraints(user_id, pois_df, constraints, top_k=5, itinerary=True)\n",
        "display_itinerary(recommended_itinerary)"
      ],
      "metadata": {
        "id": "T2xCNgOFjUYw",
        "colab": {
          "base_uri": "https://localhost:8080/"
        },
        "outputId": "f9741fe3-2770-4623-a134-5a36864534c9"
      },
      "execution_count": 31,
      "outputs": [
        {
          "output_type": "stream",
          "name": "stdout",
          "text": [
            "POI: Loring Park (Park) in Minneapolis\n",
            "POI: Centennial Olympic Park (Park) in Atlanta\n",
            "POI: Stone Mountain Park (Park) in Stone Mountain\n",
            "POI: Turner Field - Blue Lot (Parking) in Atlanta\n",
            "POI: Piedmont Park (Park) in Atlanta\n"
          ]
        }
      ]
    },
    {
      "cell_type": "markdown",
      "source": [
        "Finally, let's try to combine 2 constraints togheter, like city and category, specifying in this case multiple categories."
      ],
      "metadata": {
        "id": "k4kQV-4V_9G1"
      }
    },
    {
      "cell_type": "code",
      "source": [
        "# Define constraints\n",
        "constraints = {\n",
        "    'city': 'New York',\n",
        "    'categories': ['Museum', 'History', 'Art'],\n",
        "    'user_location': None,\n",
        "    'distance': None\n",
        "}"
      ],
      "metadata": {
        "id": "M2F85soqACh3"
      },
      "execution_count": 32,
      "outputs": []
    },
    {
      "cell_type": "code",
      "source": [
        "# Generate an itinerary of 5 POIs with city and category constraints\n",
        "recommended_itinerary = recommend_with_constraints(user_id, pois_df, constraints, top_k=5, itinerary=True)\n",
        "display_itinerary(recommended_itinerary)"
      ],
      "metadata": {
        "id": "mbqaQi2PDoFQ",
        "colab": {
          "base_uri": "https://localhost:8080/"
        },
        "outputId": "54d89674-414d-4612-ce7c-35b63088adf4"
      },
      "execution_count": 33,
      "outputs": [
        {
          "output_type": "stream",
          "name": "stdout",
          "text": [
            "POI: Metropolitan Museum of Art (Art Museum) in New York\n",
            "POI: Museum of Modern Art (MoMA) (Art Museum) in New York\n",
            "POI: TODAY Show (Performing Arts Venue) in New York\n",
            "POI: Whitney Museum of American Art (Art Museum) in New York\n",
            "POI: Solomon R. Guggenheim Museum (Art Museum) in New York\n"
          ]
        }
      ]
    },
    {
      "cell_type": "markdown",
      "source": [
        "## Conclusions\n",
        "As it is possible to see from the above experiments, the model in general is able to generate useful recommendations for possible itineraries, especially when imposing the constraints. It should also be noticed that the recommendations are not perfect, but I have only trained my model for 30 epochs because of the time needed. So, it is very likely that, in the future, with the correct adjustments, my model could become a very good model, able to generate very useul recommendations. Despite all of this, I think that my model, at the current time, is quite good at recommending possible travel itineraries."
      ],
      "metadata": {
        "id": "GUYy11HGEURW"
      }
    }
  ]
}